{
 "cells": [
  {
   "cell_type": "code",
   "execution_count": 1,
   "id": "ad260319",
   "metadata": {},
   "outputs": [],
   "source": [
    "import pandas as pd\n",
    "import numpy as np\n",
    "import seaborn as sns\n",
    "import matplotlib.pyplot as plt\n",
    "from statsmodels.stats.outliers_influence import variance_inflation_factor\n",
    "from mlxtend.feature_selection import SequentialFeatureSelector as sfs\n",
    "from sklearn.model_selection import train_test_split\n",
    "import statsmodels.api as sm\n",
    "from sklearn.metrics import accuracy_score,cohen_kappa_score,classification_report,f1_score"
   ]
  },
  {
   "cell_type": "code",
   "execution_count": 2,
   "id": "5fa7616b",
   "metadata": {},
   "outputs": [],
   "source": [
    "base = pd.read_csv('entire_dataset.csv')\n",
    "df = base.copy(deep = True)"
   ]
  },
  {
   "cell_type": "code",
   "execution_count": 3,
   "id": "e4ecd3ba",
   "metadata": {},
   "outputs": [
    {
     "data": {
      "text/plain": [
       "(1309, 9)"
      ]
     },
     "execution_count": 3,
     "metadata": {},
     "output_type": "execute_result"
    }
   ],
   "source": [
    "base.shape"
   ]
  },
  {
   "cell_type": "code",
   "execution_count": 4,
   "id": "5c0fc452",
   "metadata": {},
   "outputs": [
    {
     "data": {
      "text/html": [
       "<div>\n",
       "<style scoped>\n",
       "    .dataframe tbody tr th:only-of-type {\n",
       "        vertical-align: middle;\n",
       "    }\n",
       "\n",
       "    .dataframe tbody tr th {\n",
       "        vertical-align: top;\n",
       "    }\n",
       "\n",
       "    .dataframe thead th {\n",
       "        text-align: right;\n",
       "    }\n",
       "</style>\n",
       "<table border=\"1\" class=\"dataframe\">\n",
       "  <thead>\n",
       "    <tr style=\"text-align: right;\">\n",
       "      <th></th>\n",
       "      <th>Survived</th>\n",
       "      <th>Pclass</th>\n",
       "      <th>Sex</th>\n",
       "      <th>Age</th>\n",
       "      <th>SibSp</th>\n",
       "      <th>Parch</th>\n",
       "      <th>Fare</th>\n",
       "      <th>Cabin</th>\n",
       "      <th>Embarked</th>\n",
       "    </tr>\n",
       "  </thead>\n",
       "  <tbody>\n",
       "    <tr>\n",
       "      <th>0</th>\n",
       "      <td>0</td>\n",
       "      <td>3</td>\n",
       "      <td>male</td>\n",
       "      <td>22.0</td>\n",
       "      <td>1</td>\n",
       "      <td>0</td>\n",
       "      <td>7.2500</td>\n",
       "      <td>NaN</td>\n",
       "      <td>S</td>\n",
       "    </tr>\n",
       "    <tr>\n",
       "      <th>1</th>\n",
       "      <td>1</td>\n",
       "      <td>1</td>\n",
       "      <td>female</td>\n",
       "      <td>38.0</td>\n",
       "      <td>1</td>\n",
       "      <td>0</td>\n",
       "      <td>71.2833</td>\n",
       "      <td>C85</td>\n",
       "      <td>C</td>\n",
       "    </tr>\n",
       "    <tr>\n",
       "      <th>2</th>\n",
       "      <td>1</td>\n",
       "      <td>3</td>\n",
       "      <td>female</td>\n",
       "      <td>26.0</td>\n",
       "      <td>0</td>\n",
       "      <td>0</td>\n",
       "      <td>7.9250</td>\n",
       "      <td>NaN</td>\n",
       "      <td>S</td>\n",
       "    </tr>\n",
       "    <tr>\n",
       "      <th>3</th>\n",
       "      <td>1</td>\n",
       "      <td>1</td>\n",
       "      <td>female</td>\n",
       "      <td>35.0</td>\n",
       "      <td>1</td>\n",
       "      <td>0</td>\n",
       "      <td>53.1000</td>\n",
       "      <td>C123</td>\n",
       "      <td>S</td>\n",
       "    </tr>\n",
       "    <tr>\n",
       "      <th>4</th>\n",
       "      <td>0</td>\n",
       "      <td>3</td>\n",
       "      <td>male</td>\n",
       "      <td>35.0</td>\n",
       "      <td>0</td>\n",
       "      <td>0</td>\n",
       "      <td>8.0500</td>\n",
       "      <td>NaN</td>\n",
       "      <td>S</td>\n",
       "    </tr>\n",
       "  </tbody>\n",
       "</table>\n",
       "</div>"
      ],
      "text/plain": [
       "   Survived  Pclass     Sex   Age  SibSp  Parch     Fare Cabin Embarked\n",
       "0         0       3    male  22.0      1      0   7.2500   NaN        S\n",
       "1         1       1  female  38.0      1      0  71.2833   C85        C\n",
       "2         1       3  female  26.0      0      0   7.9250   NaN        S\n",
       "3         1       1  female  35.0      1      0  53.1000  C123        S\n",
       "4         0       3    male  35.0      0      0   8.0500   NaN        S"
      ]
     },
     "execution_count": 4,
     "metadata": {},
     "output_type": "execute_result"
    }
   ],
   "source": [
    "df.head()"
   ]
  },
  {
   "cell_type": "code",
   "execution_count": 5,
   "id": "32330d36",
   "metadata": {},
   "outputs": [],
   "source": [
    "# Null value treatment"
   ]
  },
  {
   "cell_type": "code",
   "execution_count": 6,
   "id": "bfdcc4ab",
   "metadata": {
    "scrolled": true
   },
   "outputs": [
    {
     "data": {
      "text/plain": [
       "Survived     0.000000\n",
       "Pclass       0.000000\n",
       "Sex          0.000000\n",
       "Age         20.091673\n",
       "SibSp        0.000000\n",
       "Parch        0.000000\n",
       "Fare         0.076394\n",
       "Cabin       77.463713\n",
       "Embarked     0.152788\n",
       "dtype: float64"
      ]
     },
     "execution_count": 6,
     "metadata": {},
     "output_type": "execute_result"
    }
   ],
   "source": [
    "(df.isnull().sum() / len(df))*100"
   ]
  },
  {
   "cell_type": "markdown",
   "id": "12786dea",
   "metadata": {},
   "source": [
    "Inference : The column 'age' and 'cabin' are missing from the dataset. As the dataset, Cabin has more than 77% of null values. We can go ahead and drop the column. whereas the column 'Age' can be imputed based on the median proportions based on gender sub class - Male and Female because of 20% data is null. Dropping off the rows for the columns 'Fare','Embarekd' have null values are less than 1%."
   ]
  },
  {
   "cell_type": "code",
   "execution_count": 7,
   "id": "e8790d78",
   "metadata": {},
   "outputs": [],
   "source": [
    "# conditional Filling of the column \"age\" based on the gender column"
   ]
  },
  {
   "cell_type": "code",
   "execution_count": 8,
   "id": "ab55ed11",
   "metadata": {},
   "outputs": [],
   "source": [
    "median = df.groupby(['Sex'])['Age'].median()"
   ]
  },
  {
   "cell_type": "code",
   "execution_count": 9,
   "id": "5fad876d",
   "metadata": {
    "scrolled": true
   },
   "outputs": [],
   "source": [
    "df.set_index('Sex', inplace=True)"
   ]
  },
  {
   "cell_type": "code",
   "execution_count": 10,
   "id": "cc89f738",
   "metadata": {},
   "outputs": [],
   "source": [
    "df['Age'].fillna(median, inplace = True)"
   ]
  },
  {
   "cell_type": "code",
   "execution_count": 11,
   "id": "8b3535ac",
   "metadata": {},
   "outputs": [],
   "source": [
    "df.reset_index(inplace=True)"
   ]
  },
  {
   "cell_type": "code",
   "execution_count": 12,
   "id": "96c52a8b",
   "metadata": {},
   "outputs": [],
   "source": [
    "# drop off a column"
   ]
  },
  {
   "cell_type": "code",
   "execution_count": 13,
   "id": "ccac5503",
   "metadata": {},
   "outputs": [],
   "source": [
    "df.drop(columns=['Cabin'], axis = 1, inplace = True)"
   ]
  },
  {
   "cell_type": "code",
   "execution_count": 14,
   "id": "b3196cf7",
   "metadata": {},
   "outputs": [],
   "source": [
    "# drop off a row"
   ]
  },
  {
   "cell_type": "code",
   "execution_count": 15,
   "id": "7f65d86d",
   "metadata": {},
   "outputs": [],
   "source": [
    "df.dropna(subset=['Fare','Embarked'], axis = 0, inplace = True)"
   ]
  },
  {
   "cell_type": "code",
   "execution_count": 16,
   "id": "aadfbd84",
   "metadata": {},
   "outputs": [
    {
     "data": {
      "text/plain": [
       "Sex         0\n",
       "Survived    0\n",
       "Pclass      0\n",
       "Age         0\n",
       "SibSp       0\n",
       "Parch       0\n",
       "Fare        0\n",
       "Embarked    0\n",
       "dtype: int64"
      ]
     },
     "execution_count": 16,
     "metadata": {},
     "output_type": "execute_result"
    }
   ],
   "source": [
    "df.isnull().sum()"
   ]
  },
  {
   "cell_type": "code",
   "execution_count": 17,
   "id": "ed8edbaa",
   "metadata": {},
   "outputs": [],
   "source": [
    "# Categorical Imputation "
   ]
  },
  {
   "cell_type": "code",
   "execution_count": 18,
   "id": "1f4e3fab",
   "metadata": {},
   "outputs": [],
   "source": [
    "obj = df.select_dtypes(object)\n",
    "num = df.select_dtypes(np.number)"
   ]
  },
  {
   "cell_type": "code",
   "execution_count": 19,
   "id": "20a3c574",
   "metadata": {},
   "outputs": [],
   "source": [
    "obj_encoded = pd.get_dummies(data = obj, drop_first=True)"
   ]
  },
  {
   "cell_type": "code",
   "execution_count": 20,
   "id": "54bb2d12",
   "metadata": {},
   "outputs": [],
   "source": [
    "df_enc = pd.concat([obj_encoded,num], axis = 1)"
   ]
  },
  {
   "cell_type": "code",
   "execution_count": 21,
   "id": "19963f12",
   "metadata": {
    "scrolled": true
   },
   "outputs": [
    {
     "data": {
      "text/html": [
       "<div>\n",
       "<style scoped>\n",
       "    .dataframe tbody tr th:only-of-type {\n",
       "        vertical-align: middle;\n",
       "    }\n",
       "\n",
       "    .dataframe tbody tr th {\n",
       "        vertical-align: top;\n",
       "    }\n",
       "\n",
       "    .dataframe thead th {\n",
       "        text-align: right;\n",
       "    }\n",
       "</style>\n",
       "<table border=\"1\" class=\"dataframe\">\n",
       "  <thead>\n",
       "    <tr style=\"text-align: right;\">\n",
       "      <th></th>\n",
       "      <th>Sex_male</th>\n",
       "      <th>Embarked_Q</th>\n",
       "      <th>Embarked_S</th>\n",
       "      <th>Survived</th>\n",
       "      <th>Pclass</th>\n",
       "      <th>Age</th>\n",
       "      <th>SibSp</th>\n",
       "      <th>Parch</th>\n",
       "      <th>Fare</th>\n",
       "    </tr>\n",
       "  </thead>\n",
       "  <tbody>\n",
       "    <tr>\n",
       "      <th>0</th>\n",
       "      <td>1</td>\n",
       "      <td>0</td>\n",
       "      <td>1</td>\n",
       "      <td>0</td>\n",
       "      <td>3</td>\n",
       "      <td>22.0</td>\n",
       "      <td>1</td>\n",
       "      <td>0</td>\n",
       "      <td>7.2500</td>\n",
       "    </tr>\n",
       "    <tr>\n",
       "      <th>1</th>\n",
       "      <td>0</td>\n",
       "      <td>0</td>\n",
       "      <td>0</td>\n",
       "      <td>1</td>\n",
       "      <td>1</td>\n",
       "      <td>38.0</td>\n",
       "      <td>1</td>\n",
       "      <td>0</td>\n",
       "      <td>71.2833</td>\n",
       "    </tr>\n",
       "    <tr>\n",
       "      <th>2</th>\n",
       "      <td>0</td>\n",
       "      <td>0</td>\n",
       "      <td>1</td>\n",
       "      <td>1</td>\n",
       "      <td>3</td>\n",
       "      <td>26.0</td>\n",
       "      <td>0</td>\n",
       "      <td>0</td>\n",
       "      <td>7.9250</td>\n",
       "    </tr>\n",
       "    <tr>\n",
       "      <th>3</th>\n",
       "      <td>0</td>\n",
       "      <td>0</td>\n",
       "      <td>1</td>\n",
       "      <td>1</td>\n",
       "      <td>1</td>\n",
       "      <td>35.0</td>\n",
       "      <td>1</td>\n",
       "      <td>0</td>\n",
       "      <td>53.1000</td>\n",
       "    </tr>\n",
       "    <tr>\n",
       "      <th>4</th>\n",
       "      <td>1</td>\n",
       "      <td>0</td>\n",
       "      <td>1</td>\n",
       "      <td>0</td>\n",
       "      <td>3</td>\n",
       "      <td>35.0</td>\n",
       "      <td>0</td>\n",
       "      <td>0</td>\n",
       "      <td>8.0500</td>\n",
       "    </tr>\n",
       "    <tr>\n",
       "      <th>...</th>\n",
       "      <td>...</td>\n",
       "      <td>...</td>\n",
       "      <td>...</td>\n",
       "      <td>...</td>\n",
       "      <td>...</td>\n",
       "      <td>...</td>\n",
       "      <td>...</td>\n",
       "      <td>...</td>\n",
       "      <td>...</td>\n",
       "    </tr>\n",
       "    <tr>\n",
       "      <th>1304</th>\n",
       "      <td>1</td>\n",
       "      <td>0</td>\n",
       "      <td>1</td>\n",
       "      <td>0</td>\n",
       "      <td>3</td>\n",
       "      <td>28.0</td>\n",
       "      <td>0</td>\n",
       "      <td>0</td>\n",
       "      <td>8.0500</td>\n",
       "    </tr>\n",
       "    <tr>\n",
       "      <th>1305</th>\n",
       "      <td>0</td>\n",
       "      <td>0</td>\n",
       "      <td>0</td>\n",
       "      <td>1</td>\n",
       "      <td>1</td>\n",
       "      <td>39.0</td>\n",
       "      <td>0</td>\n",
       "      <td>0</td>\n",
       "      <td>108.9000</td>\n",
       "    </tr>\n",
       "    <tr>\n",
       "      <th>1306</th>\n",
       "      <td>1</td>\n",
       "      <td>0</td>\n",
       "      <td>1</td>\n",
       "      <td>0</td>\n",
       "      <td>3</td>\n",
       "      <td>38.5</td>\n",
       "      <td>0</td>\n",
       "      <td>0</td>\n",
       "      <td>7.2500</td>\n",
       "    </tr>\n",
       "    <tr>\n",
       "      <th>1307</th>\n",
       "      <td>1</td>\n",
       "      <td>0</td>\n",
       "      <td>1</td>\n",
       "      <td>0</td>\n",
       "      <td>3</td>\n",
       "      <td>28.0</td>\n",
       "      <td>0</td>\n",
       "      <td>0</td>\n",
       "      <td>8.0500</td>\n",
       "    </tr>\n",
       "    <tr>\n",
       "      <th>1308</th>\n",
       "      <td>1</td>\n",
       "      <td>0</td>\n",
       "      <td>0</td>\n",
       "      <td>0</td>\n",
       "      <td>3</td>\n",
       "      <td>28.0</td>\n",
       "      <td>1</td>\n",
       "      <td>1</td>\n",
       "      <td>22.3583</td>\n",
       "    </tr>\n",
       "  </tbody>\n",
       "</table>\n",
       "<p>1306 rows × 9 columns</p>\n",
       "</div>"
      ],
      "text/plain": [
       "      Sex_male  Embarked_Q  Embarked_S  Survived  Pclass   Age  SibSp  Parch  \\\n",
       "0            1           0           1         0       3  22.0      1      0   \n",
       "1            0           0           0         1       1  38.0      1      0   \n",
       "2            0           0           1         1       3  26.0      0      0   \n",
       "3            0           0           1         1       1  35.0      1      0   \n",
       "4            1           0           1         0       3  35.0      0      0   \n",
       "...        ...         ...         ...       ...     ...   ...    ...    ...   \n",
       "1304         1           0           1         0       3  28.0      0      0   \n",
       "1305         0           0           0         1       1  39.0      0      0   \n",
       "1306         1           0           1         0       3  38.5      0      0   \n",
       "1307         1           0           1         0       3  28.0      0      0   \n",
       "1308         1           0           0         0       3  28.0      1      1   \n",
       "\n",
       "          Fare  \n",
       "0       7.2500  \n",
       "1      71.2833  \n",
       "2       7.9250  \n",
       "3      53.1000  \n",
       "4       8.0500  \n",
       "...        ...  \n",
       "1304    8.0500  \n",
       "1305  108.9000  \n",
       "1306    7.2500  \n",
       "1307    8.0500  \n",
       "1308   22.3583  \n",
       "\n",
       "[1306 rows x 9 columns]"
      ]
     },
     "execution_count": 21,
     "metadata": {},
     "output_type": "execute_result"
    }
   ],
   "source": [
    "df_enc"
   ]
  },
  {
   "cell_type": "markdown",
   "id": "bae3020d",
   "metadata": {},
   "source": [
    "Inference : From the dataset, as we have only 2 categorical variables – ‘Embarked’, ‘Gender’ and both are nominal dtype. Therefore, we can go ahead and one hot encoding."
   ]
  },
  {
   "cell_type": "code",
   "execution_count": 22,
   "id": "1df6ac67",
   "metadata": {},
   "outputs": [],
   "source": [
    " # Target variable understanding"
   ]
  },
  {
   "cell_type": "code",
   "execution_count": 23,
   "id": "d37f12f1",
   "metadata": {},
   "outputs": [
    {
     "data": {
      "text/plain": [
       "0    62.33\n",
       "1    37.67\n",
       "Name: Survived, dtype: float64"
      ]
     },
     "execution_count": 23,
     "metadata": {},
     "output_type": "execute_result"
    }
   ],
   "source": [
    "round(df['Survived'].value_counts(normalize=True) * 100 ,2)"
   ]
  },
  {
   "cell_type": "markdown",
   "id": "4ea8b4cc",
   "metadata": {},
   "source": [
    "Inference : From the dataset, we have 0 of 62.33% and 1 of 37.67% and proportions of two subclass are still good for the prediction and there no is no of using the smote technique."
   ]
  },
  {
   "cell_type": "code",
   "execution_count": 24,
   "id": "5549cb1b",
   "metadata": {},
   "outputs": [],
   "source": [
    "# Feature Engineering"
   ]
  },
  {
   "cell_type": "code",
   "execution_count": 25,
   "id": "9a0b11cd",
   "metadata": {},
   "outputs": [],
   "source": [
    "# Correlation understanding"
   ]
  },
  {
   "cell_type": "code",
   "execution_count": 26,
   "id": "2c28675c",
   "metadata": {},
   "outputs": [
    {
     "data": {
      "image/png": "[encoded data removed]",
      "text/plain": [
       "<Figure size 720x360 with 2 Axes>"
      ]
     },
     "metadata": {
      "needs_background": "light"
     },
     "output_type": "display_data"
    }
   ],
   "source": [
    "plt.figure(figsize = (10,5))\n",
    "sns.heatmap(df_enc.corr(), annot = True)\n",
    "plt.show()"
   ]
  },
  {
   "cell_type": "markdown",
   "id": "75ad787c",
   "metadata": {},
   "source": [
    "Inference : \n",
    "- We can see that variables like Embarked Q, EMbarked_S are moderate co-relate each other.\n",
    "- The variables like Pclass and Fare are moderate co-relate each other.\n",
    "- The variable - 'Sex_male' is highly co-relate with the target variable."
   ]
  },
  {
   "cell_type": "code",
   "execution_count": 27,
   "id": "93d3d705",
   "metadata": {},
   "outputs": [],
   "source": [
    "# multicolinearity checkup"
   ]
  },
  {
   "cell_type": "code",
   "execution_count": 28,
   "id": "29b3191b",
   "metadata": {},
   "outputs": [
    {
     "data": {
      "text/plain": [
       "Age           4.303873\n",
       "Embarked_S    3.334285\n",
       "Sex_male      2.663264\n",
       "Fare          1.688328\n",
       "Parch         1.472560\n",
       "SibSp         1.463704\n",
       "Embarked_Q    1.258468\n",
       "dtype: float64"
      ]
     },
     "execution_count": 28,
     "metadata": {},
     "output_type": "execute_result"
    }
   ],
   "source": [
    "pd.Series([variance_inflation_factor(df_enc.drop(columns = ['Survived','Pclass'],axis =1).values, i) for i in range(df_enc.drop(columns = ['Survived','Pclass'], axis =1).shape[1])], index=df_enc.drop(columns = ['Survived','Pclass'],axis =1).columns).sort_values(ascending= False)"
   ]
  },
  {
   "cell_type": "code",
   "execution_count": 29,
   "id": "bd89dc3c",
   "metadata": {},
   "outputs": [
    {
     "data": {
      "text/plain": [
       "Pclass        6.522742\n",
       "Age           4.719108\n",
       "Embarked_S    4.449452\n",
       "Sex_male      3.051311\n",
       "Fare          1.768283\n",
       "Embarked_Q    1.648108\n",
       "Parch         1.530793\n",
       "SibSp         1.504324\n",
       "dtype: float64"
      ]
     },
     "execution_count": 29,
     "metadata": {},
     "output_type": "execute_result"
    }
   ],
   "source": [
    "pd.Series([variance_inflation_factor(df_enc.drop(columns = ['Survived'],axis =1).values, i) for i in range(df_enc.drop(columns = ['Survived'], axis =1).shape[1])], index=df_enc.drop(columns = ['Survived'],axis =1).columns).sort_values(ascending= False)"
   ]
  },
  {
   "cell_type": "markdown",
   "id": "e2ac1eda",
   "metadata": {},
   "source": [
    "Inference : From the above analysis, we could observe that the variable 'Pclass' had the VIF value of 6.5 and after dropping it where all remaining variables have VIF thershold lesser than 5."
   ]
  },
  {
   "cell_type": "code",
   "execution_count": 30,
   "id": "99e1bbcd",
   "metadata": {},
   "outputs": [],
   "source": [
    "# Forward feature engineering:"
   ]
  },
  {
   "cell_type": "code",
   "execution_count": 31,
   "id": "61eac741",
   "metadata": {},
   "outputs": [],
   "source": [
    "from sklearn.linear_model import LogisticRegression\n",
    "LR = LogisticRegression()\n",
    "\n",
    "sfs1 = sfs(LR, k_features='best', forward=True, verbose=2, scoring='f1')"
   ]
  },
  {
   "cell_type": "code",
   "execution_count": 32,
   "id": "03fcca96",
   "metadata": {
    "scrolled": false
   },
   "outputs": [
    {
     "name": "stderr",
     "output_type": "stream",
     "text": [
      "[Parallel(n_jobs=1)]: Using backend SequentialBackend with 1 concurrent workers.\n",
      "[Parallel(n_jobs=1)]: Done   1 out of   1 | elapsed:    0.0s remaining:    0.0s\n",
      "[Parallel(n_jobs=1)]: Done   8 out of   8 | elapsed:    0.1s finished\n",
      "\n",
      "[2022-05-06 21:16:43] Features: 1/8 -- score: 0.7984769767754061[Parallel(n_jobs=1)]: Using backend SequentialBackend with 1 concurrent workers.\n",
      "[Parallel(n_jobs=1)]: Done   1 out of   1 | elapsed:    0.0s remaining:    0.0s\n",
      "[Parallel(n_jobs=1)]: Done   7 out of   7 | elapsed:    0.2s finished\n",
      "\n",
      "[2022-05-06 21:16:43] Features: 2/8 -- score: 0.798847996708831[Parallel(n_jobs=1)]: Using backend SequentialBackend with 1 concurrent workers.\n",
      "[Parallel(n_jobs=1)]: Done   1 out of   1 | elapsed:    0.0s remaining:    0.0s\n",
      "[Parallel(n_jobs=1)]: Done   6 out of   6 | elapsed:    0.1s finished\n",
      "\n",
      "[2022-05-06 21:16:43] Features: 3/8 -- score: 0.7998735846089656[Parallel(n_jobs=1)]: Using backend SequentialBackend with 1 concurrent workers.\n",
      "[Parallel(n_jobs=1)]: Done   1 out of   1 | elapsed:    0.0s remaining:    0.0s\n",
      "[Parallel(n_jobs=1)]: Done   5 out of   5 | elapsed:    0.3s finished\n",
      "\n",
      "[2022-05-06 21:16:44] Features: 4/8 -- score: 0.7998735846089656[Parallel(n_jobs=1)]: Using backend SequentialBackend with 1 concurrent workers.\n",
      "[Parallel(n_jobs=1)]: Done   1 out of   1 | elapsed:    0.1s remaining:    0.0s\n",
      "[Parallel(n_jobs=1)]: Done   4 out of   4 | elapsed:    0.3s finished\n",
      "\n",
      "[2022-05-06 21:16:44] Features: 5/8 -- score: 0.7998735846089656[Parallel(n_jobs=1)]: Using backend SequentialBackend with 1 concurrent workers.\n",
      "[Parallel(n_jobs=1)]: Done   1 out of   1 | elapsed:    0.1s remaining:    0.0s\n",
      "[Parallel(n_jobs=1)]: Done   3 out of   3 | elapsed:    0.2s finished\n",
      "\n",
      "[2022-05-06 21:16:44] Features: 6/8 -- score: 0.7978118899584385[Parallel(n_jobs=1)]: Using backend SequentialBackend with 1 concurrent workers.\n",
      "/Users/kumaransekar/opt/anaconda3/lib/python3.9/site-packages/sklearn/linear_model/_logistic.py:763: ConvergenceWarning: lbfgs failed to converge (status=1):\n",
      "STOP: TOTAL NO. of ITERATIONS REACHED LIMIT.\n",
      "\n",
      "Increase the number of iterations (max_iter) or scale the data as shown in:\n",
      "    https://scikit-learn.org/stable/modules/preprocessing.html\n",
      "Please also refer to the documentation for alternative solver options:\n",
      "    https://scikit-learn.org/stable/modules/linear_model.html#logistic-regression\n",
      "  n_iter_i = _check_optimize_result(\n",
      "/Users/kumaransekar/opt/anaconda3/lib/python3.9/site-packages/sklearn/linear_model/_logistic.py:763: ConvergenceWarning: lbfgs failed to converge (status=1):\n",
      "STOP: TOTAL NO. of ITERATIONS REACHED LIMIT.\n",
      "\n",
      "Increase the number of iterations (max_iter) or scale the data as shown in:\n",
      "    https://scikit-learn.org/stable/modules/preprocessing.html\n",
      "Please also refer to the documentation for alternative solver options:\n",
      "    https://scikit-learn.org/stable/modules/linear_model.html#logistic-regression\n",
      "  n_iter_i = _check_optimize_result(\n",
      "[Parallel(n_jobs=1)]: Done   1 out of   1 | elapsed:    0.1s remaining:    0.0s\n",
      "/Users/kumaransekar/opt/anaconda3/lib/python3.9/site-packages/sklearn/linear_model/_logistic.py:763: ConvergenceWarning: lbfgs failed to converge (status=1):\n",
      "STOP: TOTAL NO. of ITERATIONS REACHED LIMIT.\n",
      "\n",
      "Increase the number of iterations (max_iter) or scale the data as shown in:\n",
      "    https://scikit-learn.org/stable/modules/preprocessing.html\n",
      "Please also refer to the documentation for alternative solver options:\n",
      "    https://scikit-learn.org/stable/modules/linear_model.html#logistic-regression\n",
      "  n_iter_i = _check_optimize_result(\n",
      "/Users/kumaransekar/opt/anaconda3/lib/python3.9/site-packages/sklearn/linear_model/_logistic.py:763: ConvergenceWarning: lbfgs failed to converge (status=1):\n",
      "STOP: TOTAL NO. of ITERATIONS REACHED LIMIT.\n",
      "\n",
      "Increase the number of iterations (max_iter) or scale the data as shown in:\n",
      "    https://scikit-learn.org/stable/modules/preprocessing.html\n",
      "Please also refer to the documentation for alternative solver options:\n",
      "    https://scikit-learn.org/stable/modules/linear_model.html#logistic-regression\n",
      "  n_iter_i = _check_optimize_result(\n",
      "/Users/kumaransekar/opt/anaconda3/lib/python3.9/site-packages/sklearn/linear_model/_logistic.py:763: ConvergenceWarning: lbfgs failed to converge (status=1):\n",
      "STOP: TOTAL NO. of ITERATIONS REACHED LIMIT.\n",
      "\n",
      "Increase the number of iterations (max_iter) or scale the data as shown in:\n",
      "    https://scikit-learn.org/stable/modules/preprocessing.html\n",
      "Please also refer to the documentation for alternative solver options:\n",
      "    https://scikit-learn.org/stable/modules/linear_model.html#logistic-regression\n",
      "  n_iter_i = _check_optimize_result(\n",
      "/Users/kumaransekar/opt/anaconda3/lib/python3.9/site-packages/sklearn/linear_model/_logistic.py:763: ConvergenceWarning: lbfgs failed to converge (status=1):\n",
      "STOP: TOTAL NO. of ITERATIONS REACHED LIMIT.\n",
      "\n",
      "Increase the number of iterations (max_iter) or scale the data as shown in:\n",
      "    https://scikit-learn.org/stable/modules/preprocessing.html\n",
      "Please also refer to the documentation for alternative solver options:\n",
      "    https://scikit-learn.org/stable/modules/linear_model.html#logistic-regression\n",
      "  n_iter_i = _check_optimize_result(\n",
      "[Parallel(n_jobs=1)]: Done   2 out of   2 | elapsed:    0.2s finished\n",
      "\n",
      "[2022-05-06 21:16:44] Features: 7/8 -- score: 0.7934978440175391[Parallel(n_jobs=1)]: Using backend SequentialBackend with 1 concurrent workers.\n",
      "/Users/kumaransekar/opt/anaconda3/lib/python3.9/site-packages/sklearn/linear_model/_logistic.py:763: ConvergenceWarning: lbfgs failed to converge (status=1):\n",
      "STOP: TOTAL NO. of ITERATIONS REACHED LIMIT.\n",
      "\n",
      "Increase the number of iterations (max_iter) or scale the data as shown in:\n",
      "    https://scikit-learn.org/stable/modules/preprocessing.html\n",
      "Please also refer to the documentation for alternative solver options:\n",
      "    https://scikit-learn.org/stable/modules/linear_model.html#logistic-regression\n",
      "  n_iter_i = _check_optimize_result(\n",
      "/Users/kumaransekar/opt/anaconda3/lib/python3.9/site-packages/sklearn/linear_model/_logistic.py:763: ConvergenceWarning: lbfgs failed to converge (status=1):\n",
      "STOP: TOTAL NO. of ITERATIONS REACHED LIMIT.\n",
      "\n",
      "Increase the number of iterations (max_iter) or scale the data as shown in:\n",
      "    https://scikit-learn.org/stable/modules/preprocessing.html\n",
      "Please also refer to the documentation for alternative solver options:\n",
      "    https://scikit-learn.org/stable/modules/linear_model.html#logistic-regression\n",
      "  n_iter_i = _check_optimize_result(\n",
      "/Users/kumaransekar/opt/anaconda3/lib/python3.9/site-packages/sklearn/linear_model/_logistic.py:763: ConvergenceWarning: lbfgs failed to converge (status=1):\n",
      "STOP: TOTAL NO. of ITERATIONS REACHED LIMIT.\n",
      "\n",
      "Increase the number of iterations (max_iter) or scale the data as shown in:\n",
      "    https://scikit-learn.org/stable/modules/preprocessing.html\n",
      "Please also refer to the documentation for alternative solver options:\n",
      "    https://scikit-learn.org/stable/modules/linear_model.html#logistic-regression\n",
      "  n_iter_i = _check_optimize_result(\n",
      "/Users/kumaransekar/opt/anaconda3/lib/python3.9/site-packages/sklearn/linear_model/_logistic.py:763: ConvergenceWarning: lbfgs failed to converge (status=1):\n",
      "STOP: TOTAL NO. of ITERATIONS REACHED LIMIT.\n",
      "\n",
      "Increase the number of iterations (max_iter) or scale the data as shown in:\n",
      "    https://scikit-learn.org/stable/modules/preprocessing.html\n",
      "Please also refer to the documentation for alternative solver options:\n",
      "    https://scikit-learn.org/stable/modules/linear_model.html#logistic-regression\n",
      "  n_iter_i = _check_optimize_result(\n",
      "/Users/kumaransekar/opt/anaconda3/lib/python3.9/site-packages/sklearn/linear_model/_logistic.py:763: ConvergenceWarning: lbfgs failed to converge (status=1):\n",
      "STOP: TOTAL NO. of ITERATIONS REACHED LIMIT.\n",
      "\n",
      "Increase the number of iterations (max_iter) or scale the data as shown in:\n",
      "    https://scikit-learn.org/stable/modules/preprocessing.html\n",
      "Please also refer to the documentation for alternative solver options:\n",
      "    https://scikit-learn.org/stable/modules/linear_model.html#logistic-regression\n",
      "  n_iter_i = _check_optimize_result(\n",
      "[Parallel(n_jobs=1)]: Done   1 out of   1 | elapsed:    0.1s remaining:    0.0s\n",
      "[Parallel(n_jobs=1)]: Done   1 out of   1 | elapsed:    0.1s finished\n",
      "\n",
      "[2022-05-06 21:16:45] Features: 8/8 -- score: 0.7940591566254838"
     ]
    },
    {
     "data": {
      "text/plain": [
       "SequentialFeatureSelector(estimator=LogisticRegression(), k_features='best',\n",
       "                          scoring='f1', verbose=2)"
      ]
     },
     "execution_count": 32,
     "metadata": {},
     "output_type": "execute_result"
    }
   ],
   "source": [
    "sfs1.fit(df_enc.drop(columns = ['Survived'],axis =1), df_enc['Survived'])"
   ]
  },
  {
   "cell_type": "code",
   "execution_count": 33,
   "id": "69b89a66",
   "metadata": {},
   "outputs": [
    {
     "data": {
      "text/plain": [
       "0.7998735846089656"
      ]
     },
     "execution_count": 33,
     "metadata": {},
     "output_type": "execute_result"
    }
   ],
   "source": [
    "sfs1.k_score_"
   ]
  },
  {
   "cell_type": "code",
   "execution_count": 34,
   "id": "89ce0854",
   "metadata": {},
   "outputs": [
    {
     "data": {
      "text/plain": [
       "('Sex_male', 'Age', 'SibSp')"
      ]
     },
     "execution_count": 34,
     "metadata": {},
     "output_type": "execute_result"
    }
   ],
   "source": [
    "sfs1.k_feature_names_"
   ]
  },
  {
   "cell_type": "code",
   "execution_count": 35,
   "id": "abb3fbf0",
   "metadata": {},
   "outputs": [],
   "source": [
    "# Backward feature engineering"
   ]
  },
  {
   "cell_type": "code",
   "execution_count": 36,
   "id": "351b74c0",
   "metadata": {},
   "outputs": [],
   "source": [
    "from sklearn.linear_model import LogisticRegression\n",
    "LR = LogisticRegression()\n",
    "\n",
    "sfs2 = sfs(LR, k_features='best', forward=False, verbose=2, scoring='f1')  "
   ]
  },
  {
   "cell_type": "code",
   "execution_count": 37,
   "id": "bc9cf09f",
   "metadata": {},
   "outputs": [
    {
     "name": "stderr",
     "output_type": "stream",
     "text": [
      "/Users/kumaransekar/opt/anaconda3/lib/python3.9/site-packages/sklearn/linear_model/_logistic.py:763: ConvergenceWarning: lbfgs failed to converge (status=1):\n",
      "STOP: TOTAL NO. of ITERATIONS REACHED LIMIT.\n",
      "\n",
      "Increase the number of iterations (max_iter) or scale the data as shown in:\n",
      "    https://scikit-learn.org/stable/modules/preprocessing.html\n",
      "Please also refer to the documentation for alternative solver options:\n",
      "    https://scikit-learn.org/stable/modules/linear_model.html#logistic-regression\n",
      "  n_iter_i = _check_optimize_result(\n",
      "/Users/kumaransekar/opt/anaconda3/lib/python3.9/site-packages/sklearn/linear_model/_logistic.py:763: ConvergenceWarning: lbfgs failed to converge (status=1):\n",
      "STOP: TOTAL NO. of ITERATIONS REACHED LIMIT.\n",
      "\n",
      "Increase the number of iterations (max_iter) or scale the data as shown in:\n",
      "    https://scikit-learn.org/stable/modules/preprocessing.html\n",
      "Please also refer to the documentation for alternative solver options:\n",
      "    https://scikit-learn.org/stable/modules/linear_model.html#logistic-regression\n",
      "  n_iter_i = _check_optimize_result(\n",
      "/Users/kumaransekar/opt/anaconda3/lib/python3.9/site-packages/sklearn/linear_model/_logistic.py:763: ConvergenceWarning: lbfgs failed to converge (status=1):\n",
      "STOP: TOTAL NO. of ITERATIONS REACHED LIMIT.\n",
      "\n",
      "Increase the number of iterations (max_iter) or scale the data as shown in:\n",
      "    https://scikit-learn.org/stable/modules/preprocessing.html\n",
      "Please also refer to the documentation for alternative solver options:\n",
      "    https://scikit-learn.org/stable/modules/linear_model.html#logistic-regression\n",
      "  n_iter_i = _check_optimize_result(\n",
      "/Users/kumaransekar/opt/anaconda3/lib/python3.9/site-packages/sklearn/linear_model/_logistic.py:763: ConvergenceWarning: lbfgs failed to converge (status=1):\n",
      "STOP: TOTAL NO. of ITERATIONS REACHED LIMIT.\n",
      "\n",
      "Increase the number of iterations (max_iter) or scale the data as shown in:\n",
      "    https://scikit-learn.org/stable/modules/preprocessing.html\n",
      "Please also refer to the documentation for alternative solver options:\n",
      "    https://scikit-learn.org/stable/modules/linear_model.html#logistic-regression\n",
      "  n_iter_i = _check_optimize_result(\n",
      "/Users/kumaransekar/opt/anaconda3/lib/python3.9/site-packages/sklearn/linear_model/_logistic.py:763: ConvergenceWarning: lbfgs failed to converge (status=1):\n",
      "STOP: TOTAL NO. of ITERATIONS REACHED LIMIT.\n",
      "\n",
      "Increase the number of iterations (max_iter) or scale the data as shown in:\n",
      "    https://scikit-learn.org/stable/modules/preprocessing.html\n",
      "Please also refer to the documentation for alternative solver options:\n",
      "    https://scikit-learn.org/stable/modules/linear_model.html#logistic-regression\n",
      "  n_iter_i = _check_optimize_result(\n",
      "[Parallel(n_jobs=1)]: Using backend SequentialBackend with 1 concurrent workers.\n",
      "/Users/kumaransekar/opt/anaconda3/lib/python3.9/site-packages/sklearn/linear_model/_logistic.py:763: ConvergenceWarning: lbfgs failed to converge (status=1):\n",
      "STOP: TOTAL NO. of ITERATIONS REACHED LIMIT.\n",
      "\n",
      "Increase the number of iterations (max_iter) or scale the data as shown in:\n",
      "    https://scikit-learn.org/stable/modules/preprocessing.html\n",
      "Please also refer to the documentation for alternative solver options:\n",
      "    https://scikit-learn.org/stable/modules/linear_model.html#logistic-regression\n",
      "  n_iter_i = _check_optimize_result(\n",
      "/Users/kumaransekar/opt/anaconda3/lib/python3.9/site-packages/sklearn/linear_model/_logistic.py:763: ConvergenceWarning: lbfgs failed to converge (status=1):\n",
      "STOP: TOTAL NO. of ITERATIONS REACHED LIMIT.\n",
      "\n",
      "Increase the number of iterations (max_iter) or scale the data as shown in:\n",
      "    https://scikit-learn.org/stable/modules/preprocessing.html\n",
      "Please also refer to the documentation for alternative solver options:\n",
      "    https://scikit-learn.org/stable/modules/linear_model.html#logistic-regression\n",
      "  n_iter_i = _check_optimize_result(\n",
      "[Parallel(n_jobs=1)]: Done   1 out of   1 | elapsed:    0.1s remaining:    0.0s\n",
      "/Users/kumaransekar/opt/anaconda3/lib/python3.9/site-packages/sklearn/linear_model/_logistic.py:763: ConvergenceWarning: lbfgs failed to converge (status=1):\n",
      "STOP: TOTAL NO. of ITERATIONS REACHED LIMIT.\n",
      "\n",
      "Increase the number of iterations (max_iter) or scale the data as shown in:\n",
      "    https://scikit-learn.org/stable/modules/preprocessing.html\n",
      "Please also refer to the documentation for alternative solver options:\n",
      "    https://scikit-learn.org/stable/modules/linear_model.html#logistic-regression\n",
      "  n_iter_i = _check_optimize_result(\n",
      "/Users/kumaransekar/opt/anaconda3/lib/python3.9/site-packages/sklearn/linear_model/_logistic.py:763: ConvergenceWarning: lbfgs failed to converge (status=1):\n",
      "STOP: TOTAL NO. of ITERATIONS REACHED LIMIT.\n",
      "\n",
      "Increase the number of iterations (max_iter) or scale the data as shown in:\n",
      "    https://scikit-learn.org/stable/modules/preprocessing.html\n",
      "Please also refer to the documentation for alternative solver options:\n",
      "    https://scikit-learn.org/stable/modules/linear_model.html#logistic-regression\n",
      "  n_iter_i = _check_optimize_result(\n",
      "/Users/kumaransekar/opt/anaconda3/lib/python3.9/site-packages/sklearn/linear_model/_logistic.py:763: ConvergenceWarning: lbfgs failed to converge (status=1):\n",
      "STOP: TOTAL NO. of ITERATIONS REACHED LIMIT.\n",
      "\n",
      "Increase the number of iterations (max_iter) or scale the data as shown in:\n",
      "    https://scikit-learn.org/stable/modules/preprocessing.html\n",
      "Please also refer to the documentation for alternative solver options:\n",
      "    https://scikit-learn.org/stable/modules/linear_model.html#logistic-regression\n",
      "  n_iter_i = _check_optimize_result(\n",
      "/Users/kumaransekar/opt/anaconda3/lib/python3.9/site-packages/sklearn/linear_model/_logistic.py:763: ConvergenceWarning: lbfgs failed to converge (status=1):\n",
      "STOP: TOTAL NO. of ITERATIONS REACHED LIMIT.\n",
      "\n",
      "Increase the number of iterations (max_iter) or scale the data as shown in:\n",
      "    https://scikit-learn.org/stable/modules/preprocessing.html\n",
      "Please also refer to the documentation for alternative solver options:\n",
      "    https://scikit-learn.org/stable/modules/linear_model.html#logistic-regression\n",
      "  n_iter_i = _check_optimize_result(\n",
      "/Users/kumaransekar/opt/anaconda3/lib/python3.9/site-packages/sklearn/linear_model/_logistic.py:763: ConvergenceWarning: lbfgs failed to converge (status=1):\n",
      "STOP: TOTAL NO. of ITERATIONS REACHED LIMIT.\n",
      "\n",
      "Increase the number of iterations (max_iter) or scale the data as shown in:\n",
      "    https://scikit-learn.org/stable/modules/preprocessing.html\n",
      "Please also refer to the documentation for alternative solver options:\n",
      "    https://scikit-learn.org/stable/modules/linear_model.html#logistic-regression\n",
      "  n_iter_i = _check_optimize_result(\n",
      "/Users/kumaransekar/opt/anaconda3/lib/python3.9/site-packages/sklearn/linear_model/_logistic.py:763: ConvergenceWarning: lbfgs failed to converge (status=1):\n",
      "STOP: TOTAL NO. of ITERATIONS REACHED LIMIT.\n",
      "\n",
      "Increase the number of iterations (max_iter) or scale the data as shown in:\n",
      "    https://scikit-learn.org/stable/modules/preprocessing.html\n",
      "Please also refer to the documentation for alternative solver options:\n",
      "    https://scikit-learn.org/stable/modules/linear_model.html#logistic-regression\n",
      "  n_iter_i = _check_optimize_result(\n",
      "/Users/kumaransekar/opt/anaconda3/lib/python3.9/site-packages/sklearn/linear_model/_logistic.py:763: ConvergenceWarning: lbfgs failed to converge (status=1):\n",
      "STOP: TOTAL NO. of ITERATIONS REACHED LIMIT.\n",
      "\n",
      "Increase the number of iterations (max_iter) or scale the data as shown in:\n",
      "    https://scikit-learn.org/stable/modules/preprocessing.html\n",
      "Please also refer to the documentation for alternative solver options:\n",
      "    https://scikit-learn.org/stable/modules/linear_model.html#logistic-regression\n",
      "  n_iter_i = _check_optimize_result(\n",
      "/Users/kumaransekar/opt/anaconda3/lib/python3.9/site-packages/sklearn/linear_model/_logistic.py:763: ConvergenceWarning: lbfgs failed to converge (status=1):\n",
      "STOP: TOTAL NO. of ITERATIONS REACHED LIMIT.\n",
      "\n",
      "Increase the number of iterations (max_iter) or scale the data as shown in:\n",
      "    https://scikit-learn.org/stable/modules/preprocessing.html\n",
      "Please also refer to the documentation for alternative solver options:\n",
      "    https://scikit-learn.org/stable/modules/linear_model.html#logistic-regression\n",
      "  n_iter_i = _check_optimize_result(\n",
      "/Users/kumaransekar/opt/anaconda3/lib/python3.9/site-packages/sklearn/linear_model/_logistic.py:763: ConvergenceWarning: lbfgs failed to converge (status=1):\n",
      "STOP: TOTAL NO. of ITERATIONS REACHED LIMIT.\n",
      "\n",
      "Increase the number of iterations (max_iter) or scale the data as shown in:\n",
      "    https://scikit-learn.org/stable/modules/preprocessing.html\n",
      "Please also refer to the documentation for alternative solver options:\n",
      "    https://scikit-learn.org/stable/modules/linear_model.html#logistic-regression\n",
      "  n_iter_i = _check_optimize_result(\n",
      "/Users/kumaransekar/opt/anaconda3/lib/python3.9/site-packages/sklearn/linear_model/_logistic.py:763: ConvergenceWarning: lbfgs failed to converge (status=1):\n",
      "STOP: TOTAL NO. of ITERATIONS REACHED LIMIT.\n",
      "\n",
      "Increase the number of iterations (max_iter) or scale the data as shown in:\n",
      "    https://scikit-learn.org/stable/modules/preprocessing.html\n",
      "Please also refer to the documentation for alternative solver options:\n",
      "    https://scikit-learn.org/stable/modules/linear_model.html#logistic-regression\n",
      "  n_iter_i = _check_optimize_result(\n"
     ]
    },
    {
     "name": "stderr",
     "output_type": "stream",
     "text": [
      "/Users/kumaransekar/opt/anaconda3/lib/python3.9/site-packages/sklearn/linear_model/_logistic.py:763: ConvergenceWarning: lbfgs failed to converge (status=1):\n",
      "STOP: TOTAL NO. of ITERATIONS REACHED LIMIT.\n",
      "\n",
      "Increase the number of iterations (max_iter) or scale the data as shown in:\n",
      "    https://scikit-learn.org/stable/modules/preprocessing.html\n",
      "Please also refer to the documentation for alternative solver options:\n",
      "    https://scikit-learn.org/stable/modules/linear_model.html#logistic-regression\n",
      "  n_iter_i = _check_optimize_result(\n",
      "/Users/kumaransekar/opt/anaconda3/lib/python3.9/site-packages/sklearn/linear_model/_logistic.py:763: ConvergenceWarning: lbfgs failed to converge (status=1):\n",
      "STOP: TOTAL NO. of ITERATIONS REACHED LIMIT.\n",
      "\n",
      "Increase the number of iterations (max_iter) or scale the data as shown in:\n",
      "    https://scikit-learn.org/stable/modules/preprocessing.html\n",
      "Please also refer to the documentation for alternative solver options:\n",
      "    https://scikit-learn.org/stable/modules/linear_model.html#logistic-regression\n",
      "  n_iter_i = _check_optimize_result(\n",
      "/Users/kumaransekar/opt/anaconda3/lib/python3.9/site-packages/sklearn/linear_model/_logistic.py:763: ConvergenceWarning: lbfgs failed to converge (status=1):\n",
      "STOP: TOTAL NO. of ITERATIONS REACHED LIMIT.\n",
      "\n",
      "Increase the number of iterations (max_iter) or scale the data as shown in:\n",
      "    https://scikit-learn.org/stable/modules/preprocessing.html\n",
      "Please also refer to the documentation for alternative solver options:\n",
      "    https://scikit-learn.org/stable/modules/linear_model.html#logistic-regression\n",
      "  n_iter_i = _check_optimize_result(\n",
      "/Users/kumaransekar/opt/anaconda3/lib/python3.9/site-packages/sklearn/linear_model/_logistic.py:763: ConvergenceWarning: lbfgs failed to converge (status=1):\n",
      "STOP: TOTAL NO. of ITERATIONS REACHED LIMIT.\n",
      "\n",
      "Increase the number of iterations (max_iter) or scale the data as shown in:\n",
      "    https://scikit-learn.org/stable/modules/preprocessing.html\n",
      "Please also refer to the documentation for alternative solver options:\n",
      "    https://scikit-learn.org/stable/modules/linear_model.html#logistic-regression\n",
      "  n_iter_i = _check_optimize_result(\n",
      "/Users/kumaransekar/opt/anaconda3/lib/python3.9/site-packages/sklearn/linear_model/_logistic.py:763: ConvergenceWarning: lbfgs failed to converge (status=1):\n",
      "STOP: TOTAL NO. of ITERATIONS REACHED LIMIT.\n",
      "\n",
      "Increase the number of iterations (max_iter) or scale the data as shown in:\n",
      "    https://scikit-learn.org/stable/modules/preprocessing.html\n",
      "Please also refer to the documentation for alternative solver options:\n",
      "    https://scikit-learn.org/stable/modules/linear_model.html#logistic-regression\n",
      "  n_iter_i = _check_optimize_result(\n",
      "/Users/kumaransekar/opt/anaconda3/lib/python3.9/site-packages/sklearn/linear_model/_logistic.py:763: ConvergenceWarning: lbfgs failed to converge (status=1):\n",
      "STOP: TOTAL NO. of ITERATIONS REACHED LIMIT.\n",
      "\n",
      "Increase the number of iterations (max_iter) or scale the data as shown in:\n",
      "    https://scikit-learn.org/stable/modules/preprocessing.html\n",
      "Please also refer to the documentation for alternative solver options:\n",
      "    https://scikit-learn.org/stable/modules/linear_model.html#logistic-regression\n",
      "  n_iter_i = _check_optimize_result(\n",
      "/Users/kumaransekar/opt/anaconda3/lib/python3.9/site-packages/sklearn/linear_model/_logistic.py:763: ConvergenceWarning: lbfgs failed to converge (status=1):\n",
      "STOP: TOTAL NO. of ITERATIONS REACHED LIMIT.\n",
      "\n",
      "Increase the number of iterations (max_iter) or scale the data as shown in:\n",
      "    https://scikit-learn.org/stable/modules/preprocessing.html\n",
      "Please also refer to the documentation for alternative solver options:\n",
      "    https://scikit-learn.org/stable/modules/linear_model.html#logistic-regression\n",
      "  n_iter_i = _check_optimize_result(\n",
      "/Users/kumaransekar/opt/anaconda3/lib/python3.9/site-packages/sklearn/linear_model/_logistic.py:763: ConvergenceWarning: lbfgs failed to converge (status=1):\n",
      "STOP: TOTAL NO. of ITERATIONS REACHED LIMIT.\n",
      "\n",
      "Increase the number of iterations (max_iter) or scale the data as shown in:\n",
      "    https://scikit-learn.org/stable/modules/preprocessing.html\n",
      "Please also refer to the documentation for alternative solver options:\n",
      "    https://scikit-learn.org/stable/modules/linear_model.html#logistic-regression\n",
      "  n_iter_i = _check_optimize_result(\n",
      "/Users/kumaransekar/opt/anaconda3/lib/python3.9/site-packages/sklearn/linear_model/_logistic.py:763: ConvergenceWarning: lbfgs failed to converge (status=1):\n",
      "STOP: TOTAL NO. of ITERATIONS REACHED LIMIT.\n",
      "\n",
      "Increase the number of iterations (max_iter) or scale the data as shown in:\n",
      "    https://scikit-learn.org/stable/modules/preprocessing.html\n",
      "Please also refer to the documentation for alternative solver options:\n",
      "    https://scikit-learn.org/stable/modules/linear_model.html#logistic-regression\n",
      "  n_iter_i = _check_optimize_result(\n",
      "/Users/kumaransekar/opt/anaconda3/lib/python3.9/site-packages/sklearn/linear_model/_logistic.py:763: ConvergenceWarning: lbfgs failed to converge (status=1):\n",
      "STOP: TOTAL NO. of ITERATIONS REACHED LIMIT.\n",
      "\n",
      "Increase the number of iterations (max_iter) or scale the data as shown in:\n",
      "    https://scikit-learn.org/stable/modules/preprocessing.html\n",
      "Please also refer to the documentation for alternative solver options:\n",
      "    https://scikit-learn.org/stable/modules/linear_model.html#logistic-regression\n",
      "  n_iter_i = _check_optimize_result(\n",
      "/Users/kumaransekar/opt/anaconda3/lib/python3.9/site-packages/sklearn/linear_model/_logistic.py:763: ConvergenceWarning: lbfgs failed to converge (status=1):\n",
      "STOP: TOTAL NO. of ITERATIONS REACHED LIMIT.\n",
      "\n",
      "Increase the number of iterations (max_iter) or scale the data as shown in:\n",
      "    https://scikit-learn.org/stable/modules/preprocessing.html\n",
      "Please also refer to the documentation for alternative solver options:\n",
      "    https://scikit-learn.org/stable/modules/linear_model.html#logistic-regression\n",
      "  n_iter_i = _check_optimize_result(\n",
      "/Users/kumaransekar/opt/anaconda3/lib/python3.9/site-packages/sklearn/linear_model/_logistic.py:763: ConvergenceWarning: lbfgs failed to converge (status=1):\n",
      "STOP: TOTAL NO. of ITERATIONS REACHED LIMIT.\n",
      "\n",
      "Increase the number of iterations (max_iter) or scale the data as shown in:\n",
      "    https://scikit-learn.org/stable/modules/preprocessing.html\n",
      "Please also refer to the documentation for alternative solver options:\n",
      "    https://scikit-learn.org/stable/modules/linear_model.html#logistic-regression\n",
      "  n_iter_i = _check_optimize_result(\n",
      "/Users/kumaransekar/opt/anaconda3/lib/python3.9/site-packages/sklearn/linear_model/_logistic.py:763: ConvergenceWarning: lbfgs failed to converge (status=1):\n",
      "STOP: TOTAL NO. of ITERATIONS REACHED LIMIT.\n",
      "\n",
      "Increase the number of iterations (max_iter) or scale the data as shown in:\n",
      "    https://scikit-learn.org/stable/modules/preprocessing.html\n",
      "Please also refer to the documentation for alternative solver options:\n",
      "    https://scikit-learn.org/stable/modules/linear_model.html#logistic-regression\n",
      "  n_iter_i = _check_optimize_result(\n",
      "/Users/kumaransekar/opt/anaconda3/lib/python3.9/site-packages/sklearn/linear_model/_logistic.py:763: ConvergenceWarning: lbfgs failed to converge (status=1):\n",
      "STOP: TOTAL NO. of ITERATIONS REACHED LIMIT.\n",
      "\n",
      "Increase the number of iterations (max_iter) or scale the data as shown in:\n",
      "    https://scikit-learn.org/stable/modules/preprocessing.html\n",
      "Please also refer to the documentation for alternative solver options:\n",
      "    https://scikit-learn.org/stable/modules/linear_model.html#logistic-regression\n",
      "  n_iter_i = _check_optimize_result(\n",
      "/Users/kumaransekar/opt/anaconda3/lib/python3.9/site-packages/sklearn/linear_model/_logistic.py:763: ConvergenceWarning: lbfgs failed to converge (status=1):\n",
      "STOP: TOTAL NO. of ITERATIONS REACHED LIMIT.\n",
      "\n",
      "Increase the number of iterations (max_iter) or scale the data as shown in:\n",
      "    https://scikit-learn.org/stable/modules/preprocessing.html\n",
      "Please also refer to the documentation for alternative solver options:\n",
      "    https://scikit-learn.org/stable/modules/linear_model.html#logistic-regression\n",
      "  n_iter_i = _check_optimize_result(\n",
      "/Users/kumaransekar/opt/anaconda3/lib/python3.9/site-packages/sklearn/linear_model/_logistic.py:763: ConvergenceWarning: lbfgs failed to converge (status=1):\n",
      "STOP: TOTAL NO. of ITERATIONS REACHED LIMIT.\n",
      "\n",
      "Increase the number of iterations (max_iter) or scale the data as shown in:\n",
      "    https://scikit-learn.org/stable/modules/preprocessing.html\n",
      "Please also refer to the documentation for alternative solver options:\n",
      "    https://scikit-learn.org/stable/modules/linear_model.html#logistic-regression\n",
      "  n_iter_i = _check_optimize_result(\n",
      "/Users/kumaransekar/opt/anaconda3/lib/python3.9/site-packages/sklearn/linear_model/_logistic.py:763: ConvergenceWarning: lbfgs failed to converge (status=1):\n",
      "STOP: TOTAL NO. of ITERATIONS REACHED LIMIT.\n",
      "\n",
      "Increase the number of iterations (max_iter) or scale the data as shown in:\n",
      "    https://scikit-learn.org/stable/modules/preprocessing.html\n",
      "Please also refer to the documentation for alternative solver options:\n",
      "    https://scikit-learn.org/stable/modules/linear_model.html#logistic-regression\n",
      "  n_iter_i = _check_optimize_result(\n",
      "/Users/kumaransekar/opt/anaconda3/lib/python3.9/site-packages/sklearn/linear_model/_logistic.py:763: ConvergenceWarning: lbfgs failed to converge (status=1):\n",
      "STOP: TOTAL NO. of ITERATIONS REACHED LIMIT.\n",
      "\n",
      "Increase the number of iterations (max_iter) or scale the data as shown in:\n",
      "    https://scikit-learn.org/stable/modules/preprocessing.html\n",
      "Please also refer to the documentation for alternative solver options:\n",
      "    https://scikit-learn.org/stable/modules/linear_model.html#logistic-regression\n",
      "  n_iter_i = _check_optimize_result(\n",
      "/Users/kumaransekar/opt/anaconda3/lib/python3.9/site-packages/sklearn/linear_model/_logistic.py:763: ConvergenceWarning: lbfgs failed to converge (status=1):\n",
      "STOP: TOTAL NO. of ITERATIONS REACHED LIMIT.\n",
      "\n",
      "Increase the number of iterations (max_iter) or scale the data as shown in:\n",
      "    https://scikit-learn.org/stable/modules/preprocessing.html\n",
      "Please also refer to the documentation for alternative solver options:\n",
      "    https://scikit-learn.org/stable/modules/linear_model.html#logistic-regression\n",
      "  n_iter_i = _check_optimize_result(\n"
     ]
    },
    {
     "name": "stderr",
     "output_type": "stream",
     "text": [
      "/Users/kumaransekar/opt/anaconda3/lib/python3.9/site-packages/sklearn/linear_model/_logistic.py:763: ConvergenceWarning: lbfgs failed to converge (status=1):\n",
      "STOP: TOTAL NO. of ITERATIONS REACHED LIMIT.\n",
      "\n",
      "Increase the number of iterations (max_iter) or scale the data as shown in:\n",
      "    https://scikit-learn.org/stable/modules/preprocessing.html\n",
      "Please also refer to the documentation for alternative solver options:\n",
      "    https://scikit-learn.org/stable/modules/linear_model.html#logistic-regression\n",
      "  n_iter_i = _check_optimize_result(\n",
      "/Users/kumaransekar/opt/anaconda3/lib/python3.9/site-packages/sklearn/linear_model/_logistic.py:763: ConvergenceWarning: lbfgs failed to converge (status=1):\n",
      "STOP: TOTAL NO. of ITERATIONS REACHED LIMIT.\n",
      "\n",
      "Increase the number of iterations (max_iter) or scale the data as shown in:\n",
      "    https://scikit-learn.org/stable/modules/preprocessing.html\n",
      "Please also refer to the documentation for alternative solver options:\n",
      "    https://scikit-learn.org/stable/modules/linear_model.html#logistic-regression\n",
      "  n_iter_i = _check_optimize_result(\n",
      "/Users/kumaransekar/opt/anaconda3/lib/python3.9/site-packages/sklearn/linear_model/_logistic.py:763: ConvergenceWarning: lbfgs failed to converge (status=1):\n",
      "STOP: TOTAL NO. of ITERATIONS REACHED LIMIT.\n",
      "\n",
      "Increase the number of iterations (max_iter) or scale the data as shown in:\n",
      "    https://scikit-learn.org/stable/modules/preprocessing.html\n",
      "Please also refer to the documentation for alternative solver options:\n",
      "    https://scikit-learn.org/stable/modules/linear_model.html#logistic-regression\n",
      "  n_iter_i = _check_optimize_result(\n",
      "[Parallel(n_jobs=1)]: Done   8 out of   8 | elapsed:    0.8s finished\n",
      "\n",
      "[2022-05-06 21:16:46] Features: 7/1 -- score: 0.7978118899584385[Parallel(n_jobs=1)]: Using backend SequentialBackend with 1 concurrent workers.\n",
      "[Parallel(n_jobs=1)]: Done   1 out of   1 | elapsed:    0.0s remaining:    0.0s\n",
      "/Users/kumaransekar/opt/anaconda3/lib/python3.9/site-packages/sklearn/linear_model/_logistic.py:763: ConvergenceWarning: lbfgs failed to converge (status=1):\n",
      "STOP: TOTAL NO. of ITERATIONS REACHED LIMIT.\n",
      "\n",
      "Increase the number of iterations (max_iter) or scale the data as shown in:\n",
      "    https://scikit-learn.org/stable/modules/preprocessing.html\n",
      "Please also refer to the documentation for alternative solver options:\n",
      "    https://scikit-learn.org/stable/modules/linear_model.html#logistic-regression\n",
      "  n_iter_i = _check_optimize_result(\n",
      "/Users/kumaransekar/opt/anaconda3/lib/python3.9/site-packages/sklearn/linear_model/_logistic.py:763: ConvergenceWarning: lbfgs failed to converge (status=1):\n",
      "STOP: TOTAL NO. of ITERATIONS REACHED LIMIT.\n",
      "\n",
      "Increase the number of iterations (max_iter) or scale the data as shown in:\n",
      "    https://scikit-learn.org/stable/modules/preprocessing.html\n",
      "Please also refer to the documentation for alternative solver options:\n",
      "    https://scikit-learn.org/stable/modules/linear_model.html#logistic-regression\n",
      "  n_iter_i = _check_optimize_result(\n",
      "/Users/kumaransekar/opt/anaconda3/lib/python3.9/site-packages/sklearn/linear_model/_logistic.py:763: ConvergenceWarning: lbfgs failed to converge (status=1):\n",
      "STOP: TOTAL NO. of ITERATIONS REACHED LIMIT.\n",
      "\n",
      "Increase the number of iterations (max_iter) or scale the data as shown in:\n",
      "    https://scikit-learn.org/stable/modules/preprocessing.html\n",
      "Please also refer to the documentation for alternative solver options:\n",
      "    https://scikit-learn.org/stable/modules/linear_model.html#logistic-regression\n",
      "  n_iter_i = _check_optimize_result(\n",
      "[Parallel(n_jobs=1)]: Done   7 out of   7 | elapsed:    0.7s finished\n",
      "\n",
      "[2022-05-06 21:16:46] Features: 6/1 -- score: 0.7978118899584385[Parallel(n_jobs=1)]: Using backend SequentialBackend with 1 concurrent workers.\n",
      "[Parallel(n_jobs=1)]: Done   1 out of   1 | elapsed:    0.0s remaining:    0.0s\n",
      "[Parallel(n_jobs=1)]: Done   6 out of   6 | elapsed:    0.1s finished\n",
      "\n",
      "[2022-05-06 21:16:46] Features: 5/1 -- score: 0.798847996708831[Parallel(n_jobs=1)]: Using backend SequentialBackend with 1 concurrent workers.\n",
      "[Parallel(n_jobs=1)]: Done   1 out of   1 | elapsed:    0.0s remaining:    0.0s\n",
      "[Parallel(n_jobs=1)]: Done   5 out of   5 | elapsed:    0.1s finished\n",
      "\n",
      "[2022-05-06 21:16:47] Features: 4/1 -- score: 0.798847996708831[Parallel(n_jobs=1)]: Using backend SequentialBackend with 1 concurrent workers.\n",
      "[Parallel(n_jobs=1)]: Done   1 out of   1 | elapsed:    0.1s remaining:    0.0s\n",
      "[Parallel(n_jobs=1)]: Done   4 out of   4 | elapsed:    0.1s finished\n",
      "\n",
      "[2022-05-06 21:16:47] Features: 3/1 -- score: 0.798847996708831[Parallel(n_jobs=1)]: Using backend SequentialBackend with 1 concurrent workers.\n",
      "[Parallel(n_jobs=1)]: Done   1 out of   1 | elapsed:    0.0s remaining:    0.0s\n",
      "[Parallel(n_jobs=1)]: Done   3 out of   3 | elapsed:    0.1s finished\n",
      "\n",
      "[2022-05-06 21:16:47] Features: 2/1 -- score: 0.798847996708831[Parallel(n_jobs=1)]: Using backend SequentialBackend with 1 concurrent workers.\n",
      "[Parallel(n_jobs=1)]: Done   1 out of   1 | elapsed:    0.0s remaining:    0.0s\n",
      "[Parallel(n_jobs=1)]: Done   2 out of   2 | elapsed:    0.0s finished\n",
      "\n",
      "[2022-05-06 21:16:47] Features: 1/1 -- score: 0.7984769767754061"
     ]
    },
    {
     "data": {
      "text/plain": [
       "SequentialFeatureSelector(estimator=LogisticRegression(), forward=False,\n",
       "                          k_features='best', scoring='f1', verbose=2)"
      ]
     },
     "execution_count": 37,
     "metadata": {},
     "output_type": "execute_result"
    }
   ],
   "source": [
    "sfs2.fit(df_enc.drop(columns = ['Survived'],axis =1), df_enc['Survived'])"
   ]
  },
  {
   "cell_type": "code",
   "execution_count": 38,
   "id": "1f6d63b4",
   "metadata": {},
   "outputs": [
    {
     "data": {
      "text/plain": [
       "0.798847996708831"
      ]
     },
     "execution_count": 38,
     "metadata": {},
     "output_type": "execute_result"
    }
   ],
   "source": [
    "sfs2.k_score_"
   ]
  },
  {
   "cell_type": "code",
   "execution_count": 39,
   "id": "02eb84e1",
   "metadata": {
    "scrolled": false
   },
   "outputs": [
    {
     "data": {
      "text/plain": [
       "('Sex_male', 'Embarked_Q', 'Embarked_S', 'SibSp', 'Parch')"
      ]
     },
     "execution_count": 39,
     "metadata": {},
     "output_type": "execute_result"
    }
   ],
   "source": [
    "sfs2.k_feature_names_"
   ]
  },
  {
   "cell_type": "markdown",
   "id": "b24b9153",
   "metadata": {},
   "source": [
    "Inference : From the forward and backward feature engineering that features we can see that features 'Sex_male', 'Embarked_Q, 'Embarked_S','SibSp','Parch"
   ]
  },
  {
   "cell_type": "code",
   "execution_count": 40,
   "id": "007f6724",
   "metadata": {},
   "outputs": [],
   "source": [
    "# Train test split"
   ]
  },
  {
   "cell_type": "code",
   "execution_count": 41,
   "id": "201ca3f2",
   "metadata": {},
   "outputs": [
    {
     "name": "stderr",
     "output_type": "stream",
     "text": [
      "/Users/kumaransekar/opt/anaconda3/lib/python3.9/site-packages/statsmodels/tsa/tsatools.py:142: FutureWarning: In a future version of pandas all arguments of concat except for the argument 'objs' will be keyword-only\n",
      "  x = pd.concat(x[::order], 1)\n"
     ]
    }
   ],
   "source": [
    "x  = df_enc.drop(columns=['Survived'], axis =1)\n",
    "Y = df_enc['Survived']\n",
    "X = sm.add_constant(x)"
   ]
  },
  {
   "cell_type": "code",
   "execution_count": 42,
   "id": "716f67cd",
   "metadata": {},
   "outputs": [],
   "source": [
    "X_train,X_test,Y_train,Y_test = train_test_split(X,Y,test_size=0.3, stratify = None,random_state=10)"
   ]
  },
  {
   "cell_type": "code",
   "execution_count": 43,
   "id": "67464da2",
   "metadata": {},
   "outputs": [
    {
     "data": {
      "text/plain": [
       "(914, 9)"
      ]
     },
     "execution_count": 43,
     "metadata": {},
     "output_type": "execute_result"
    }
   ],
   "source": [
    "X_train.shape"
   ]
  },
  {
   "cell_type": "code",
   "execution_count": 44,
   "id": "e0901d1f",
   "metadata": {},
   "outputs": [
    {
     "data": {
      "text/plain": [
       "(392, 9)"
      ]
     },
     "execution_count": 44,
     "metadata": {},
     "output_type": "execute_result"
    }
   ],
   "source": [
    "X_test.shape"
   ]
  },
  {
   "cell_type": "code",
   "execution_count": 45,
   "id": "b7eee1ef",
   "metadata": {},
   "outputs": [
    {
     "data": {
      "text/plain": [
       "(914,)"
      ]
     },
     "execution_count": 45,
     "metadata": {},
     "output_type": "execute_result"
    }
   ],
   "source": [
    "Y_train.shape"
   ]
  },
  {
   "cell_type": "code",
   "execution_count": 46,
   "id": "c77bc383",
   "metadata": {},
   "outputs": [
    {
     "data": {
      "text/plain": [
       "(392,)"
      ]
     },
     "execution_count": 46,
     "metadata": {},
     "output_type": "execute_result"
    }
   ],
   "source": [
    "Y_test.shape"
   ]
  },
  {
   "cell_type": "code",
   "execution_count": 47,
   "id": "313d5b60",
   "metadata": {},
   "outputs": [
    {
     "data": {
      "text/plain": [
       "0    61.816193\n",
       "1    38.183807\n",
       "Name: Survived, dtype: float64"
      ]
     },
     "execution_count": 47,
     "metadata": {},
     "output_type": "execute_result"
    }
   ],
   "source": [
    "(Y_train.value_counts() / len(Y_train))*100"
   ]
  },
  {
   "cell_type": "code",
   "execution_count": 48,
   "id": "a46b42c9",
   "metadata": {},
   "outputs": [
    {
     "data": {
      "text/plain": [
       "0    63.520408\n",
       "1    36.479592\n",
       "Name: Survived, dtype: float64"
      ]
     },
     "execution_count": 48,
     "metadata": {},
     "output_type": "execute_result"
    }
   ],
   "source": [
    "(Y_test.value_counts() / len(Y_test))*100"
   ]
  },
  {
   "cell_type": "code",
   "execution_count": 49,
   "id": "64b16294",
   "metadata": {},
   "outputs": [],
   "source": [
    "# Base Model"
   ]
  },
  {
   "cell_type": "code",
   "execution_count": 50,
   "id": "895b179e",
   "metadata": {},
   "outputs": [],
   "source": [
    "# Logistic Regression"
   ]
  },
  {
   "cell_type": "code",
   "execution_count": 51,
   "id": "00e33bef",
   "metadata": {},
   "outputs": [
    {
     "name": "stdout",
     "output_type": "stream",
     "text": [
      "Optimization terminated successfully.\n",
      "         Current function value: 0.381386\n",
      "         Iterations 7\n"
     ]
    }
   ],
   "source": [
    "LR_model = sm.Logit(Y_train,X_train).fit()"
   ]
  },
  {
   "cell_type": "code",
   "execution_count": 52,
   "id": "1c783159",
   "metadata": {},
   "outputs": [
    {
     "data": {
      "text/html": [
       "<table class=\"simpletable\">\n",
       "<caption>Logit Regression Results</caption>\n",
       "<tr>\n",
       "  <th>Dep. Variable:</th>       <td>Survived</td>     <th>  No. Observations:  </th>   <td>   914</td>  \n",
       "</tr>\n",
       "<tr>\n",
       "  <th>Model:</th>                 <td>Logit</td>      <th>  Df Residuals:      </th>   <td>   905</td>  \n",
       "</tr>\n",
       "<tr>\n",
       "  <th>Method:</th>                 <td>MLE</td>       <th>  Df Model:          </th>   <td>     8</td>  \n",
       "</tr>\n",
       "<tr>\n",
       "  <th>Date:</th>            <td>Fri, 06 May 2022</td> <th>  Pseudo R-squ.:     </th>   <td>0.4265</td>  \n",
       "</tr>\n",
       "<tr>\n",
       "  <th>Time:</th>                <td>21:16:47</td>     <th>  Log-Likelihood:    </th>  <td> -348.59</td> \n",
       "</tr>\n",
       "<tr>\n",
       "  <th>converged:</th>             <td>True</td>       <th>  LL-Null:           </th>  <td> -607.77</td> \n",
       "</tr>\n",
       "<tr>\n",
       "  <th>Covariance Type:</th>     <td>nonrobust</td>    <th>  LLR p-value:       </th> <td>8.045e-107</td>\n",
       "</tr>\n",
       "</table>\n",
       "<table class=\"simpletable\">\n",
       "<tr>\n",
       "       <td></td>         <th>coef</th>     <th>std err</th>      <th>z</th>      <th>P>|z|</th>  <th>[0.025</th>    <th>0.975]</th>  \n",
       "</tr>\n",
       "<tr>\n",
       "  <th>const</th>      <td>    5.3136</td> <td>    0.599</td> <td>    8.865</td> <td> 0.000</td> <td>    4.139</td> <td>    6.488</td>\n",
       "</tr>\n",
       "<tr>\n",
       "  <th>Sex_male</th>   <td>   -3.5605</td> <td>    0.224</td> <td>  -15.897</td> <td> 0.000</td> <td>   -3.999</td> <td>   -3.121</td>\n",
       "</tr>\n",
       "<tr>\n",
       "  <th>Embarked_Q</th> <td>    0.2594</td> <td>    0.415</td> <td>    0.625</td> <td> 0.532</td> <td>   -0.554</td> <td>    1.073</td>\n",
       "</tr>\n",
       "<tr>\n",
       "  <th>Embarked_S</th> <td>   -0.1536</td> <td>    0.259</td> <td>   -0.593</td> <td> 0.553</td> <td>   -0.661</td> <td>    0.354</td>\n",
       "</tr>\n",
       "<tr>\n",
       "  <th>Pclass</th>     <td>   -1.0986</td> <td>    0.156</td> <td>   -7.033</td> <td> 0.000</td> <td>   -1.405</td> <td>   -0.792</td>\n",
       "</tr>\n",
       "<tr>\n",
       "  <th>Age</th>        <td>   -0.0370</td> <td>    0.008</td> <td>   -4.394</td> <td> 0.000</td> <td>   -0.054</td> <td>   -0.021</td>\n",
       "</tr>\n",
       "<tr>\n",
       "  <th>SibSp</th>      <td>   -0.2643</td> <td>    0.105</td> <td>   -2.526</td> <td> 0.012</td> <td>   -0.469</td> <td>   -0.059</td>\n",
       "</tr>\n",
       "<tr>\n",
       "  <th>Parch</th>      <td>   -0.0385</td> <td>    0.107</td> <td>   -0.360</td> <td> 0.719</td> <td>   -0.248</td> <td>    0.171</td>\n",
       "</tr>\n",
       "<tr>\n",
       "  <th>Fare</th>       <td>    0.0021</td> <td>    0.002</td> <td>    0.963</td> <td> 0.335</td> <td>   -0.002</td> <td>    0.006</td>\n",
       "</tr>\n",
       "</table>"
      ],
      "text/plain": [
       "<class 'statsmodels.iolib.summary.Summary'>\n",
       "\"\"\"\n",
       "                           Logit Regression Results                           \n",
       "==============================================================================\n",
       "Dep. Variable:               Survived   No. Observations:                  914\n",
       "Model:                          Logit   Df Residuals:                      905\n",
       "Method:                           MLE   Df Model:                            8\n",
       "Date:                Fri, 06 May 2022   Pseudo R-squ.:                  0.4265\n",
       "Time:                        21:16:47   Log-Likelihood:                -348.59\n",
       "converged:                       True   LL-Null:                       -607.77\n",
       "Covariance Type:            nonrobust   LLR p-value:                8.045e-107\n",
       "==============================================================================\n",
       "                 coef    std err          z      P>|z|      [0.025      0.975]\n",
       "------------------------------------------------------------------------------\n",
       "const          5.3136      0.599      8.865      0.000       4.139       6.488\n",
       "Sex_male      -3.5605      0.224    -15.897      0.000      -3.999      -3.121\n",
       "Embarked_Q     0.2594      0.415      0.625      0.532      -0.554       1.073\n",
       "Embarked_S    -0.1536      0.259     -0.593      0.553      -0.661       0.354\n",
       "Pclass        -1.0986      0.156     -7.033      0.000      -1.405      -0.792\n",
       "Age           -0.0370      0.008     -4.394      0.000      -0.054      -0.021\n",
       "SibSp         -0.2643      0.105     -2.526      0.012      -0.469      -0.059\n",
       "Parch         -0.0385      0.107     -0.360      0.719      -0.248       0.171\n",
       "Fare           0.0021      0.002      0.963      0.335      -0.002       0.006\n",
       "==============================================================================\n",
       "\"\"\""
      ]
     },
     "execution_count": 52,
     "metadata": {},
     "output_type": "execute_result"
    }
   ],
   "source": [
    "LR_model.summary()"
   ]
  },
  {
   "cell_type": "code",
   "execution_count": 53,
   "id": "8a657992",
   "metadata": {},
   "outputs": [],
   "source": [
    "y_pred_train_LR = LR_model.predict(X_train)"
   ]
  },
  {
   "cell_type": "code",
   "execution_count": 54,
   "id": "8712bf8b",
   "metadata": {},
   "outputs": [],
   "source": [
    "y_pred_test_LR = LR_model.predict(X_test)"
   ]
  },
  {
   "cell_type": "code",
   "execution_count": 55,
   "id": "1d9ee6f8",
   "metadata": {},
   "outputs": [],
   "source": [
    "y_pred_test_LR_class = [0 if val<0.5 else 1 for val in y_pred_test_LR]"
   ]
  },
  {
   "cell_type": "code",
   "execution_count": 56,
   "id": "775675e5",
   "metadata": {},
   "outputs": [],
   "source": [
    "y_pred_train_LR_class = [0 if val<0.5 else 1 for val in y_pred_train_LR]"
   ]
  },
  {
   "cell_type": "code",
   "execution_count": 57,
   "id": "2571d064",
   "metadata": {},
   "outputs": [
    {
     "data": {
      "text/plain": [
       "0.8435448577680525"
      ]
     },
     "execution_count": 57,
     "metadata": {},
     "output_type": "execute_result"
    }
   ],
   "source": [
    "LR_train_accuarcy = accuracy_score(Y_train,y_pred_train_LR_class)\n",
    "LR_train_accuarcy"
   ]
  },
  {
   "cell_type": "code",
   "execution_count": 58,
   "id": "273b8005",
   "metadata": {
    "scrolled": true
   },
   "outputs": [
    {
     "data": {
      "text/plain": [
       "0.8852040816326531"
      ]
     },
     "execution_count": 58,
     "metadata": {},
     "output_type": "execute_result"
    }
   ],
   "source": [
    "LR_test_accuarcy = accuracy_score(Y_test,y_pred_test_LR_class)\n",
    "LR_test_accuarcy"
   ]
  },
  {
   "cell_type": "code",
   "execution_count": 59,
   "id": "3ec7c4ab",
   "metadata": {
    "scrolled": true
   },
   "outputs": [
    {
     "data": {
      "text/plain": [
       "0.748172681589767"
      ]
     },
     "execution_count": 59,
     "metadata": {},
     "output_type": "execute_result"
    }
   ],
   "source": [
    "cohen_kappa_score_LR = cohen_kappa_score(Y_test,y_pred_test_LR_class)\n",
    "cohen_kappa_score_LR"
   ]
  },
  {
   "cell_type": "code",
   "execution_count": 60,
   "id": "3703ebf5",
   "metadata": {},
   "outputs": [],
   "source": [
    "# report_Card"
   ]
  },
  {
   "cell_type": "code",
   "execution_count": 61,
   "id": "64db7c62",
   "metadata": {},
   "outputs": [],
   "source": [
    "Report_Card = pd.DataFrame(columns= ['Model','Train_Score','Test_Score','Cohen_kappa_score'], index = None)"
   ]
  },
  {
   "cell_type": "code",
   "execution_count": 62,
   "id": "9a7c0999",
   "metadata": {},
   "outputs": [],
   "source": [
    "Report_Card = Report_Card.append({'Model' : 'Logit_regression', \n",
    "                    'Train_Score' : round(LR_train_accuarcy,2),\n",
    "                    'Test_Score': round(LR_test_accuarcy,2),\n",
    "                    'Cohen_kappa_score' : round(cohen_kappa_score_LR,2)\n",
    "                   }, ignore_index=True)"
   ]
  },
  {
   "cell_type": "code",
   "execution_count": 63,
   "id": "319e1620",
   "metadata": {},
   "outputs": [
    {
     "data": {
      "text/html": [
       "<div>\n",
       "<style scoped>\n",
       "    .dataframe tbody tr th:only-of-type {\n",
       "        vertical-align: middle;\n",
       "    }\n",
       "\n",
       "    .dataframe tbody tr th {\n",
       "        vertical-align: top;\n",
       "    }\n",
       "\n",
       "    .dataframe thead th {\n",
       "        text-align: right;\n",
       "    }\n",
       "</style>\n",
       "<table border=\"1\" class=\"dataframe\">\n",
       "  <thead>\n",
       "    <tr style=\"text-align: right;\">\n",
       "      <th></th>\n",
       "      <th>Model</th>\n",
       "      <th>Train_Score</th>\n",
       "      <th>Test_Score</th>\n",
       "      <th>Cohen_kappa_score</th>\n",
       "    </tr>\n",
       "  </thead>\n",
       "  <tbody>\n",
       "    <tr>\n",
       "      <th>0</th>\n",
       "      <td>Logit_regression</td>\n",
       "      <td>0.84</td>\n",
       "      <td>0.89</td>\n",
       "      <td>0.75</td>\n",
       "    </tr>\n",
       "  </tbody>\n",
       "</table>\n",
       "</div>"
      ],
      "text/plain": [
       "              Model  Train_Score  Test_Score  Cohen_kappa_score\n",
       "0  Logit_regression         0.84        0.89               0.75"
      ]
     },
     "execution_count": 63,
     "metadata": {},
     "output_type": "execute_result"
    }
   ],
   "source": [
    "Report_Card"
   ]
  },
  {
   "cell_type": "code",
   "execution_count": 64,
   "id": "7374c7d1",
   "metadata": {},
   "outputs": [],
   "source": [
    "# KNN Model"
   ]
  },
  {
   "cell_type": "code",
   "execution_count": 65,
   "id": "9525d42f",
   "metadata": {},
   "outputs": [],
   "source": [
    "X  = df_enc.drop(columns=['Survived'], axis =1)\n",
    "Y = df_enc['Survived']"
   ]
  },
  {
   "cell_type": "code",
   "execution_count": 66,
   "id": "49ebf5f6",
   "metadata": {},
   "outputs": [],
   "source": [
    "X_train,X_test,Y_train,Y_test = train_test_split(X,Y,test_size=0.3, stratify = None,random_state=10)"
   ]
  },
  {
   "cell_type": "code",
   "execution_count": 67,
   "id": "3b176960",
   "metadata": {},
   "outputs": [
    {
     "data": {
      "text/plain": [
       "KNeighborsClassifier()"
      ]
     },
     "execution_count": 67,
     "metadata": {},
     "output_type": "execute_result"
    }
   ],
   "source": [
    "from sklearn.neighbors import KNeighborsClassifier\n",
    "knn = KNeighborsClassifier()\n",
    "knn.fit(X_train,Y_train)"
   ]
  },
  {
   "cell_type": "code",
   "execution_count": 68,
   "id": "2f4b3332",
   "metadata": {},
   "outputs": [],
   "source": [
    "y_pred_train_KNN = knn.predict(X_train)"
   ]
  },
  {
   "cell_type": "code",
   "execution_count": 69,
   "id": "331a0e59",
   "metadata": {},
   "outputs": [],
   "source": [
    "y_pred_test_KNN = knn.predict(X_test)"
   ]
  },
  {
   "cell_type": "code",
   "execution_count": 70,
   "id": "dd40863c",
   "metadata": {},
   "outputs": [],
   "source": [
    "KNN_train_accuarcy = accuracy_score(Y_train,y_pred_train_KNN)"
   ]
  },
  {
   "cell_type": "code",
   "execution_count": 71,
   "id": "8b614011",
   "metadata": {},
   "outputs": [],
   "source": [
    "KNN_test_accuarcy = accuracy_score(Y_test,y_pred_test_KNN)"
   ]
  },
  {
   "cell_type": "code",
   "execution_count": 72,
   "id": "701da7b8",
   "metadata": {},
   "outputs": [],
   "source": [
    "cohen_kappa_score_KNN = cohen_kappa_score(Y_test,y_pred_test_KNN)"
   ]
  },
  {
   "cell_type": "code",
   "execution_count": 73,
   "id": "86f46e70",
   "metadata": {},
   "outputs": [],
   "source": [
    "Report_Card = Report_Card.append({'Model' : 'KNN', \n",
    "                    'Train_Score' : round(KNN_train_accuarcy,2),\n",
    "                    'Test_Score': round(KNN_test_accuarcy,2),\n",
    "                    'Cohen_kappa_score' : round(cohen_kappa_score_KNN,2)\n",
    "                   }, ignore_index=True)"
   ]
  },
  {
   "cell_type": "code",
   "execution_count": 74,
   "id": "de995b28",
   "metadata": {
    "scrolled": true
   },
   "outputs": [
    {
     "data": {
      "text/html": [
       "<div>\n",
       "<style scoped>\n",
       "    .dataframe tbody tr th:only-of-type {\n",
       "        vertical-align: middle;\n",
       "    }\n",
       "\n",
       "    .dataframe tbody tr th {\n",
       "        vertical-align: top;\n",
       "    }\n",
       "\n",
       "    .dataframe thead th {\n",
       "        text-align: right;\n",
       "    }\n",
       "</style>\n",
       "<table border=\"1\" class=\"dataframe\">\n",
       "  <thead>\n",
       "    <tr style=\"text-align: right;\">\n",
       "      <th></th>\n",
       "      <th>Model</th>\n",
       "      <th>Train_Score</th>\n",
       "      <th>Test_Score</th>\n",
       "      <th>Cohen_kappa_score</th>\n",
       "    </tr>\n",
       "  </thead>\n",
       "  <tbody>\n",
       "    <tr>\n",
       "      <th>0</th>\n",
       "      <td>Logit_regression</td>\n",
       "      <td>0.84</td>\n",
       "      <td>0.89</td>\n",
       "      <td>0.75</td>\n",
       "    </tr>\n",
       "    <tr>\n",
       "      <th>1</th>\n",
       "      <td>KNN</td>\n",
       "      <td>0.81</td>\n",
       "      <td>0.70</td>\n",
       "      <td>0.34</td>\n",
       "    </tr>\n",
       "  </tbody>\n",
       "</table>\n",
       "</div>"
      ],
      "text/plain": [
       "              Model  Train_Score  Test_Score  Cohen_kappa_score\n",
       "0  Logit_regression         0.84        0.89               0.75\n",
       "1               KNN         0.81        0.70               0.34"
      ]
     },
     "execution_count": 74,
     "metadata": {},
     "output_type": "execute_result"
    }
   ],
   "source": [
    "Report_Card"
   ]
  },
  {
   "cell_type": "code",
   "execution_count": 75,
   "id": "3eca97b9",
   "metadata": {},
   "outputs": [],
   "source": [
    "# Decision Tree"
   ]
  },
  {
   "cell_type": "code",
   "execution_count": 76,
   "id": "68dbf2bb",
   "metadata": {},
   "outputs": [
    {
     "data": {
      "text/plain": [
       "DecisionTreeClassifier()"
      ]
     },
     "execution_count": 76,
     "metadata": {},
     "output_type": "execute_result"
    }
   ],
   "source": [
    "from sklearn.tree import DecisionTreeClassifier\n",
    "DT = DecisionTreeClassifier()\n",
    "DT.fit(X_train,Y_train)"
   ]
  },
  {
   "cell_type": "code",
   "execution_count": 77,
   "id": "8841ed82",
   "metadata": {},
   "outputs": [],
   "source": [
    "y_pred_train_DT = DT.predict(X_train)"
   ]
  },
  {
   "cell_type": "code",
   "execution_count": 78,
   "id": "708aa2c1",
   "metadata": {},
   "outputs": [],
   "source": [
    "y_pred_test_DT = DT.predict(X_test)"
   ]
  },
  {
   "cell_type": "code",
   "execution_count": 79,
   "id": "c8321814",
   "metadata": {},
   "outputs": [],
   "source": [
    "DT_train_accuarcy = accuracy_score(Y_train,y_pred_train_DT)"
   ]
  },
  {
   "cell_type": "code",
   "execution_count": 80,
   "id": "8720aa97",
   "metadata": {},
   "outputs": [],
   "source": [
    "DT_test_accuarcy = accuracy_score(Y_test,y_pred_test_DT)"
   ]
  },
  {
   "cell_type": "code",
   "execution_count": 81,
   "id": "e935b9fd",
   "metadata": {},
   "outputs": [],
   "source": [
    "cohen_kappa_score_DT = cohen_kappa_score(Y_test,y_pred_test_DT)"
   ]
  },
  {
   "cell_type": "code",
   "execution_count": 82,
   "id": "00866077",
   "metadata": {},
   "outputs": [
    {
     "data": {
      "text/html": [
       "<div>\n",
       "<style scoped>\n",
       "    .dataframe tbody tr th:only-of-type {\n",
       "        vertical-align: middle;\n",
       "    }\n",
       "\n",
       "    .dataframe tbody tr th {\n",
       "        vertical-align: top;\n",
       "    }\n",
       "\n",
       "    .dataframe thead th {\n",
       "        text-align: right;\n",
       "    }\n",
       "</style>\n",
       "<table border=\"1\" class=\"dataframe\">\n",
       "  <thead>\n",
       "    <tr style=\"text-align: right;\">\n",
       "      <th></th>\n",
       "      <th>Model</th>\n",
       "      <th>Train_Score</th>\n",
       "      <th>Test_Score</th>\n",
       "      <th>Cohen_kappa_score</th>\n",
       "    </tr>\n",
       "  </thead>\n",
       "  <tbody>\n",
       "    <tr>\n",
       "      <th>0</th>\n",
       "      <td>Logit_regression</td>\n",
       "      <td>0.84</td>\n",
       "      <td>0.89</td>\n",
       "      <td>0.75</td>\n",
       "    </tr>\n",
       "    <tr>\n",
       "      <th>1</th>\n",
       "      <td>KNN</td>\n",
       "      <td>0.81</td>\n",
       "      <td>0.70</td>\n",
       "      <td>0.34</td>\n",
       "    </tr>\n",
       "    <tr>\n",
       "      <th>2</th>\n",
       "      <td>Decision_tree</td>\n",
       "      <td>0.98</td>\n",
       "      <td>0.81</td>\n",
       "      <td>0.59</td>\n",
       "    </tr>\n",
       "  </tbody>\n",
       "</table>\n",
       "</div>"
      ],
      "text/plain": [
       "              Model  Train_Score  Test_Score  Cohen_kappa_score\n",
       "0  Logit_regression         0.84        0.89               0.75\n",
       "1               KNN         0.81        0.70               0.34\n",
       "2     Decision_tree         0.98        0.81               0.59"
      ]
     },
     "execution_count": 82,
     "metadata": {},
     "output_type": "execute_result"
    }
   ],
   "source": [
    "Report_Card = Report_Card.append({'Model' : 'Decision_tree', \n",
    "                    'Train_Score' : round(DT_train_accuarcy,2),\n",
    "                    'Test_Score': round(DT_test_accuarcy,2),\n",
    "                    'Cohen_kappa_score' : round(cohen_kappa_score_DT,2)\n",
    "                   }, ignore_index=True)\n",
    "Report_Card"
   ]
  },
  {
   "cell_type": "code",
   "execution_count": 83,
   "id": "d35648f6",
   "metadata": {},
   "outputs": [],
   "source": [
    "# Random_Forest"
   ]
  },
  {
   "cell_type": "code",
   "execution_count": 84,
   "id": "7f9e4125",
   "metadata": {},
   "outputs": [
    {
     "data": {
      "text/plain": [
       "RandomForestClassifier(random_state=10)"
      ]
     },
     "execution_count": 84,
     "metadata": {},
     "output_type": "execute_result"
    }
   ],
   "source": [
    "from sklearn.ensemble import RandomForestClassifier\n",
    "RF = RandomForestClassifier(random_state=10)\n",
    "RF.fit(X_train,Y_train)"
   ]
  },
  {
   "cell_type": "code",
   "execution_count": 85,
   "id": "d6007b6b",
   "metadata": {},
   "outputs": [],
   "source": [
    "y_pred_train_RF = RF.predict(X_train)"
   ]
  },
  {
   "cell_type": "code",
   "execution_count": 86,
   "id": "d3bf2e9c",
   "metadata": {},
   "outputs": [],
   "source": [
    "y_pred_test_RF = RF.predict(X_test)"
   ]
  },
  {
   "cell_type": "code",
   "execution_count": 87,
   "id": "184b335f",
   "metadata": {},
   "outputs": [],
   "source": [
    "RF_train_accuarcy = accuracy_score(Y_train,y_pred_train_RF)"
   ]
  },
  {
   "cell_type": "code",
   "execution_count": 88,
   "id": "b8a11cfa",
   "metadata": {},
   "outputs": [],
   "source": [
    "RF_test_accuarcy = accuracy_score(Y_test,y_pred_test_RF)"
   ]
  },
  {
   "cell_type": "code",
   "execution_count": 89,
   "id": "8fd9ed71",
   "metadata": {},
   "outputs": [],
   "source": [
    "cohen_kappa_score_RF = cohen_kappa_score(Y_test,y_pred_test_RF)"
   ]
  },
  {
   "cell_type": "code",
   "execution_count": 90,
   "id": "5203092b",
   "metadata": {},
   "outputs": [
    {
     "data": {
      "text/html": [
       "<div>\n",
       "<style scoped>\n",
       "    .dataframe tbody tr th:only-of-type {\n",
       "        vertical-align: middle;\n",
       "    }\n",
       "\n",
       "    .dataframe tbody tr th {\n",
       "        vertical-align: top;\n",
       "    }\n",
       "\n",
       "    .dataframe thead th {\n",
       "        text-align: right;\n",
       "    }\n",
       "</style>\n",
       "<table border=\"1\" class=\"dataframe\">\n",
       "  <thead>\n",
       "    <tr style=\"text-align: right;\">\n",
       "      <th></th>\n",
       "      <th>Model</th>\n",
       "      <th>Train_Score</th>\n",
       "      <th>Test_Score</th>\n",
       "      <th>Cohen_kappa_score</th>\n",
       "    </tr>\n",
       "  </thead>\n",
       "  <tbody>\n",
       "    <tr>\n",
       "      <th>0</th>\n",
       "      <td>Logit_regression</td>\n",
       "      <td>0.84</td>\n",
       "      <td>0.89</td>\n",
       "      <td>0.75</td>\n",
       "    </tr>\n",
       "    <tr>\n",
       "      <th>1</th>\n",
       "      <td>KNN</td>\n",
       "      <td>0.81</td>\n",
       "      <td>0.70</td>\n",
       "      <td>0.34</td>\n",
       "    </tr>\n",
       "    <tr>\n",
       "      <th>2</th>\n",
       "      <td>Decision_tree</td>\n",
       "      <td>0.98</td>\n",
       "      <td>0.81</td>\n",
       "      <td>0.59</td>\n",
       "    </tr>\n",
       "    <tr>\n",
       "      <th>3</th>\n",
       "      <td>Random_Forest</td>\n",
       "      <td>0.98</td>\n",
       "      <td>0.83</td>\n",
       "      <td>0.64</td>\n",
       "    </tr>\n",
       "  </tbody>\n",
       "</table>\n",
       "</div>"
      ],
      "text/plain": [
       "              Model  Train_Score  Test_Score  Cohen_kappa_score\n",
       "0  Logit_regression         0.84        0.89               0.75\n",
       "1               KNN         0.81        0.70               0.34\n",
       "2     Decision_tree         0.98        0.81               0.59\n",
       "3     Random_Forest         0.98        0.83               0.64"
      ]
     },
     "execution_count": 90,
     "metadata": {},
     "output_type": "execute_result"
    }
   ],
   "source": [
    "Report_Card = Report_Card.append({'Model' : 'Random_Forest', \n",
    "                    'Train_Score' : round(RF_train_accuarcy,2),\n",
    "                    'Test_Score': round(RF_test_accuarcy,2),\n",
    "                    'Cohen_kappa_score' : round(cohen_kappa_score_RF,2)\n",
    "                   }, ignore_index=True)\n",
    "Report_Card"
   ]
  },
  {
   "cell_type": "code",
   "execution_count": 91,
   "id": "eebbc241",
   "metadata": {},
   "outputs": [],
   "source": [
    "# AdaBoost"
   ]
  },
  {
   "cell_type": "code",
   "execution_count": 92,
   "id": "e8694a16",
   "metadata": {},
   "outputs": [
    {
     "data": {
      "text/plain": [
       "AdaBoostClassifier()"
      ]
     },
     "execution_count": 92,
     "metadata": {},
     "output_type": "execute_result"
    }
   ],
   "source": [
    "from sklearn.ensemble import AdaBoostClassifier\n",
    "ABC = AdaBoostClassifier()\n",
    "ABC.fit(X_train,Y_train)"
   ]
  },
  {
   "cell_type": "code",
   "execution_count": 93,
   "id": "ff0f60ae",
   "metadata": {},
   "outputs": [],
   "source": [
    "y_pred_train_ABC = ABC.predict(X_train)"
   ]
  },
  {
   "cell_type": "code",
   "execution_count": 94,
   "id": "6701dcc0",
   "metadata": {},
   "outputs": [],
   "source": [
    "y_pred_test_ABC = ABC.predict(X_test)"
   ]
  },
  {
   "cell_type": "code",
   "execution_count": 95,
   "id": "8c430761",
   "metadata": {},
   "outputs": [],
   "source": [
    "ABC_train_accuarcy = accuracy_score(Y_train,y_pred_train_ABC)"
   ]
  },
  {
   "cell_type": "code",
   "execution_count": 96,
   "id": "0af3d4c2",
   "metadata": {},
   "outputs": [],
   "source": [
    "ABC_test_accuarcy = accuracy_score(Y_test,y_pred_test_ABC)"
   ]
  },
  {
   "cell_type": "code",
   "execution_count": 97,
   "id": "8386e4ce",
   "metadata": {},
   "outputs": [],
   "source": [
    "cohen_kappa_score_ABC = cohen_kappa_score(Y_test,y_pred_test_ABC)"
   ]
  },
  {
   "cell_type": "code",
   "execution_count": 98,
   "id": "42d5b3c2",
   "metadata": {
    "scrolled": true
   },
   "outputs": [
    {
     "data": {
      "text/html": [
       "<div>\n",
       "<style scoped>\n",
       "    .dataframe tbody tr th:only-of-type {\n",
       "        vertical-align: middle;\n",
       "    }\n",
       "\n",
       "    .dataframe tbody tr th {\n",
       "        vertical-align: top;\n",
       "    }\n",
       "\n",
       "    .dataframe thead th {\n",
       "        text-align: right;\n",
       "    }\n",
       "</style>\n",
       "<table border=\"1\" class=\"dataframe\">\n",
       "  <thead>\n",
       "    <tr style=\"text-align: right;\">\n",
       "      <th></th>\n",
       "      <th>Model</th>\n",
       "      <th>Train_Score</th>\n",
       "      <th>Test_Score</th>\n",
       "      <th>Cohen_kappa_score</th>\n",
       "    </tr>\n",
       "  </thead>\n",
       "  <tbody>\n",
       "    <tr>\n",
       "      <th>0</th>\n",
       "      <td>Logit_regression</td>\n",
       "      <td>0.84</td>\n",
       "      <td>0.89</td>\n",
       "      <td>0.75</td>\n",
       "    </tr>\n",
       "    <tr>\n",
       "      <th>1</th>\n",
       "      <td>KNN</td>\n",
       "      <td>0.81</td>\n",
       "      <td>0.70</td>\n",
       "      <td>0.34</td>\n",
       "    </tr>\n",
       "    <tr>\n",
       "      <th>2</th>\n",
       "      <td>Decision_tree</td>\n",
       "      <td>0.98</td>\n",
       "      <td>0.81</td>\n",
       "      <td>0.59</td>\n",
       "    </tr>\n",
       "    <tr>\n",
       "      <th>3</th>\n",
       "      <td>Random_Forest</td>\n",
       "      <td>0.98</td>\n",
       "      <td>0.83</td>\n",
       "      <td>0.64</td>\n",
       "    </tr>\n",
       "    <tr>\n",
       "      <th>4</th>\n",
       "      <td>AdaBoostClassifier</td>\n",
       "      <td>0.86</td>\n",
       "      <td>0.87</td>\n",
       "      <td>0.71</td>\n",
       "    </tr>\n",
       "  </tbody>\n",
       "</table>\n",
       "</div>"
      ],
      "text/plain": [
       "                Model  Train_Score  Test_Score  Cohen_kappa_score\n",
       "0    Logit_regression         0.84        0.89               0.75\n",
       "1                 KNN         0.81        0.70               0.34\n",
       "2       Decision_tree         0.98        0.81               0.59\n",
       "3       Random_Forest         0.98        0.83               0.64\n",
       "4  AdaBoostClassifier         0.86        0.87               0.71"
      ]
     },
     "execution_count": 98,
     "metadata": {},
     "output_type": "execute_result"
    }
   ],
   "source": [
    "Report_Card = Report_Card.append({'Model' : 'AdaBoostClassifier', \n",
    "                    'Train_Score' : round(ABC_train_accuarcy,2),\n",
    "                    'Test_Score': round(ABC_test_accuarcy,2),\n",
    "                    'Cohen_kappa_score' : round(cohen_kappa_score_ABC,2)\n",
    "                   }, ignore_index=True)\n",
    "Report_Card"
   ]
  },
  {
   "cell_type": "code",
   "execution_count": 99,
   "id": "c229abac",
   "metadata": {},
   "outputs": [],
   "source": [
    "# Gradient Boosting"
   ]
  },
  {
   "cell_type": "code",
   "execution_count": 100,
   "id": "c58dfd30",
   "metadata": {},
   "outputs": [
    {
     "data": {
      "text/plain": [
       "GradientBoostingClassifier()"
      ]
     },
     "execution_count": 100,
     "metadata": {},
     "output_type": "execute_result"
    }
   ],
   "source": [
    "from sklearn.ensemble import GradientBoostingClassifier\n",
    "GBC = GradientBoostingClassifier()\n",
    "GBC.fit(X_train,Y_train)"
   ]
  },
  {
   "cell_type": "code",
   "execution_count": 101,
   "id": "d9afab4f",
   "metadata": {},
   "outputs": [],
   "source": [
    "y_pred_train_GBC = GBC.predict(X_train)"
   ]
  },
  {
   "cell_type": "code",
   "execution_count": 102,
   "id": "c4bfb15b",
   "metadata": {},
   "outputs": [],
   "source": [
    "y_pred_test_GBC = GBC.predict(X_test)"
   ]
  },
  {
   "cell_type": "code",
   "execution_count": 103,
   "id": "0b89d73b",
   "metadata": {},
   "outputs": [],
   "source": [
    "GBC_train_accuarcy = accuracy_score(Y_train,y_pred_train_GBC)"
   ]
  },
  {
   "cell_type": "code",
   "execution_count": 104,
   "id": "2d8cd886",
   "metadata": {},
   "outputs": [],
   "source": [
    "GBC_test_accuarcy = accuracy_score(Y_test,y_pred_test_GBC)"
   ]
  },
  {
   "cell_type": "code",
   "execution_count": 105,
   "id": "391d2b40",
   "metadata": {},
   "outputs": [],
   "source": [
    "cohen_kappa_score_GBC = cohen_kappa_score(Y_test,y_pred_test_GBC)"
   ]
  },
  {
   "cell_type": "code",
   "execution_count": 106,
   "id": "61087ca9",
   "metadata": {
    "scrolled": true
   },
   "outputs": [
    {
     "data": {
      "text/html": [
       "<div>\n",
       "<style scoped>\n",
       "    .dataframe tbody tr th:only-of-type {\n",
       "        vertical-align: middle;\n",
       "    }\n",
       "\n",
       "    .dataframe tbody tr th {\n",
       "        vertical-align: top;\n",
       "    }\n",
       "\n",
       "    .dataframe thead th {\n",
       "        text-align: right;\n",
       "    }\n",
       "</style>\n",
       "<table border=\"1\" class=\"dataframe\">\n",
       "  <thead>\n",
       "    <tr style=\"text-align: right;\">\n",
       "      <th></th>\n",
       "      <th>Model</th>\n",
       "      <th>Train_Score</th>\n",
       "      <th>Test_Score</th>\n",
       "      <th>Cohen_kappa_score</th>\n",
       "    </tr>\n",
       "  </thead>\n",
       "  <tbody>\n",
       "    <tr>\n",
       "      <th>0</th>\n",
       "      <td>Logit_regression</td>\n",
       "      <td>0.84</td>\n",
       "      <td>0.89</td>\n",
       "      <td>0.75</td>\n",
       "    </tr>\n",
       "    <tr>\n",
       "      <th>1</th>\n",
       "      <td>KNN</td>\n",
       "      <td>0.81</td>\n",
       "      <td>0.70</td>\n",
       "      <td>0.34</td>\n",
       "    </tr>\n",
       "    <tr>\n",
       "      <th>2</th>\n",
       "      <td>Decision_tree</td>\n",
       "      <td>0.98</td>\n",
       "      <td>0.81</td>\n",
       "      <td>0.59</td>\n",
       "    </tr>\n",
       "    <tr>\n",
       "      <th>3</th>\n",
       "      <td>Random_Forest</td>\n",
       "      <td>0.98</td>\n",
       "      <td>0.83</td>\n",
       "      <td>0.64</td>\n",
       "    </tr>\n",
       "    <tr>\n",
       "      <th>4</th>\n",
       "      <td>AdaBoostClassifier</td>\n",
       "      <td>0.86</td>\n",
       "      <td>0.87</td>\n",
       "      <td>0.71</td>\n",
       "    </tr>\n",
       "    <tr>\n",
       "      <th>5</th>\n",
       "      <td>GradientBoostingClassifier</td>\n",
       "      <td>0.90</td>\n",
       "      <td>0.88</td>\n",
       "      <td>0.74</td>\n",
       "    </tr>\n",
       "  </tbody>\n",
       "</table>\n",
       "</div>"
      ],
      "text/plain": [
       "                        Model  Train_Score  Test_Score  Cohen_kappa_score\n",
       "0            Logit_regression         0.84        0.89               0.75\n",
       "1                         KNN         0.81        0.70               0.34\n",
       "2               Decision_tree         0.98        0.81               0.59\n",
       "3               Random_Forest         0.98        0.83               0.64\n",
       "4          AdaBoostClassifier         0.86        0.87               0.71\n",
       "5  GradientBoostingClassifier         0.90        0.88               0.74"
      ]
     },
     "execution_count": 106,
     "metadata": {},
     "output_type": "execute_result"
    }
   ],
   "source": [
    "Report_Card = Report_Card.append({'Model' : 'GradientBoostingClassifier', \n",
    "                    'Train_Score' : round(GBC_train_accuarcy,2),\n",
    "                    'Test_Score': round(GBC_test_accuarcy,2),\n",
    "                    'Cohen_kappa_score' : round(cohen_kappa_score_GBC,2)\n",
    "                   }, ignore_index=True)\n",
    "Report_Card"
   ]
  },
  {
   "cell_type": "code",
   "execution_count": 107,
   "id": "df2c8f31",
   "metadata": {},
   "outputs": [],
   "source": [
    "# Catboost"
   ]
  },
  {
   "cell_type": "code",
   "execution_count": 108,
   "id": "15fa1c43",
   "metadata": {},
   "outputs": [
    {
     "name": "stdout",
     "output_type": "stream",
     "text": [
      "Learning rate set to 0.009914\n",
      "0:\tlearn: 0.6855950\ttotal: 65.3ms\tremaining: 1m 5s\n",
      "1:\tlearn: 0.6777298\ttotal: 66ms\tremaining: 32.9s\n",
      "2:\tlearn: 0.6703737\ttotal: 66.5ms\tremaining: 22.1s\n",
      "3:\tlearn: 0.6629707\ttotal: 67.1ms\tremaining: 16.7s\n",
      "4:\tlearn: 0.6558085\ttotal: 67.6ms\tremaining: 13.4s\n",
      "5:\tlearn: 0.6507981\ttotal: 67.8ms\tremaining: 11.2s\n",
      "6:\tlearn: 0.6445628\ttotal: 68.2ms\tremaining: 9.67s\n",
      "7:\tlearn: 0.6379237\ttotal: 68.6ms\tremaining: 8.51s\n",
      "8:\tlearn: 0.6316493\ttotal: 69.2ms\tremaining: 7.62s\n",
      "9:\tlearn: 0.6257914\ttotal: 69.6ms\tremaining: 6.89s\n",
      "10:\tlearn: 0.6194062\ttotal: 70.1ms\tremaining: 6.3s\n",
      "11:\tlearn: 0.6125312\ttotal: 70.8ms\tremaining: 5.83s\n",
      "12:\tlearn: 0.6062214\ttotal: 71.3ms\tremaining: 5.41s\n",
      "13:\tlearn: 0.6005299\ttotal: 71.8ms\tremaining: 5.06s\n",
      "14:\tlearn: 0.5937849\ttotal: 72.4ms\tremaining: 4.76s\n",
      "15:\tlearn: 0.5882969\ttotal: 73ms\tremaining: 4.49s\n",
      "16:\tlearn: 0.5831933\ttotal: 73.5ms\tremaining: 4.25s\n",
      "17:\tlearn: 0.5776039\ttotal: 74ms\tremaining: 4.04s\n",
      "18:\tlearn: 0.5721222\ttotal: 74.5ms\tremaining: 3.85s\n",
      "19:\tlearn: 0.5664450\ttotal: 75.1ms\tremaining: 3.68s\n",
      "20:\tlearn: 0.5617071\ttotal: 75.6ms\tremaining: 3.52s\n",
      "21:\tlearn: 0.5567224\ttotal: 76.1ms\tremaining: 3.38s\n",
      "22:\tlearn: 0.5523741\ttotal: 76.6ms\tremaining: 3.25s\n",
      "23:\tlearn: 0.5483345\ttotal: 77ms\tremaining: 3.13s\n",
      "24:\tlearn: 0.5434666\ttotal: 77.7ms\tremaining: 3.03s\n",
      "25:\tlearn: 0.5390838\ttotal: 78.5ms\tremaining: 2.94s\n",
      "26:\tlearn: 0.5350662\ttotal: 79ms\tremaining: 2.85s\n",
      "27:\tlearn: 0.5319343\ttotal: 79.4ms\tremaining: 2.76s\n",
      "28:\tlearn: 0.5287010\ttotal: 80ms\tremaining: 2.68s\n",
      "29:\tlearn: 0.5248499\ttotal: 80.5ms\tremaining: 2.6s\n",
      "30:\tlearn: 0.5202375\ttotal: 81.2ms\tremaining: 2.54s\n",
      "31:\tlearn: 0.5172710\ttotal: 82ms\tremaining: 2.48s\n",
      "32:\tlearn: 0.5141284\ttotal: 82.4ms\tremaining: 2.41s\n",
      "33:\tlearn: 0.5115176\ttotal: 82.8ms\tremaining: 2.35s\n",
      "34:\tlearn: 0.5084150\ttotal: 83.5ms\tremaining: 2.3s\n",
      "35:\tlearn: 0.5051125\ttotal: 84.1ms\tremaining: 2.25s\n",
      "36:\tlearn: 0.5014851\ttotal: 84.7ms\tremaining: 2.2s\n",
      "37:\tlearn: 0.4979923\ttotal: 85.4ms\tremaining: 2.16s\n",
      "38:\tlearn: 0.4944271\ttotal: 86ms\tremaining: 2.12s\n",
      "39:\tlearn: 0.4910918\ttotal: 86.6ms\tremaining: 2.08s\n",
      "40:\tlearn: 0.4890781\ttotal: 86.9ms\tremaining: 2.03s\n",
      "41:\tlearn: 0.4857127\ttotal: 87.6ms\tremaining: 2s\n",
      "42:\tlearn: 0.4824263\ttotal: 88.4ms\tremaining: 1.97s\n",
      "43:\tlearn: 0.4795991\ttotal: 89.1ms\tremaining: 1.93s\n",
      "44:\tlearn: 0.4768906\ttotal: 89.6ms\tremaining: 1.9s\n",
      "45:\tlearn: 0.4739929\ttotal: 90.3ms\tremaining: 1.87s\n",
      "46:\tlearn: 0.4706983\ttotal: 90.9ms\tremaining: 1.84s\n",
      "47:\tlearn: 0.4681925\ttotal: 91.6ms\tremaining: 1.82s\n",
      "48:\tlearn: 0.4652281\ttotal: 92.4ms\tremaining: 1.79s\n",
      "49:\tlearn: 0.4624495\ttotal: 93.1ms\tremaining: 1.77s\n",
      "50:\tlearn: 0.4599337\ttotal: 93.6ms\tremaining: 1.74s\n",
      "51:\tlearn: 0.4577292\ttotal: 94.2ms\tremaining: 1.72s\n",
      "52:\tlearn: 0.4553173\ttotal: 95ms\tremaining: 1.7s\n",
      "53:\tlearn: 0.4533092\ttotal: 95.4ms\tremaining: 1.67s\n",
      "54:\tlearn: 0.4508818\ttotal: 96ms\tremaining: 1.65s\n",
      "55:\tlearn: 0.4491523\ttotal: 96.7ms\tremaining: 1.63s\n",
      "56:\tlearn: 0.4465449\ttotal: 97.4ms\tremaining: 1.61s\n",
      "57:\tlearn: 0.4450784\ttotal: 97.9ms\tremaining: 1.59s\n",
      "58:\tlearn: 0.4433357\ttotal: 98.7ms\tremaining: 1.57s\n",
      "59:\tlearn: 0.4409154\ttotal: 99.4ms\tremaining: 1.56s\n",
      "60:\tlearn: 0.4387715\ttotal: 100ms\tremaining: 1.54s\n",
      "61:\tlearn: 0.4370839\ttotal: 100ms\tremaining: 1.52s\n",
      "62:\tlearn: 0.4358959\ttotal: 101ms\tremaining: 1.5s\n",
      "63:\tlearn: 0.4339623\ttotal: 101ms\tremaining: 1.48s\n",
      "64:\tlearn: 0.4326435\ttotal: 102ms\tremaining: 1.46s\n",
      "65:\tlearn: 0.4306481\ttotal: 102ms\tremaining: 1.45s\n",
      "66:\tlearn: 0.4290996\ttotal: 103ms\tremaining: 1.43s\n",
      "67:\tlearn: 0.4279990\ttotal: 103ms\tremaining: 1.42s\n",
      "68:\tlearn: 0.4265007\ttotal: 104ms\tremaining: 1.4s\n",
      "69:\tlearn: 0.4250783\ttotal: 105ms\tremaining: 1.39s\n",
      "70:\tlearn: 0.4231258\ttotal: 105ms\tremaining: 1.38s\n",
      "71:\tlearn: 0.4217666\ttotal: 106ms\tremaining: 1.36s\n",
      "72:\tlearn: 0.4202040\ttotal: 107ms\tremaining: 1.35s\n",
      "73:\tlearn: 0.4186766\ttotal: 107ms\tremaining: 1.34s\n",
      "74:\tlearn: 0.4177374\ttotal: 108ms\tremaining: 1.33s\n",
      "75:\tlearn: 0.4159712\ttotal: 108ms\tremaining: 1.32s\n",
      "76:\tlearn: 0.4144372\ttotal: 109ms\tremaining: 1.31s\n",
      "77:\tlearn: 0.4130430\ttotal: 110ms\tremaining: 1.3s\n",
      "78:\tlearn: 0.4117566\ttotal: 111ms\tremaining: 1.29s\n",
      "79:\tlearn: 0.4102010\ttotal: 111ms\tremaining: 1.28s\n",
      "80:\tlearn: 0.4090463\ttotal: 112ms\tremaining: 1.27s\n",
      "81:\tlearn: 0.4079430\ttotal: 113ms\tremaining: 1.26s\n",
      "82:\tlearn: 0.4065957\ttotal: 113ms\tremaining: 1.25s\n",
      "83:\tlearn: 0.4052350\ttotal: 114ms\tremaining: 1.24s\n",
      "84:\tlearn: 0.4039880\ttotal: 115ms\tremaining: 1.23s\n",
      "85:\tlearn: 0.4027509\ttotal: 115ms\tremaining: 1.22s\n",
      "86:\tlearn: 0.4017608\ttotal: 116ms\tremaining: 1.21s\n",
      "87:\tlearn: 0.4007069\ttotal: 116ms\tremaining: 1.2s\n",
      "88:\tlearn: 0.3995870\ttotal: 117ms\tremaining: 1.2s\n",
      "89:\tlearn: 0.3981251\ttotal: 118ms\tremaining: 1.19s\n",
      "90:\tlearn: 0.3970192\ttotal: 118ms\tremaining: 1.18s\n",
      "91:\tlearn: 0.3958366\ttotal: 119ms\tremaining: 1.17s\n",
      "92:\tlearn: 0.3946847\ttotal: 120ms\tremaining: 1.17s\n",
      "93:\tlearn: 0.3933629\ttotal: 120ms\tremaining: 1.16s\n",
      "94:\tlearn: 0.3922199\ttotal: 121ms\tremaining: 1.15s\n",
      "95:\tlearn: 0.3912114\ttotal: 122ms\tremaining: 1.15s\n",
      "96:\tlearn: 0.3902880\ttotal: 122ms\tremaining: 1.14s\n",
      "97:\tlearn: 0.3893674\ttotal: 123ms\tremaining: 1.13s\n",
      "98:\tlearn: 0.3884017\ttotal: 123ms\tremaining: 1.12s\n",
      "99:\tlearn: 0.3872422\ttotal: 124ms\tremaining: 1.12s\n",
      "100:\tlearn: 0.3861153\ttotal: 125ms\tremaining: 1.11s\n",
      "101:\tlearn: 0.3851450\ttotal: 125ms\tremaining: 1.1s\n",
      "102:\tlearn: 0.3842362\ttotal: 126ms\tremaining: 1.1s\n",
      "103:\tlearn: 0.3833879\ttotal: 126ms\tremaining: 1.09s\n",
      "104:\tlearn: 0.3824470\ttotal: 127ms\tremaining: 1.08s\n",
      "105:\tlearn: 0.3816113\ttotal: 128ms\tremaining: 1.08s\n",
      "106:\tlearn: 0.3804686\ttotal: 128ms\tremaining: 1.07s\n",
      "107:\tlearn: 0.3794146\ttotal: 129ms\tremaining: 1.06s\n",
      "108:\tlearn: 0.3788437\ttotal: 130ms\tremaining: 1.06s\n",
      "109:\tlearn: 0.3777697\ttotal: 130ms\tremaining: 1.05s\n",
      "110:\tlearn: 0.3768135\ttotal: 131ms\tremaining: 1.05s\n",
      "111:\tlearn: 0.3759040\ttotal: 131ms\tremaining: 1.04s\n",
      "112:\tlearn: 0.3750592\ttotal: 132ms\tremaining: 1.04s\n",
      "113:\tlearn: 0.3741316\ttotal: 133ms\tremaining: 1.03s\n",
      "114:\tlearn: 0.3732474\ttotal: 134ms\tremaining: 1.03s\n",
      "115:\tlearn: 0.3721872\ttotal: 134ms\tremaining: 1.02s\n",
      "116:\tlearn: 0.3715020\ttotal: 135ms\tremaining: 1.02s\n",
      "117:\tlearn: 0.3711817\ttotal: 135ms\tremaining: 1.01s\n",
      "118:\tlearn: 0.3705087\ttotal: 136ms\tremaining: 1.01s\n",
      "119:\tlearn: 0.3698495\ttotal: 137ms\tremaining: 1s\n",
      "120:\tlearn: 0.3691269\ttotal: 137ms\tremaining: 998ms\n",
      "121:\tlearn: 0.3686711\ttotal: 138ms\tremaining: 993ms\n",
      "122:\tlearn: 0.3677862\ttotal: 139ms\tremaining: 989ms\n",
      "123:\tlearn: 0.3670461\ttotal: 139ms\tremaining: 985ms\n",
      "124:\tlearn: 0.3665637\ttotal: 140ms\tremaining: 981ms\n",
      "125:\tlearn: 0.3659721\ttotal: 141ms\tremaining: 977ms\n",
      "126:\tlearn: 0.3652498\ttotal: 142ms\tremaining: 973ms\n",
      "127:\tlearn: 0.3647579\ttotal: 142ms\tremaining: 969ms\n",
      "128:\tlearn: 0.3644388\ttotal: 143ms\tremaining: 963ms\n",
      "129:\tlearn: 0.3638670\ttotal: 143ms\tremaining: 958ms\n",
      "130:\tlearn: 0.3633299\ttotal: 144ms\tremaining: 955ms\n",
      "131:\tlearn: 0.3627912\ttotal: 145ms\tremaining: 951ms\n",
      "132:\tlearn: 0.3622891\ttotal: 145ms\tremaining: 947ms\n",
      "133:\tlearn: 0.3618470\ttotal: 146ms\tremaining: 942ms\n",
      "134:\tlearn: 0.3613650\ttotal: 146ms\tremaining: 938ms\n",
      "135:\tlearn: 0.3609514\ttotal: 147ms\tremaining: 934ms\n",
      "136:\tlearn: 0.3606136\ttotal: 148ms\tremaining: 930ms\n",
      "137:\tlearn: 0.3603091\ttotal: 148ms\tremaining: 926ms\n",
      "138:\tlearn: 0.3599509\ttotal: 149ms\tremaining: 922ms\n",
      "139:\tlearn: 0.3594694\ttotal: 149ms\tremaining: 918ms\n",
      "140:\tlearn: 0.3590246\ttotal: 150ms\tremaining: 915ms\n",
      "141:\tlearn: 0.3585632\ttotal: 151ms\tremaining: 910ms\n",
      "142:\tlearn: 0.3581888\ttotal: 151ms\tremaining: 906ms\n",
      "143:\tlearn: 0.3579096\ttotal: 151ms\tremaining: 901ms\n",
      "144:\tlearn: 0.3574023\ttotal: 152ms\tremaining: 897ms\n",
      "145:\tlearn: 0.3571142\ttotal: 153ms\tremaining: 897ms\n",
      "146:\tlearn: 0.3567660\ttotal: 154ms\tremaining: 894ms\n",
      "147:\tlearn: 0.3561645\ttotal: 155ms\tremaining: 890ms\n",
      "148:\tlearn: 0.3559493\ttotal: 155ms\tremaining: 885ms\n",
      "149:\tlearn: 0.3556563\ttotal: 156ms\tremaining: 881ms\n",
      "150:\tlearn: 0.3549022\ttotal: 156ms\tremaining: 878ms\n",
      "151:\tlearn: 0.3544545\ttotal: 157ms\tremaining: 875ms\n",
      "152:\tlearn: 0.3538731\ttotal: 157ms\tremaining: 872ms\n",
      "153:\tlearn: 0.3534909\ttotal: 158ms\tremaining: 868ms\n",
      "154:\tlearn: 0.3530741\ttotal: 159ms\tremaining: 865ms\n",
      "155:\tlearn: 0.3526620\ttotal: 159ms\tremaining: 862ms\n",
      "156:\tlearn: 0.3523145\ttotal: 160ms\tremaining: 859ms\n",
      "157:\tlearn: 0.3521216\ttotal: 161ms\tremaining: 857ms\n",
      "158:\tlearn: 0.3516099\ttotal: 161ms\tremaining: 854ms\n",
      "159:\tlearn: 0.3511556\ttotal: 162ms\tremaining: 851ms\n",
      "160:\tlearn: 0.3509050\ttotal: 163ms\tremaining: 849ms\n",
      "161:\tlearn: 0.3504419\ttotal: 164ms\tremaining: 846ms\n",
      "162:\tlearn: 0.3501017\ttotal: 164ms\tremaining: 843ms\n",
      "163:\tlearn: 0.3496267\ttotal: 165ms\tremaining: 841ms\n",
      "164:\tlearn: 0.3491997\ttotal: 166ms\tremaining: 838ms\n",
      "165:\tlearn: 0.3486739\ttotal: 166ms\tremaining: 835ms\n",
      "166:\tlearn: 0.3482389\ttotal: 167ms\tremaining: 833ms\n",
      "167:\tlearn: 0.3478808\ttotal: 168ms\tremaining: 830ms\n",
      "168:\tlearn: 0.3475665\ttotal: 168ms\tremaining: 828ms\n",
      "169:\tlearn: 0.3472341\ttotal: 169ms\tremaining: 825ms\n",
      "170:\tlearn: 0.3467604\ttotal: 170ms\tremaining: 822ms\n",
      "171:\tlearn: 0.3463127\ttotal: 170ms\tremaining: 820ms\n",
      "172:\tlearn: 0.3460005\ttotal: 171ms\tremaining: 817ms\n",
      "173:\tlearn: 0.3457248\ttotal: 171ms\tremaining: 814ms\n",
      "174:\tlearn: 0.3454861\ttotal: 172ms\tremaining: 811ms\n",
      "175:\tlearn: 0.3451675\ttotal: 173ms\tremaining: 808ms\n",
      "176:\tlearn: 0.3448043\ttotal: 173ms\tremaining: 806ms\n",
      "177:\tlearn: 0.3446531\ttotal: 174ms\tremaining: 803ms\n",
      "178:\tlearn: 0.3444035\ttotal: 174ms\tremaining: 800ms\n",
      "179:\tlearn: 0.3443442\ttotal: 175ms\tremaining: 797ms\n",
      "180:\tlearn: 0.3438612\ttotal: 176ms\tremaining: 794ms\n",
      "181:\tlearn: 0.3436406\ttotal: 176ms\tremaining: 792ms\n",
      "182:\tlearn: 0.3431936\ttotal: 177ms\tremaining: 790ms\n",
      "183:\tlearn: 0.3428703\ttotal: 178ms\tremaining: 787ms\n",
      "184:\tlearn: 0.3425282\ttotal: 178ms\tremaining: 785ms\n",
      "185:\tlearn: 0.3420893\ttotal: 179ms\tremaining: 784ms\n",
      "186:\tlearn: 0.3418384\ttotal: 180ms\tremaining: 782ms\n",
      "187:\tlearn: 0.3413891\ttotal: 180ms\tremaining: 779ms\n",
      "188:\tlearn: 0.3410830\ttotal: 181ms\tremaining: 776ms\n",
      "189:\tlearn: 0.3410166\ttotal: 181ms\tremaining: 772ms\n",
      "190:\tlearn: 0.3407860\ttotal: 182ms\tremaining: 770ms\n",
      "191:\tlearn: 0.3405684\ttotal: 182ms\tremaining: 768ms\n",
      "192:\tlearn: 0.3401695\ttotal: 183ms\tremaining: 765ms\n",
      "193:\tlearn: 0.3398268\ttotal: 184ms\tremaining: 763ms\n"
     ]
    },
    {
     "name": "stdout",
     "output_type": "stream",
     "text": [
      "194:\tlearn: 0.3395393\ttotal: 185ms\tremaining: 762ms\n",
      "195:\tlearn: 0.3391449\ttotal: 185ms\tremaining: 760ms\n",
      "196:\tlearn: 0.3389483\ttotal: 186ms\tremaining: 758ms\n",
      "197:\tlearn: 0.3386158\ttotal: 187ms\tremaining: 756ms\n",
      "198:\tlearn: 0.3382408\ttotal: 187ms\tremaining: 754ms\n",
      "199:\tlearn: 0.3378603\ttotal: 188ms\tremaining: 752ms\n",
      "200:\tlearn: 0.3376011\ttotal: 189ms\tremaining: 750ms\n",
      "201:\tlearn: 0.3374282\ttotal: 189ms\tremaining: 748ms\n",
      "202:\tlearn: 0.3372757\ttotal: 190ms\tremaining: 746ms\n",
      "203:\tlearn: 0.3369380\ttotal: 191ms\tremaining: 743ms\n",
      "204:\tlearn: 0.3367745\ttotal: 191ms\tremaining: 741ms\n",
      "205:\tlearn: 0.3366656\ttotal: 192ms\tremaining: 739ms\n",
      "206:\tlearn: 0.3365703\ttotal: 192ms\tremaining: 737ms\n",
      "207:\tlearn: 0.3363591\ttotal: 193ms\tremaining: 735ms\n",
      "208:\tlearn: 0.3361954\ttotal: 194ms\tremaining: 733ms\n",
      "209:\tlearn: 0.3359532\ttotal: 194ms\tremaining: 731ms\n",
      "210:\tlearn: 0.3356916\ttotal: 195ms\tremaining: 729ms\n",
      "211:\tlearn: 0.3352643\ttotal: 196ms\tremaining: 727ms\n",
      "212:\tlearn: 0.3349926\ttotal: 196ms\tremaining: 725ms\n",
      "213:\tlearn: 0.3347437\ttotal: 197ms\tremaining: 724ms\n",
      "214:\tlearn: 0.3344774\ttotal: 198ms\tremaining: 722ms\n",
      "215:\tlearn: 0.3342274\ttotal: 198ms\tremaining: 720ms\n",
      "216:\tlearn: 0.3339454\ttotal: 199ms\tremaining: 718ms\n",
      "217:\tlearn: 0.3337248\ttotal: 200ms\tremaining: 717ms\n",
      "218:\tlearn: 0.3335262\ttotal: 201ms\tremaining: 715ms\n",
      "219:\tlearn: 0.3332873\ttotal: 201ms\tremaining: 713ms\n",
      "220:\tlearn: 0.3329887\ttotal: 202ms\tremaining: 711ms\n",
      "221:\tlearn: 0.3326698\ttotal: 203ms\tremaining: 710ms\n",
      "222:\tlearn: 0.3325756\ttotal: 204ms\tremaining: 709ms\n",
      "223:\tlearn: 0.3323900\ttotal: 204ms\tremaining: 707ms\n",
      "224:\tlearn: 0.3323443\ttotal: 205ms\tremaining: 705ms\n",
      "225:\tlearn: 0.3321920\ttotal: 205ms\tremaining: 704ms\n",
      "226:\tlearn: 0.3321434\ttotal: 206ms\tremaining: 701ms\n",
      "227:\tlearn: 0.3320082\ttotal: 207ms\tremaining: 700ms\n",
      "228:\tlearn: 0.3316863\ttotal: 207ms\tremaining: 698ms\n",
      "229:\tlearn: 0.3315543\ttotal: 208ms\tremaining: 697ms\n",
      "230:\tlearn: 0.3314230\ttotal: 209ms\tremaining: 695ms\n",
      "231:\tlearn: 0.3313917\ttotal: 209ms\tremaining: 692ms\n",
      "232:\tlearn: 0.3312790\ttotal: 210ms\tremaining: 690ms\n",
      "233:\tlearn: 0.3310783\ttotal: 210ms\tremaining: 688ms\n",
      "234:\tlearn: 0.3308225\ttotal: 211ms\tremaining: 688ms\n",
      "235:\tlearn: 0.3306997\ttotal: 212ms\tremaining: 686ms\n",
      "236:\tlearn: 0.3304126\ttotal: 213ms\tremaining: 685ms\n",
      "237:\tlearn: 0.3302882\ttotal: 213ms\tremaining: 683ms\n",
      "238:\tlearn: 0.3300984\ttotal: 214ms\tremaining: 682ms\n",
      "239:\tlearn: 0.3299692\ttotal: 215ms\tremaining: 680ms\n",
      "240:\tlearn: 0.3297601\ttotal: 216ms\tremaining: 679ms\n",
      "241:\tlearn: 0.3296622\ttotal: 216ms\tremaining: 677ms\n",
      "242:\tlearn: 0.3295317\ttotal: 217ms\tremaining: 676ms\n",
      "243:\tlearn: 0.3293484\ttotal: 218ms\tremaining: 674ms\n",
      "244:\tlearn: 0.3290929\ttotal: 218ms\tremaining: 673ms\n",
      "245:\tlearn: 0.3288864\ttotal: 219ms\tremaining: 671ms\n",
      "246:\tlearn: 0.3287244\ttotal: 220ms\tremaining: 669ms\n",
      "247:\tlearn: 0.3286443\ttotal: 220ms\tremaining: 667ms\n",
      "248:\tlearn: 0.3284599\ttotal: 221ms\tremaining: 666ms\n",
      "249:\tlearn: 0.3283536\ttotal: 222ms\tremaining: 665ms\n",
      "250:\tlearn: 0.3280107\ttotal: 222ms\tremaining: 663ms\n",
      "251:\tlearn: 0.3276583\ttotal: 223ms\tremaining: 662ms\n",
      "252:\tlearn: 0.3274567\ttotal: 224ms\tremaining: 661ms\n",
      "253:\tlearn: 0.3273186\ttotal: 224ms\tremaining: 659ms\n",
      "254:\tlearn: 0.3271119\ttotal: 225ms\tremaining: 657ms\n",
      "255:\tlearn: 0.3269645\ttotal: 225ms\tremaining: 655ms\n",
      "256:\tlearn: 0.3268268\ttotal: 226ms\tremaining: 654ms\n",
      "257:\tlearn: 0.3266060\ttotal: 227ms\tremaining: 653ms\n",
      "258:\tlearn: 0.3264786\ttotal: 228ms\tremaining: 651ms\n",
      "259:\tlearn: 0.3263261\ttotal: 228ms\tremaining: 649ms\n",
      "260:\tlearn: 0.3259551\ttotal: 229ms\tremaining: 648ms\n",
      "261:\tlearn: 0.3256807\ttotal: 229ms\tremaining: 646ms\n",
      "262:\tlearn: 0.3255080\ttotal: 230ms\tremaining: 645ms\n",
      "263:\tlearn: 0.3252371\ttotal: 231ms\tremaining: 643ms\n",
      "264:\tlearn: 0.3251318\ttotal: 231ms\tremaining: 642ms\n",
      "265:\tlearn: 0.3249323\ttotal: 232ms\tremaining: 640ms\n",
      "266:\tlearn: 0.3248553\ttotal: 233ms\tremaining: 639ms\n",
      "267:\tlearn: 0.3246765\ttotal: 233ms\tremaining: 637ms\n",
      "268:\tlearn: 0.3245596\ttotal: 234ms\tremaining: 636ms\n",
      "269:\tlearn: 0.3243783\ttotal: 235ms\tremaining: 634ms\n",
      "270:\tlearn: 0.3243511\ttotal: 235ms\tremaining: 632ms\n",
      "271:\tlearn: 0.3241529\ttotal: 236ms\tremaining: 631ms\n",
      "272:\tlearn: 0.3240755\ttotal: 236ms\tremaining: 629ms\n",
      "273:\tlearn: 0.3239010\ttotal: 237ms\tremaining: 628ms\n",
      "274:\tlearn: 0.3238050\ttotal: 237ms\tremaining: 626ms\n",
      "275:\tlearn: 0.3236518\ttotal: 238ms\tremaining: 625ms\n",
      "276:\tlearn: 0.3235911\ttotal: 239ms\tremaining: 624ms\n",
      "277:\tlearn: 0.3234570\ttotal: 240ms\tremaining: 623ms\n",
      "278:\tlearn: 0.3233565\ttotal: 241ms\tremaining: 622ms\n",
      "279:\tlearn: 0.3232357\ttotal: 241ms\tremaining: 620ms\n",
      "280:\tlearn: 0.3230368\ttotal: 242ms\tremaining: 619ms\n",
      "281:\tlearn: 0.3229441\ttotal: 243ms\tremaining: 618ms\n",
      "282:\tlearn: 0.3228735\ttotal: 243ms\tremaining: 617ms\n",
      "283:\tlearn: 0.3225691\ttotal: 244ms\tremaining: 615ms\n",
      "284:\tlearn: 0.3222853\ttotal: 245ms\tremaining: 614ms\n",
      "285:\tlearn: 0.3219777\ttotal: 246ms\tremaining: 613ms\n",
      "286:\tlearn: 0.3216815\ttotal: 246ms\tremaining: 612ms\n",
      "287:\tlearn: 0.3215964\ttotal: 247ms\tremaining: 610ms\n",
      "288:\tlearn: 0.3214448\ttotal: 247ms\tremaining: 609ms\n",
      "289:\tlearn: 0.3212467\ttotal: 248ms\tremaining: 607ms\n",
      "290:\tlearn: 0.3210852\ttotal: 249ms\tremaining: 606ms\n",
      "291:\tlearn: 0.3209610\ttotal: 250ms\tremaining: 605ms\n",
      "292:\tlearn: 0.3208251\ttotal: 250ms\tremaining: 604ms\n",
      "293:\tlearn: 0.3208078\ttotal: 251ms\tremaining: 602ms\n",
      "294:\tlearn: 0.3205497\ttotal: 251ms\tremaining: 601ms\n",
      "295:\tlearn: 0.3203302\ttotal: 252ms\tremaining: 599ms\n",
      "296:\tlearn: 0.3202661\ttotal: 253ms\tremaining: 598ms\n",
      "297:\tlearn: 0.3200853\ttotal: 253ms\tremaining: 597ms\n",
      "298:\tlearn: 0.3198449\ttotal: 254ms\tremaining: 595ms\n",
      "299:\tlearn: 0.3196678\ttotal: 254ms\tremaining: 594ms\n",
      "300:\tlearn: 0.3195523\ttotal: 255ms\tremaining: 592ms\n",
      "301:\tlearn: 0.3193099\ttotal: 256ms\tremaining: 591ms\n",
      "302:\tlearn: 0.3192932\ttotal: 256ms\tremaining: 590ms\n",
      "303:\tlearn: 0.3191969\ttotal: 257ms\tremaining: 588ms\n",
      "304:\tlearn: 0.3190631\ttotal: 258ms\tremaining: 587ms\n",
      "305:\tlearn: 0.3188760\ttotal: 258ms\tremaining: 586ms\n",
      "306:\tlearn: 0.3187615\ttotal: 259ms\tremaining: 585ms\n",
      "307:\tlearn: 0.3186680\ttotal: 260ms\tremaining: 583ms\n",
      "308:\tlearn: 0.3184896\ttotal: 260ms\tremaining: 582ms\n",
      "309:\tlearn: 0.3182425\ttotal: 261ms\tremaining: 581ms\n",
      "310:\tlearn: 0.3180936\ttotal: 262ms\tremaining: 580ms\n",
      "311:\tlearn: 0.3179603\ttotal: 263ms\tremaining: 579ms\n",
      "312:\tlearn: 0.3177037\ttotal: 263ms\tremaining: 578ms\n",
      "313:\tlearn: 0.3175681\ttotal: 264ms\tremaining: 577ms\n",
      "314:\tlearn: 0.3173988\ttotal: 265ms\tremaining: 576ms\n",
      "315:\tlearn: 0.3173231\ttotal: 266ms\tremaining: 575ms\n",
      "316:\tlearn: 0.3170934\ttotal: 267ms\tremaining: 574ms\n",
      "317:\tlearn: 0.3169449\ttotal: 267ms\tremaining: 573ms\n",
      "318:\tlearn: 0.3167510\ttotal: 268ms\tremaining: 572ms\n",
      "319:\tlearn: 0.3166652\ttotal: 268ms\tremaining: 571ms\n",
      "320:\tlearn: 0.3164799\ttotal: 269ms\tremaining: 569ms\n",
      "321:\tlearn: 0.3162518\ttotal: 270ms\tremaining: 568ms\n",
      "322:\tlearn: 0.3161865\ttotal: 270ms\tremaining: 567ms\n",
      "323:\tlearn: 0.3160081\ttotal: 271ms\tremaining: 566ms\n",
      "324:\tlearn: 0.3159265\ttotal: 272ms\tremaining: 565ms\n",
      "325:\tlearn: 0.3156668\ttotal: 273ms\tremaining: 564ms\n",
      "326:\tlearn: 0.3154471\ttotal: 273ms\tremaining: 563ms\n",
      "327:\tlearn: 0.3154181\ttotal: 274ms\tremaining: 561ms\n",
      "328:\tlearn: 0.3151216\ttotal: 275ms\tremaining: 560ms\n",
      "329:\tlearn: 0.3149131\ttotal: 275ms\tremaining: 559ms\n",
      "330:\tlearn: 0.3147600\ttotal: 276ms\tremaining: 558ms\n",
      "331:\tlearn: 0.3146551\ttotal: 277ms\tremaining: 557ms\n",
      "332:\tlearn: 0.3145514\ttotal: 277ms\tremaining: 556ms\n",
      "333:\tlearn: 0.3144373\ttotal: 278ms\tremaining: 555ms\n",
      "334:\tlearn: 0.3143576\ttotal: 279ms\tremaining: 553ms\n",
      "335:\tlearn: 0.3142108\ttotal: 279ms\tremaining: 552ms\n",
      "336:\tlearn: 0.3139999\ttotal: 280ms\tremaining: 551ms\n",
      "337:\tlearn: 0.3137811\ttotal: 281ms\tremaining: 550ms\n",
      "338:\tlearn: 0.3137139\ttotal: 281ms\tremaining: 549ms\n",
      "339:\tlearn: 0.3136237\ttotal: 282ms\tremaining: 548ms\n",
      "340:\tlearn: 0.3136053\ttotal: 283ms\tremaining: 546ms\n",
      "341:\tlearn: 0.3133537\ttotal: 283ms\tremaining: 545ms\n",
      "342:\tlearn: 0.3132286\ttotal: 284ms\tremaining: 544ms\n",
      "343:\tlearn: 0.3131433\ttotal: 285ms\tremaining: 543ms\n",
      "344:\tlearn: 0.3129721\ttotal: 285ms\tremaining: 542ms\n",
      "345:\tlearn: 0.3128574\ttotal: 286ms\tremaining: 541ms\n",
      "346:\tlearn: 0.3127687\ttotal: 287ms\tremaining: 540ms\n",
      "347:\tlearn: 0.3125943\ttotal: 288ms\tremaining: 539ms\n",
      "348:\tlearn: 0.3125383\ttotal: 288ms\tremaining: 538ms\n",
      "349:\tlearn: 0.3124608\ttotal: 289ms\tremaining: 536ms\n",
      "350:\tlearn: 0.3122189\ttotal: 289ms\tremaining: 535ms\n",
      "351:\tlearn: 0.3121273\ttotal: 290ms\tremaining: 534ms\n",
      "352:\tlearn: 0.3120136\ttotal: 291ms\tremaining: 533ms\n",
      "353:\tlearn: 0.3119396\ttotal: 291ms\tremaining: 532ms\n",
      "354:\tlearn: 0.3118104\ttotal: 292ms\tremaining: 531ms\n",
      "355:\tlearn: 0.3116765\ttotal: 293ms\tremaining: 530ms\n",
      "356:\tlearn: 0.3116398\ttotal: 294ms\tremaining: 529ms\n",
      "357:\tlearn: 0.3115027\ttotal: 294ms\tremaining: 528ms\n",
      "358:\tlearn: 0.3114889\ttotal: 295ms\tremaining: 526ms\n",
      "359:\tlearn: 0.3113754\ttotal: 295ms\tremaining: 525ms\n",
      "360:\tlearn: 0.3112157\ttotal: 296ms\tremaining: 524ms\n",
      "361:\tlearn: 0.3110862\ttotal: 296ms\tremaining: 523ms\n",
      "362:\tlearn: 0.3110505\ttotal: 297ms\tremaining: 521ms\n",
      "363:\tlearn: 0.3110355\ttotal: 297ms\tremaining: 520ms\n",
      "364:\tlearn: 0.3108755\ttotal: 298ms\tremaining: 519ms\n",
      "365:\tlearn: 0.3107355\ttotal: 299ms\tremaining: 517ms\n",
      "366:\tlearn: 0.3106663\ttotal: 300ms\tremaining: 517ms\n",
      "367:\tlearn: 0.3105493\ttotal: 300ms\tremaining: 516ms\n",
      "368:\tlearn: 0.3105143\ttotal: 301ms\tremaining: 514ms\n",
      "369:\tlearn: 0.3104171\ttotal: 302ms\tremaining: 513ms\n",
      "370:\tlearn: 0.3103152\ttotal: 302ms\tremaining: 512ms\n",
      "371:\tlearn: 0.3101556\ttotal: 303ms\tremaining: 512ms\n",
      "372:\tlearn: 0.3100980\ttotal: 304ms\tremaining: 511ms\n",
      "373:\tlearn: 0.3100173\ttotal: 304ms\tremaining: 509ms\n",
      "374:\tlearn: 0.3099683\ttotal: 305ms\tremaining: 508ms\n",
      "375:\tlearn: 0.3098487\ttotal: 305ms\tremaining: 507ms\n",
      "376:\tlearn: 0.3096833\ttotal: 306ms\tremaining: 506ms\n",
      "377:\tlearn: 0.3096428\ttotal: 307ms\tremaining: 504ms\n",
      "378:\tlearn: 0.3095686\ttotal: 307ms\tremaining: 503ms\n",
      "379:\tlearn: 0.3094117\ttotal: 308ms\tremaining: 502ms\n",
      "380:\tlearn: 0.3093361\ttotal: 309ms\tremaining: 501ms\n",
      "381:\tlearn: 0.3092003\ttotal: 309ms\tremaining: 500ms\n",
      "382:\tlearn: 0.3091545\ttotal: 310ms\tremaining: 499ms\n",
      "383:\tlearn: 0.3090386\ttotal: 311ms\tremaining: 498ms\n",
      "384:\tlearn: 0.3088773\ttotal: 311ms\tremaining: 497ms\n",
      "385:\tlearn: 0.3087700\ttotal: 312ms\tremaining: 496ms\n",
      "386:\tlearn: 0.3086046\ttotal: 313ms\tremaining: 495ms\n",
      "387:\tlearn: 0.3084305\ttotal: 313ms\tremaining: 494ms\n",
      "388:\tlearn: 0.3083155\ttotal: 314ms\tremaining: 493ms\n",
      "389:\tlearn: 0.3081776\ttotal: 315ms\tremaining: 492ms\n",
      "390:\tlearn: 0.3080922\ttotal: 315ms\tremaining: 491ms\n",
      "391:\tlearn: 0.3078331\ttotal: 316ms\tremaining: 490ms\n",
      "392:\tlearn: 0.3077257\ttotal: 317ms\tremaining: 489ms\n",
      "393:\tlearn: 0.3075916\ttotal: 317ms\tremaining: 488ms\n",
      "394:\tlearn: 0.3074658\ttotal: 318ms\tremaining: 487ms\n",
      "395:\tlearn: 0.3072967\ttotal: 319ms\tremaining: 486ms\n",
      "396:\tlearn: 0.3071550\ttotal: 319ms\tremaining: 485ms\n",
      "397:\tlearn: 0.3069790\ttotal: 320ms\tremaining: 484ms\n",
      "398:\tlearn: 0.3068960\ttotal: 321ms\tremaining: 483ms\n",
      "399:\tlearn: 0.3068487\ttotal: 322ms\tremaining: 483ms\n",
      "400:\tlearn: 0.3067470\ttotal: 322ms\tremaining: 482ms\n",
      "401:\tlearn: 0.3066929\ttotal: 323ms\tremaining: 481ms\n",
      "402:\tlearn: 0.3066360\ttotal: 324ms\tremaining: 480ms\n",
      "403:\tlearn: 0.3066072\ttotal: 324ms\tremaining: 478ms\n",
      "404:\tlearn: 0.3065381\ttotal: 325ms\tremaining: 478ms\n",
      "405:\tlearn: 0.3064650\ttotal: 326ms\tremaining: 477ms\n",
      "406:\tlearn: 0.3063176\ttotal: 326ms\tremaining: 475ms\n",
      "407:\tlearn: 0.3061803\ttotal: 327ms\tremaining: 474ms\n",
      "408:\tlearn: 0.3060195\ttotal: 328ms\tremaining: 473ms\n",
      "409:\tlearn: 0.3059397\ttotal: 328ms\tremaining: 472ms\n",
      "410:\tlearn: 0.3057390\ttotal: 329ms\tremaining: 472ms\n",
      "411:\tlearn: 0.3056412\ttotal: 330ms\tremaining: 471ms\n",
      "412:\tlearn: 0.3056387\ttotal: 330ms\tremaining: 469ms\n",
      "413:\tlearn: 0.3056272\ttotal: 330ms\tremaining: 468ms\n",
      "414:\tlearn: 0.3055369\ttotal: 331ms\tremaining: 467ms\n",
      "415:\tlearn: 0.3053949\ttotal: 332ms\tremaining: 466ms\n",
      "416:\tlearn: 0.3053295\ttotal: 332ms\tremaining: 465ms\n",
      "417:\tlearn: 0.3052226\ttotal: 333ms\tremaining: 464ms\n",
      "418:\tlearn: 0.3051299\ttotal: 334ms\tremaining: 463ms\n",
      "419:\tlearn: 0.3050166\ttotal: 335ms\tremaining: 462ms\n",
      "420:\tlearn: 0.3049376\ttotal: 335ms\tremaining: 461ms\n",
      "421:\tlearn: 0.3049230\ttotal: 336ms\tremaining: 460ms\n",
      "422:\tlearn: 0.3047377\ttotal: 336ms\tremaining: 459ms\n",
      "423:\tlearn: 0.3047115\ttotal: 337ms\tremaining: 458ms\n",
      "424:\tlearn: 0.3045693\ttotal: 338ms\tremaining: 457ms\n",
      "425:\tlearn: 0.3045106\ttotal: 339ms\tremaining: 456ms\n",
      "426:\tlearn: 0.3044387\ttotal: 339ms\tremaining: 455ms\n",
      "427:\tlearn: 0.3043124\ttotal: 340ms\tremaining: 454ms\n",
      "428:\tlearn: 0.3042053\ttotal: 340ms\tremaining: 453ms\n",
      "429:\tlearn: 0.3040660\ttotal: 341ms\tremaining: 452ms\n",
      "430:\tlearn: 0.3039634\ttotal: 342ms\tremaining: 451ms\n",
      "431:\tlearn: 0.3038319\ttotal: 343ms\tremaining: 450ms\n",
      "432:\tlearn: 0.3037166\ttotal: 343ms\tremaining: 449ms\n",
      "433:\tlearn: 0.3035446\ttotal: 344ms\tremaining: 448ms\n",
      "434:\tlearn: 0.3033403\ttotal: 344ms\tremaining: 447ms\n",
      "435:\tlearn: 0.3033223\ttotal: 345ms\tremaining: 446ms\n",
      "436:\tlearn: 0.3032637\ttotal: 345ms\tremaining: 445ms\n",
      "437:\tlearn: 0.3031924\ttotal: 346ms\tremaining: 444ms\n",
      "438:\tlearn: 0.3031050\ttotal: 347ms\tremaining: 443ms\n",
      "439:\tlearn: 0.3029648\ttotal: 347ms\tremaining: 442ms\n",
      "440:\tlearn: 0.3029372\ttotal: 348ms\tremaining: 441ms\n",
      "441:\tlearn: 0.3028499\ttotal: 349ms\tremaining: 440ms\n",
      "442:\tlearn: 0.3028054\ttotal: 350ms\tremaining: 439ms\n",
      "443:\tlearn: 0.3026852\ttotal: 350ms\tremaining: 439ms\n",
      "444:\tlearn: 0.3026321\ttotal: 351ms\tremaining: 438ms\n",
      "445:\tlearn: 0.3025259\ttotal: 352ms\tremaining: 437ms\n",
      "446:\tlearn: 0.3024816\ttotal: 352ms\tremaining: 436ms\n",
      "447:\tlearn: 0.3024469\ttotal: 353ms\tremaining: 435ms\n",
      "448:\tlearn: 0.3023854\ttotal: 354ms\tremaining: 434ms\n",
      "449:\tlearn: 0.3023286\ttotal: 355ms\tremaining: 434ms\n",
      "450:\tlearn: 0.3021733\ttotal: 355ms\tremaining: 433ms\n",
      "451:\tlearn: 0.3021282\ttotal: 356ms\tremaining: 432ms\n",
      "452:\tlearn: 0.3020004\ttotal: 357ms\tremaining: 431ms\n",
      "453:\tlearn: 0.3018618\ttotal: 357ms\tremaining: 430ms\n",
      "454:\tlearn: 0.3016664\ttotal: 358ms\tremaining: 429ms\n",
      "455:\tlearn: 0.3016314\ttotal: 359ms\tremaining: 428ms\n",
      "456:\tlearn: 0.3015352\ttotal: 359ms\tremaining: 427ms\n",
      "457:\tlearn: 0.3014125\ttotal: 360ms\tremaining: 426ms\n",
      "458:\tlearn: 0.3013452\ttotal: 361ms\tremaining: 425ms\n",
      "459:\tlearn: 0.3012631\ttotal: 362ms\tremaining: 425ms\n",
      "460:\tlearn: 0.3012480\ttotal: 362ms\tremaining: 423ms\n",
      "461:\tlearn: 0.3010790\ttotal: 363ms\tremaining: 422ms\n",
      "462:\tlearn: 0.3010136\ttotal: 363ms\tremaining: 421ms\n",
      "463:\tlearn: 0.3009883\ttotal: 364ms\tremaining: 420ms\n",
      "464:\tlearn: 0.3008822\ttotal: 365ms\tremaining: 419ms\n",
      "465:\tlearn: 0.3007485\ttotal: 365ms\tremaining: 418ms\n",
      "466:\tlearn: 0.3007113\ttotal: 366ms\tremaining: 418ms\n",
      "467:\tlearn: 0.3005752\ttotal: 367ms\tremaining: 417ms\n",
      "468:\tlearn: 0.3005212\ttotal: 367ms\tremaining: 416ms\n",
      "469:\tlearn: 0.3004786\ttotal: 368ms\tremaining: 415ms\n",
      "470:\tlearn: 0.3004299\ttotal: 369ms\tremaining: 414ms\n",
      "471:\tlearn: 0.3002557\ttotal: 369ms\tremaining: 413ms\n",
      "472:\tlearn: 0.3001743\ttotal: 370ms\tremaining: 412ms\n",
      "473:\tlearn: 0.3001024\ttotal: 371ms\tremaining: 411ms\n",
      "474:\tlearn: 0.3000167\ttotal: 371ms\tremaining: 411ms\n",
      "475:\tlearn: 0.2999233\ttotal: 372ms\tremaining: 410ms\n"
     ]
    },
    {
     "name": "stdout",
     "output_type": "stream",
     "text": [
      "476:\tlearn: 0.2998345\ttotal: 373ms\tremaining: 409ms\n",
      "477:\tlearn: 0.2998271\ttotal: 374ms\tremaining: 408ms\n",
      "478:\tlearn: 0.2997114\ttotal: 374ms\tremaining: 407ms\n",
      "479:\tlearn: 0.2995644\ttotal: 375ms\tremaining: 406ms\n",
      "480:\tlearn: 0.2995326\ttotal: 376ms\tremaining: 405ms\n",
      "481:\tlearn: 0.2994377\ttotal: 376ms\tremaining: 405ms\n",
      "482:\tlearn: 0.2993259\ttotal: 377ms\tremaining: 404ms\n",
      "483:\tlearn: 0.2991913\ttotal: 378ms\tremaining: 403ms\n",
      "484:\tlearn: 0.2991423\ttotal: 378ms\tremaining: 402ms\n",
      "485:\tlearn: 0.2990916\ttotal: 379ms\tremaining: 401ms\n",
      "486:\tlearn: 0.2990536\ttotal: 380ms\tremaining: 400ms\n",
      "487:\tlearn: 0.2988918\ttotal: 380ms\tremaining: 399ms\n",
      "488:\tlearn: 0.2987334\ttotal: 381ms\tremaining: 398ms\n",
      "489:\tlearn: 0.2986421\ttotal: 382ms\tremaining: 397ms\n",
      "490:\tlearn: 0.2985271\ttotal: 383ms\tremaining: 397ms\n",
      "491:\tlearn: 0.2983529\ttotal: 383ms\tremaining: 396ms\n",
      "492:\tlearn: 0.2981919\ttotal: 384ms\tremaining: 395ms\n",
      "493:\tlearn: 0.2981287\ttotal: 385ms\tremaining: 394ms\n",
      "494:\tlearn: 0.2980367\ttotal: 385ms\tremaining: 393ms\n",
      "495:\tlearn: 0.2978904\ttotal: 386ms\tremaining: 392ms\n",
      "496:\tlearn: 0.2978692\ttotal: 387ms\tremaining: 391ms\n",
      "497:\tlearn: 0.2978137\ttotal: 387ms\tremaining: 390ms\n",
      "498:\tlearn: 0.2977541\ttotal: 388ms\tremaining: 390ms\n",
      "499:\tlearn: 0.2976783\ttotal: 389ms\tremaining: 389ms\n",
      "500:\tlearn: 0.2975813\ttotal: 389ms\tremaining: 388ms\n",
      "501:\tlearn: 0.2975801\ttotal: 390ms\tremaining: 387ms\n",
      "502:\tlearn: 0.2975080\ttotal: 391ms\tremaining: 386ms\n",
      "503:\tlearn: 0.2973636\ttotal: 391ms\tremaining: 385ms\n",
      "504:\tlearn: 0.2973169\ttotal: 392ms\tremaining: 384ms\n",
      "505:\tlearn: 0.2972512\ttotal: 392ms\tremaining: 383ms\n",
      "506:\tlearn: 0.2972101\ttotal: 393ms\tremaining: 382ms\n",
      "507:\tlearn: 0.2971715\ttotal: 394ms\tremaining: 381ms\n",
      "508:\tlearn: 0.2970286\ttotal: 394ms\tremaining: 380ms\n",
      "509:\tlearn: 0.2968706\ttotal: 395ms\tremaining: 380ms\n",
      "510:\tlearn: 0.2967711\ttotal: 396ms\tremaining: 379ms\n",
      "511:\tlearn: 0.2965208\ttotal: 397ms\tremaining: 378ms\n",
      "512:\tlearn: 0.2964265\ttotal: 397ms\tremaining: 377ms\n",
      "513:\tlearn: 0.2963903\ttotal: 398ms\tremaining: 376ms\n",
      "514:\tlearn: 0.2962203\ttotal: 399ms\tremaining: 376ms\n",
      "515:\tlearn: 0.2961176\ttotal: 400ms\tremaining: 375ms\n",
      "516:\tlearn: 0.2960869\ttotal: 400ms\tremaining: 374ms\n",
      "517:\tlearn: 0.2958471\ttotal: 401ms\tremaining: 373ms\n",
      "518:\tlearn: 0.2957404\ttotal: 402ms\tremaining: 373ms\n",
      "519:\tlearn: 0.2956630\ttotal: 403ms\tremaining: 372ms\n",
      "520:\tlearn: 0.2955146\ttotal: 404ms\tremaining: 371ms\n",
      "521:\tlearn: 0.2954315\ttotal: 404ms\tremaining: 370ms\n",
      "522:\tlearn: 0.2953980\ttotal: 405ms\tremaining: 369ms\n",
      "523:\tlearn: 0.2952739\ttotal: 405ms\tremaining: 368ms\n",
      "524:\tlearn: 0.2951884\ttotal: 406ms\tremaining: 367ms\n",
      "525:\tlearn: 0.2951598\ttotal: 406ms\tremaining: 366ms\n",
      "526:\tlearn: 0.2949863\ttotal: 407ms\tremaining: 365ms\n",
      "527:\tlearn: 0.2949260\ttotal: 408ms\tremaining: 364ms\n",
      "528:\tlearn: 0.2948302\ttotal: 408ms\tremaining: 364ms\n",
      "529:\tlearn: 0.2947989\ttotal: 409ms\tremaining: 363ms\n",
      "530:\tlearn: 0.2947915\ttotal: 409ms\tremaining: 361ms\n",
      "531:\tlearn: 0.2947354\ttotal: 410ms\tremaining: 360ms\n",
      "532:\tlearn: 0.2946585\ttotal: 410ms\tremaining: 359ms\n",
      "533:\tlearn: 0.2946306\ttotal: 411ms\tremaining: 359ms\n",
      "534:\tlearn: 0.2945709\ttotal: 412ms\tremaining: 358ms\n",
      "535:\tlearn: 0.2943823\ttotal: 412ms\tremaining: 357ms\n",
      "536:\tlearn: 0.2942754\ttotal: 413ms\tremaining: 356ms\n",
      "537:\tlearn: 0.2941745\ttotal: 413ms\tremaining: 355ms\n",
      "538:\tlearn: 0.2941307\ttotal: 414ms\tremaining: 354ms\n",
      "539:\tlearn: 0.2939651\ttotal: 415ms\tremaining: 353ms\n",
      "540:\tlearn: 0.2937643\ttotal: 416ms\tremaining: 353ms\n",
      "541:\tlearn: 0.2936948\ttotal: 416ms\tremaining: 352ms\n",
      "542:\tlearn: 0.2935374\ttotal: 417ms\tremaining: 351ms\n",
      "543:\tlearn: 0.2934588\ttotal: 417ms\tremaining: 350ms\n",
      "544:\tlearn: 0.2934208\ttotal: 418ms\tremaining: 349ms\n",
      "545:\tlearn: 0.2933521\ttotal: 419ms\tremaining: 348ms\n",
      "546:\tlearn: 0.2933391\ttotal: 419ms\tremaining: 347ms\n",
      "547:\tlearn: 0.2932114\ttotal: 420ms\tremaining: 346ms\n",
      "548:\tlearn: 0.2931349\ttotal: 421ms\tremaining: 346ms\n",
      "549:\tlearn: 0.2930340\ttotal: 421ms\tremaining: 345ms\n",
      "550:\tlearn: 0.2929340\ttotal: 422ms\tremaining: 344ms\n",
      "551:\tlearn: 0.2929320\ttotal: 423ms\tremaining: 343ms\n",
      "552:\tlearn: 0.2928502\ttotal: 423ms\tremaining: 342ms\n",
      "553:\tlearn: 0.2928263\ttotal: 424ms\tremaining: 341ms\n",
      "554:\tlearn: 0.2927712\ttotal: 424ms\tremaining: 340ms\n",
      "555:\tlearn: 0.2927612\ttotal: 425ms\tremaining: 339ms\n",
      "556:\tlearn: 0.2927141\ttotal: 426ms\tremaining: 339ms\n",
      "557:\tlearn: 0.2926053\ttotal: 426ms\tremaining: 338ms\n",
      "558:\tlearn: 0.2925179\ttotal: 427ms\tremaining: 337ms\n",
      "559:\tlearn: 0.2924485\ttotal: 428ms\tremaining: 336ms\n",
      "560:\tlearn: 0.2923035\ttotal: 428ms\tremaining: 335ms\n",
      "561:\tlearn: 0.2922375\ttotal: 429ms\tremaining: 334ms\n",
      "562:\tlearn: 0.2921089\ttotal: 430ms\tremaining: 334ms\n",
      "563:\tlearn: 0.2920028\ttotal: 430ms\tremaining: 333ms\n",
      "564:\tlearn: 0.2919404\ttotal: 431ms\tremaining: 332ms\n",
      "565:\tlearn: 0.2918296\ttotal: 432ms\tremaining: 331ms\n",
      "566:\tlearn: 0.2917658\ttotal: 433ms\tremaining: 330ms\n",
      "567:\tlearn: 0.2916990\ttotal: 433ms\tremaining: 330ms\n",
      "568:\tlearn: 0.2916432\ttotal: 434ms\tremaining: 329ms\n",
      "569:\tlearn: 0.2915451\ttotal: 435ms\tremaining: 328ms\n",
      "570:\tlearn: 0.2914654\ttotal: 436ms\tremaining: 327ms\n",
      "571:\tlearn: 0.2913860\ttotal: 436ms\tremaining: 326ms\n",
      "572:\tlearn: 0.2913399\ttotal: 437ms\tremaining: 326ms\n",
      "573:\tlearn: 0.2911945\ttotal: 438ms\tremaining: 325ms\n",
      "574:\tlearn: 0.2910754\ttotal: 438ms\tremaining: 324ms\n",
      "575:\tlearn: 0.2910244\ttotal: 439ms\tremaining: 323ms\n",
      "576:\tlearn: 0.2909147\ttotal: 440ms\tremaining: 322ms\n",
      "577:\tlearn: 0.2909024\ttotal: 440ms\tremaining: 321ms\n",
      "578:\tlearn: 0.2908390\ttotal: 441ms\tremaining: 321ms\n",
      "579:\tlearn: 0.2906691\ttotal: 442ms\tremaining: 320ms\n",
      "580:\tlearn: 0.2905840\ttotal: 442ms\tremaining: 319ms\n",
      "581:\tlearn: 0.2905587\ttotal: 443ms\tremaining: 318ms\n",
      "582:\tlearn: 0.2904524\ttotal: 444ms\tremaining: 317ms\n",
      "583:\tlearn: 0.2904120\ttotal: 444ms\tremaining: 317ms\n",
      "584:\tlearn: 0.2903216\ttotal: 445ms\tremaining: 316ms\n",
      "585:\tlearn: 0.2901981\ttotal: 446ms\tremaining: 315ms\n",
      "586:\tlearn: 0.2901690\ttotal: 447ms\tremaining: 314ms\n",
      "587:\tlearn: 0.2900740\ttotal: 447ms\tremaining: 313ms\n",
      "588:\tlearn: 0.2899626\ttotal: 448ms\tremaining: 313ms\n",
      "589:\tlearn: 0.2899037\ttotal: 449ms\tremaining: 312ms\n",
      "590:\tlearn: 0.2898315\ttotal: 450ms\tremaining: 311ms\n",
      "591:\tlearn: 0.2897774\ttotal: 450ms\tremaining: 310ms\n",
      "592:\tlearn: 0.2897397\ttotal: 451ms\tremaining: 310ms\n",
      "593:\tlearn: 0.2895564\ttotal: 452ms\tremaining: 309ms\n",
      "594:\tlearn: 0.2895347\ttotal: 453ms\tremaining: 308ms\n",
      "595:\tlearn: 0.2892850\ttotal: 453ms\tremaining: 307ms\n",
      "596:\tlearn: 0.2891882\ttotal: 454ms\tremaining: 306ms\n",
      "597:\tlearn: 0.2891287\ttotal: 454ms\tremaining: 306ms\n",
      "598:\tlearn: 0.2891124\ttotal: 455ms\tremaining: 305ms\n",
      "599:\tlearn: 0.2890251\ttotal: 456ms\tremaining: 304ms\n",
      "600:\tlearn: 0.2888324\ttotal: 456ms\tremaining: 303ms\n",
      "601:\tlearn: 0.2888110\ttotal: 457ms\tremaining: 302ms\n",
      "602:\tlearn: 0.2886499\ttotal: 458ms\tremaining: 301ms\n",
      "603:\tlearn: 0.2885804\ttotal: 458ms\tremaining: 300ms\n",
      "604:\tlearn: 0.2885330\ttotal: 459ms\tremaining: 300ms\n",
      "605:\tlearn: 0.2885142\ttotal: 460ms\tremaining: 299ms\n",
      "606:\tlearn: 0.2884650\ttotal: 460ms\tremaining: 298ms\n",
      "607:\tlearn: 0.2883093\ttotal: 461ms\tremaining: 297ms\n",
      "608:\tlearn: 0.2882588\ttotal: 462ms\tremaining: 297ms\n",
      "609:\tlearn: 0.2881734\ttotal: 463ms\tremaining: 296ms\n",
      "610:\tlearn: 0.2881408\ttotal: 464ms\tremaining: 295ms\n",
      "611:\tlearn: 0.2880588\ttotal: 465ms\tremaining: 295ms\n",
      "612:\tlearn: 0.2879189\ttotal: 465ms\tremaining: 294ms\n",
      "613:\tlearn: 0.2878145\ttotal: 466ms\tremaining: 293ms\n",
      "614:\tlearn: 0.2877511\ttotal: 467ms\tremaining: 292ms\n",
      "615:\tlearn: 0.2876260\ttotal: 467ms\tremaining: 291ms\n",
      "616:\tlearn: 0.2875027\ttotal: 468ms\tremaining: 290ms\n",
      "617:\tlearn: 0.2874798\ttotal: 469ms\tremaining: 290ms\n",
      "618:\tlearn: 0.2874180\ttotal: 469ms\tremaining: 289ms\n",
      "619:\tlearn: 0.2872769\ttotal: 470ms\tremaining: 288ms\n",
      "620:\tlearn: 0.2871404\ttotal: 471ms\tremaining: 287ms\n",
      "621:\tlearn: 0.2870768\ttotal: 471ms\tremaining: 286ms\n",
      "622:\tlearn: 0.2869609\ttotal: 472ms\tremaining: 286ms\n",
      "623:\tlearn: 0.2868526\ttotal: 473ms\tremaining: 285ms\n",
      "624:\tlearn: 0.2867878\ttotal: 473ms\tremaining: 284ms\n",
      "625:\tlearn: 0.2866940\ttotal: 474ms\tremaining: 283ms\n",
      "626:\tlearn: 0.2864967\ttotal: 475ms\tremaining: 282ms\n",
      "627:\tlearn: 0.2864054\ttotal: 475ms\tremaining: 282ms\n",
      "628:\tlearn: 0.2861993\ttotal: 476ms\tremaining: 281ms\n",
      "629:\tlearn: 0.2860803\ttotal: 477ms\tremaining: 280ms\n",
      "630:\tlearn: 0.2860395\ttotal: 478ms\tremaining: 279ms\n",
      "631:\tlearn: 0.2859883\ttotal: 479ms\tremaining: 279ms\n",
      "632:\tlearn: 0.2857750\ttotal: 480ms\tremaining: 278ms\n",
      "633:\tlearn: 0.2857447\ttotal: 481ms\tremaining: 277ms\n",
      "634:\tlearn: 0.2856249\ttotal: 481ms\tremaining: 277ms\n",
      "635:\tlearn: 0.2855292\ttotal: 482ms\tremaining: 276ms\n",
      "636:\tlearn: 0.2854102\ttotal: 483ms\tremaining: 275ms\n",
      "637:\tlearn: 0.2852850\ttotal: 483ms\tremaining: 274ms\n",
      "638:\tlearn: 0.2852562\ttotal: 484ms\tremaining: 273ms\n",
      "639:\tlearn: 0.2851559\ttotal: 485ms\tremaining: 273ms\n",
      "640:\tlearn: 0.2850821\ttotal: 486ms\tremaining: 272ms\n",
      "641:\tlearn: 0.2850441\ttotal: 486ms\tremaining: 271ms\n",
      "642:\tlearn: 0.2849465\ttotal: 487ms\tremaining: 270ms\n",
      "643:\tlearn: 0.2848423\ttotal: 488ms\tremaining: 270ms\n",
      "644:\tlearn: 0.2847601\ttotal: 488ms\tremaining: 269ms\n",
      "645:\tlearn: 0.2846886\ttotal: 489ms\tremaining: 268ms\n",
      "646:\tlearn: 0.2846586\ttotal: 490ms\tremaining: 267ms\n",
      "647:\tlearn: 0.2846095\ttotal: 490ms\tremaining: 266ms\n",
      "648:\tlearn: 0.2845257\ttotal: 491ms\tremaining: 265ms\n",
      "649:\tlearn: 0.2843564\ttotal: 491ms\tremaining: 265ms\n",
      "650:\tlearn: 0.2843047\ttotal: 492ms\tremaining: 264ms\n",
      "651:\tlearn: 0.2841992\ttotal: 493ms\tremaining: 263ms\n",
      "652:\tlearn: 0.2841439\ttotal: 493ms\tremaining: 262ms\n",
      "653:\tlearn: 0.2840274\ttotal: 494ms\tremaining: 261ms\n",
      "654:\tlearn: 0.2839023\ttotal: 495ms\tremaining: 261ms\n",
      "655:\tlearn: 0.2838756\ttotal: 495ms\tremaining: 260ms\n",
      "656:\tlearn: 0.2838098\ttotal: 496ms\tremaining: 259ms\n",
      "657:\tlearn: 0.2837297\ttotal: 497ms\tremaining: 258ms\n",
      "658:\tlearn: 0.2836451\ttotal: 497ms\tremaining: 257ms\n",
      "659:\tlearn: 0.2835966\ttotal: 498ms\tremaining: 256ms\n",
      "660:\tlearn: 0.2834964\ttotal: 499ms\tremaining: 256ms\n",
      "661:\tlearn: 0.2834000\ttotal: 499ms\tremaining: 255ms\n",
      "662:\tlearn: 0.2833772\ttotal: 500ms\tremaining: 254ms\n",
      "663:\tlearn: 0.2833365\ttotal: 501ms\tremaining: 253ms\n",
      "664:\tlearn: 0.2832356\ttotal: 501ms\tremaining: 253ms\n",
      "665:\tlearn: 0.2831404\ttotal: 502ms\tremaining: 252ms\n",
      "666:\tlearn: 0.2831080\ttotal: 502ms\tremaining: 251ms\n",
      "667:\tlearn: 0.2829767\ttotal: 503ms\tremaining: 250ms\n",
      "668:\tlearn: 0.2828975\ttotal: 504ms\tremaining: 249ms\n",
      "669:\tlearn: 0.2828471\ttotal: 504ms\tremaining: 248ms\n",
      "670:\tlearn: 0.2827138\ttotal: 505ms\tremaining: 248ms\n",
      "671:\tlearn: 0.2825859\ttotal: 506ms\tremaining: 247ms\n",
      "672:\tlearn: 0.2824283\ttotal: 507ms\tremaining: 246ms\n",
      "673:\tlearn: 0.2823215\ttotal: 508ms\tremaining: 246ms\n",
      "674:\tlearn: 0.2822788\ttotal: 508ms\tremaining: 245ms\n",
      "675:\tlearn: 0.2822052\ttotal: 509ms\tremaining: 244ms\n",
      "676:\tlearn: 0.2821302\ttotal: 510ms\tremaining: 243ms\n",
      "677:\tlearn: 0.2820622\ttotal: 511ms\tremaining: 243ms\n",
      "678:\tlearn: 0.2819229\ttotal: 511ms\tremaining: 242ms\n",
      "679:\tlearn: 0.2818514\ttotal: 512ms\tremaining: 241ms\n",
      "680:\tlearn: 0.2817215\ttotal: 513ms\tremaining: 240ms\n",
      "681:\tlearn: 0.2816415\ttotal: 513ms\tremaining: 239ms\n",
      "682:\tlearn: 0.2814518\ttotal: 514ms\tremaining: 239ms\n",
      "683:\tlearn: 0.2814262\ttotal: 515ms\tremaining: 238ms\n",
      "684:\tlearn: 0.2813233\ttotal: 516ms\tremaining: 237ms\n",
      "685:\tlearn: 0.2812211\ttotal: 516ms\tremaining: 236ms\n",
      "686:\tlearn: 0.2811775\ttotal: 517ms\tremaining: 235ms\n",
      "687:\tlearn: 0.2811535\ttotal: 518ms\tremaining: 235ms\n",
      "688:\tlearn: 0.2810884\ttotal: 518ms\tremaining: 234ms\n",
      "689:\tlearn: 0.2810521\ttotal: 519ms\tremaining: 233ms\n",
      "690:\tlearn: 0.2810106\ttotal: 519ms\tremaining: 232ms\n",
      "691:\tlearn: 0.2809752\ttotal: 520ms\tremaining: 231ms\n",
      "692:\tlearn: 0.2808574\ttotal: 521ms\tremaining: 231ms\n",
      "693:\tlearn: 0.2807253\ttotal: 521ms\tremaining: 230ms\n",
      "694:\tlearn: 0.2805782\ttotal: 522ms\tremaining: 229ms\n",
      "695:\tlearn: 0.2805214\ttotal: 523ms\tremaining: 229ms\n",
      "696:\tlearn: 0.2804590\ttotal: 524ms\tremaining: 228ms\n",
      "697:\tlearn: 0.2803820\ttotal: 525ms\tremaining: 227ms\n",
      "698:\tlearn: 0.2802891\ttotal: 525ms\tremaining: 226ms\n",
      "699:\tlearn: 0.2802271\ttotal: 526ms\tremaining: 225ms\n",
      "700:\tlearn: 0.2800950\ttotal: 527ms\tremaining: 225ms\n",
      "701:\tlearn: 0.2800122\ttotal: 528ms\tremaining: 224ms\n",
      "702:\tlearn: 0.2798917\ttotal: 529ms\tremaining: 223ms\n",
      "703:\tlearn: 0.2798784\ttotal: 529ms\tremaining: 223ms\n",
      "704:\tlearn: 0.2798132\ttotal: 531ms\tremaining: 222ms\n",
      "705:\tlearn: 0.2797421\ttotal: 531ms\tremaining: 221ms\n",
      "706:\tlearn: 0.2797032\ttotal: 532ms\tremaining: 221ms\n",
      "707:\tlearn: 0.2795401\ttotal: 533ms\tremaining: 220ms\n",
      "708:\tlearn: 0.2794733\ttotal: 534ms\tremaining: 219ms\n",
      "709:\tlearn: 0.2793387\ttotal: 535ms\tremaining: 218ms\n",
      "710:\tlearn: 0.2792920\ttotal: 535ms\tremaining: 218ms\n",
      "711:\tlearn: 0.2792216\ttotal: 536ms\tremaining: 217ms\n",
      "712:\tlearn: 0.2791423\ttotal: 537ms\tremaining: 216ms\n",
      "713:\tlearn: 0.2791010\ttotal: 537ms\tremaining: 215ms\n",
      "714:\tlearn: 0.2790349\ttotal: 538ms\tremaining: 214ms\n",
      "715:\tlearn: 0.2789959\ttotal: 539ms\tremaining: 214ms\n",
      "716:\tlearn: 0.2788788\ttotal: 539ms\tremaining: 213ms\n",
      "717:\tlearn: 0.2787016\ttotal: 540ms\tremaining: 212ms\n",
      "718:\tlearn: 0.2785189\ttotal: 541ms\tremaining: 211ms\n",
      "719:\tlearn: 0.2784795\ttotal: 542ms\tremaining: 211ms\n",
      "720:\tlearn: 0.2783877\ttotal: 543ms\tremaining: 210ms\n",
      "721:\tlearn: 0.2783233\ttotal: 543ms\tremaining: 209ms\n",
      "722:\tlearn: 0.2782368\ttotal: 544ms\tremaining: 208ms\n",
      "723:\tlearn: 0.2781641\ttotal: 545ms\tremaining: 208ms\n",
      "724:\tlearn: 0.2779030\ttotal: 545ms\tremaining: 207ms\n",
      "725:\tlearn: 0.2777175\ttotal: 546ms\tremaining: 206ms\n",
      "726:\tlearn: 0.2776609\ttotal: 547ms\tremaining: 205ms\n",
      "727:\tlearn: 0.2775266\ttotal: 547ms\tremaining: 204ms\n",
      "728:\tlearn: 0.2773759\ttotal: 548ms\tremaining: 204ms\n",
      "729:\tlearn: 0.2773004\ttotal: 548ms\tremaining: 203ms\n",
      "730:\tlearn: 0.2772195\ttotal: 549ms\tremaining: 202ms\n",
      "731:\tlearn: 0.2772155\ttotal: 550ms\tremaining: 201ms\n",
      "732:\tlearn: 0.2771522\ttotal: 550ms\tremaining: 200ms\n",
      "733:\tlearn: 0.2770813\ttotal: 551ms\tremaining: 200ms\n",
      "734:\tlearn: 0.2770303\ttotal: 551ms\tremaining: 199ms\n",
      "735:\tlearn: 0.2768800\ttotal: 552ms\tremaining: 198ms\n",
      "736:\tlearn: 0.2767999\ttotal: 553ms\tremaining: 197ms\n",
      "737:\tlearn: 0.2767432\ttotal: 554ms\tremaining: 197ms\n",
      "738:\tlearn: 0.2766449\ttotal: 554ms\tremaining: 196ms\n",
      "739:\tlearn: 0.2764700\ttotal: 555ms\tremaining: 195ms\n",
      "740:\tlearn: 0.2764094\ttotal: 556ms\tremaining: 194ms\n",
      "741:\tlearn: 0.2763283\ttotal: 557ms\tremaining: 194ms\n",
      "742:\tlearn: 0.2762780\ttotal: 557ms\tremaining: 193ms\n",
      "743:\tlearn: 0.2762288\ttotal: 558ms\tremaining: 192ms\n",
      "744:\tlearn: 0.2761015\ttotal: 559ms\tremaining: 191ms\n",
      "745:\tlearn: 0.2760169\ttotal: 559ms\tremaining: 190ms\n",
      "746:\tlearn: 0.2759613\ttotal: 560ms\tremaining: 190ms\n"
     ]
    },
    {
     "name": "stdout",
     "output_type": "stream",
     "text": [
      "747:\tlearn: 0.2758222\ttotal: 561ms\tremaining: 189ms\n",
      "748:\tlearn: 0.2757200\ttotal: 562ms\tremaining: 188ms\n",
      "749:\tlearn: 0.2755574\ttotal: 563ms\tremaining: 188ms\n",
      "750:\tlearn: 0.2754857\ttotal: 564ms\tremaining: 187ms\n",
      "751:\tlearn: 0.2753963\ttotal: 565ms\tremaining: 186ms\n",
      "752:\tlearn: 0.2753460\ttotal: 565ms\tremaining: 185ms\n",
      "753:\tlearn: 0.2752656\ttotal: 566ms\tremaining: 185ms\n",
      "754:\tlearn: 0.2751611\ttotal: 567ms\tremaining: 184ms\n",
      "755:\tlearn: 0.2750688\ttotal: 567ms\tremaining: 183ms\n",
      "756:\tlearn: 0.2749330\ttotal: 568ms\tremaining: 182ms\n",
      "757:\tlearn: 0.2748557\ttotal: 569ms\tremaining: 182ms\n",
      "758:\tlearn: 0.2747443\ttotal: 569ms\tremaining: 181ms\n",
      "759:\tlearn: 0.2746507\ttotal: 570ms\tremaining: 180ms\n",
      "760:\tlearn: 0.2745336\ttotal: 571ms\tremaining: 179ms\n",
      "761:\tlearn: 0.2745304\ttotal: 571ms\tremaining: 178ms\n",
      "762:\tlearn: 0.2744388\ttotal: 572ms\tremaining: 178ms\n",
      "763:\tlearn: 0.2743361\ttotal: 573ms\tremaining: 177ms\n",
      "764:\tlearn: 0.2741750\ttotal: 574ms\tremaining: 176ms\n",
      "765:\tlearn: 0.2741400\ttotal: 575ms\tremaining: 176ms\n",
      "766:\tlearn: 0.2740660\ttotal: 575ms\tremaining: 175ms\n",
      "767:\tlearn: 0.2739928\ttotal: 576ms\tremaining: 174ms\n",
      "768:\tlearn: 0.2739226\ttotal: 577ms\tremaining: 173ms\n",
      "769:\tlearn: 0.2738043\ttotal: 578ms\tremaining: 173ms\n",
      "770:\tlearn: 0.2736254\ttotal: 578ms\tremaining: 172ms\n",
      "771:\tlearn: 0.2735373\ttotal: 579ms\tremaining: 171ms\n",
      "772:\tlearn: 0.2734390\ttotal: 580ms\tremaining: 170ms\n",
      "773:\tlearn: 0.2733257\ttotal: 581ms\tremaining: 170ms\n",
      "774:\tlearn: 0.2732193\ttotal: 581ms\tremaining: 169ms\n",
      "775:\tlearn: 0.2731380\ttotal: 582ms\tremaining: 168ms\n",
      "776:\tlearn: 0.2730012\ttotal: 582ms\tremaining: 167ms\n",
      "777:\tlearn: 0.2728662\ttotal: 583ms\tremaining: 166ms\n",
      "778:\tlearn: 0.2726997\ttotal: 584ms\tremaining: 166ms\n",
      "779:\tlearn: 0.2725780\ttotal: 585ms\tremaining: 165ms\n",
      "780:\tlearn: 0.2725145\ttotal: 585ms\tremaining: 164ms\n",
      "781:\tlearn: 0.2723433\ttotal: 586ms\tremaining: 163ms\n",
      "782:\tlearn: 0.2721883\ttotal: 587ms\tremaining: 163ms\n",
      "783:\tlearn: 0.2721794\ttotal: 587ms\tremaining: 162ms\n",
      "784:\tlearn: 0.2721545\ttotal: 588ms\tremaining: 161ms\n",
      "785:\tlearn: 0.2720836\ttotal: 589ms\tremaining: 160ms\n",
      "786:\tlearn: 0.2719498\ttotal: 589ms\tremaining: 160ms\n",
      "787:\tlearn: 0.2718394\ttotal: 590ms\tremaining: 159ms\n",
      "788:\tlearn: 0.2717162\ttotal: 591ms\tremaining: 158ms\n",
      "789:\tlearn: 0.2716422\ttotal: 592ms\tremaining: 157ms\n",
      "790:\tlearn: 0.2715845\ttotal: 592ms\tremaining: 157ms\n",
      "791:\tlearn: 0.2715248\ttotal: 593ms\tremaining: 156ms\n",
      "792:\tlearn: 0.2714787\ttotal: 594ms\tremaining: 155ms\n",
      "793:\tlearn: 0.2713926\ttotal: 594ms\tremaining: 154ms\n",
      "794:\tlearn: 0.2713037\ttotal: 595ms\tremaining: 153ms\n",
      "795:\tlearn: 0.2712280\ttotal: 596ms\tremaining: 153ms\n",
      "796:\tlearn: 0.2710743\ttotal: 597ms\tremaining: 152ms\n",
      "797:\tlearn: 0.2709982\ttotal: 597ms\tremaining: 151ms\n",
      "798:\tlearn: 0.2709216\ttotal: 598ms\tremaining: 150ms\n",
      "799:\tlearn: 0.2708469\ttotal: 599ms\tremaining: 150ms\n",
      "800:\tlearn: 0.2707729\ttotal: 599ms\tremaining: 149ms\n",
      "801:\tlearn: 0.2706519\ttotal: 600ms\tremaining: 148ms\n",
      "802:\tlearn: 0.2705958\ttotal: 601ms\tremaining: 147ms\n",
      "803:\tlearn: 0.2705541\ttotal: 601ms\tremaining: 147ms\n",
      "804:\tlearn: 0.2704778\ttotal: 602ms\tremaining: 146ms\n",
      "805:\tlearn: 0.2703997\ttotal: 603ms\tremaining: 145ms\n",
      "806:\tlearn: 0.2703596\ttotal: 603ms\tremaining: 144ms\n",
      "807:\tlearn: 0.2702303\ttotal: 604ms\tremaining: 143ms\n",
      "808:\tlearn: 0.2701626\ttotal: 605ms\tremaining: 143ms\n",
      "809:\tlearn: 0.2700649\ttotal: 605ms\tremaining: 142ms\n",
      "810:\tlearn: 0.2700191\ttotal: 606ms\tremaining: 141ms\n",
      "811:\tlearn: 0.2699431\ttotal: 606ms\tremaining: 140ms\n",
      "812:\tlearn: 0.2698867\ttotal: 607ms\tremaining: 140ms\n",
      "813:\tlearn: 0.2698309\ttotal: 608ms\tremaining: 139ms\n",
      "814:\tlearn: 0.2698068\ttotal: 609ms\tremaining: 138ms\n",
      "815:\tlearn: 0.2696642\ttotal: 609ms\tremaining: 137ms\n",
      "816:\tlearn: 0.2696008\ttotal: 610ms\tremaining: 137ms\n",
      "817:\tlearn: 0.2695302\ttotal: 611ms\tremaining: 136ms\n",
      "818:\tlearn: 0.2693911\ttotal: 611ms\tremaining: 135ms\n",
      "819:\tlearn: 0.2693259\ttotal: 612ms\tremaining: 134ms\n",
      "820:\tlearn: 0.2692495\ttotal: 612ms\tremaining: 134ms\n",
      "821:\tlearn: 0.2691633\ttotal: 613ms\tremaining: 133ms\n",
      "822:\tlearn: 0.2690476\ttotal: 614ms\tremaining: 132ms\n",
      "823:\tlearn: 0.2690202\ttotal: 614ms\tremaining: 131ms\n",
      "824:\tlearn: 0.2689352\ttotal: 615ms\tremaining: 130ms\n",
      "825:\tlearn: 0.2688748\ttotal: 616ms\tremaining: 130ms\n",
      "826:\tlearn: 0.2687797\ttotal: 616ms\tremaining: 129ms\n",
      "827:\tlearn: 0.2687126\ttotal: 617ms\tremaining: 128ms\n",
      "828:\tlearn: 0.2686538\ttotal: 617ms\tremaining: 127ms\n",
      "829:\tlearn: 0.2685354\ttotal: 618ms\tremaining: 127ms\n",
      "830:\tlearn: 0.2684915\ttotal: 619ms\tremaining: 126ms\n",
      "831:\tlearn: 0.2683619\ttotal: 619ms\tremaining: 125ms\n",
      "832:\tlearn: 0.2683025\ttotal: 620ms\tremaining: 124ms\n",
      "833:\tlearn: 0.2681660\ttotal: 621ms\tremaining: 124ms\n",
      "834:\tlearn: 0.2680908\ttotal: 621ms\tremaining: 123ms\n",
      "835:\tlearn: 0.2680447\ttotal: 622ms\tremaining: 122ms\n",
      "836:\tlearn: 0.2679273\ttotal: 622ms\tremaining: 121ms\n",
      "837:\tlearn: 0.2678113\ttotal: 623ms\tremaining: 120ms\n",
      "838:\tlearn: 0.2677689\ttotal: 624ms\tremaining: 120ms\n",
      "839:\tlearn: 0.2677161\ttotal: 625ms\tremaining: 119ms\n",
      "840:\tlearn: 0.2676199\ttotal: 625ms\tremaining: 118ms\n",
      "841:\tlearn: 0.2675347\ttotal: 626ms\tremaining: 117ms\n",
      "842:\tlearn: 0.2674904\ttotal: 626ms\tremaining: 117ms\n",
      "843:\tlearn: 0.2673733\ttotal: 627ms\tremaining: 116ms\n",
      "844:\tlearn: 0.2672932\ttotal: 628ms\tremaining: 115ms\n",
      "845:\tlearn: 0.2672545\ttotal: 628ms\tremaining: 114ms\n",
      "846:\tlearn: 0.2671769\ttotal: 629ms\tremaining: 114ms\n",
      "847:\tlearn: 0.2671362\ttotal: 630ms\tremaining: 113ms\n",
      "848:\tlearn: 0.2670937\ttotal: 630ms\tremaining: 112ms\n",
      "849:\tlearn: 0.2670268\ttotal: 632ms\tremaining: 111ms\n",
      "850:\tlearn: 0.2670042\ttotal: 633ms\tremaining: 111ms\n",
      "851:\tlearn: 0.2668447\ttotal: 633ms\tremaining: 110ms\n",
      "852:\tlearn: 0.2667932\ttotal: 634ms\tremaining: 109ms\n",
      "853:\tlearn: 0.2667089\ttotal: 634ms\tremaining: 108ms\n",
      "854:\tlearn: 0.2666538\ttotal: 635ms\tremaining: 108ms\n",
      "855:\tlearn: 0.2665748\ttotal: 636ms\tremaining: 107ms\n",
      "856:\tlearn: 0.2664636\ttotal: 636ms\tremaining: 106ms\n",
      "857:\tlearn: 0.2663827\ttotal: 637ms\tremaining: 105ms\n",
      "858:\tlearn: 0.2663339\ttotal: 638ms\tremaining: 105ms\n",
      "859:\tlearn: 0.2662571\ttotal: 638ms\tremaining: 104ms\n",
      "860:\tlearn: 0.2661633\ttotal: 639ms\tremaining: 103ms\n",
      "861:\tlearn: 0.2661253\ttotal: 639ms\tremaining: 102ms\n",
      "862:\tlearn: 0.2660902\ttotal: 640ms\tremaining: 102ms\n",
      "863:\tlearn: 0.2660328\ttotal: 641ms\tremaining: 101ms\n",
      "864:\tlearn: 0.2659809\ttotal: 641ms\tremaining: 100ms\n",
      "865:\tlearn: 0.2659040\ttotal: 642ms\tremaining: 99.3ms\n",
      "866:\tlearn: 0.2658256\ttotal: 643ms\tremaining: 98.6ms\n",
      "867:\tlearn: 0.2657332\ttotal: 643ms\tremaining: 97.8ms\n",
      "868:\tlearn: 0.2656294\ttotal: 644ms\tremaining: 97.1ms\n",
      "869:\tlearn: 0.2654970\ttotal: 645ms\tremaining: 96.3ms\n",
      "870:\tlearn: 0.2653849\ttotal: 645ms\tremaining: 95.6ms\n",
      "871:\tlearn: 0.2653595\ttotal: 646ms\tremaining: 94.8ms\n",
      "872:\tlearn: 0.2651930\ttotal: 647ms\tremaining: 94.1ms\n",
      "873:\tlearn: 0.2651246\ttotal: 647ms\tremaining: 93.3ms\n",
      "874:\tlearn: 0.2650509\ttotal: 648ms\tremaining: 92.5ms\n",
      "875:\tlearn: 0.2649912\ttotal: 649ms\tremaining: 91.8ms\n",
      "876:\tlearn: 0.2648833\ttotal: 649ms\tremaining: 91.1ms\n",
      "877:\tlearn: 0.2648104\ttotal: 650ms\tremaining: 90.3ms\n",
      "878:\tlearn: 0.2647431\ttotal: 650ms\tremaining: 89.5ms\n",
      "879:\tlearn: 0.2646933\ttotal: 651ms\tremaining: 88.8ms\n",
      "880:\tlearn: 0.2645831\ttotal: 652ms\tremaining: 88ms\n",
      "881:\tlearn: 0.2645709\ttotal: 652ms\tremaining: 87.3ms\n",
      "882:\tlearn: 0.2645449\ttotal: 653ms\tremaining: 86.5ms\n",
      "883:\tlearn: 0.2644652\ttotal: 654ms\tremaining: 85.8ms\n",
      "884:\tlearn: 0.2644049\ttotal: 654ms\tremaining: 85ms\n",
      "885:\tlearn: 0.2643803\ttotal: 655ms\tremaining: 84.3ms\n",
      "886:\tlearn: 0.2643338\ttotal: 656ms\tremaining: 83.5ms\n",
      "887:\tlearn: 0.2642734\ttotal: 656ms\tremaining: 82.8ms\n",
      "888:\tlearn: 0.2642304\ttotal: 657ms\tremaining: 82ms\n",
      "889:\tlearn: 0.2641918\ttotal: 658ms\tremaining: 81.3ms\n",
      "890:\tlearn: 0.2640418\ttotal: 658ms\tremaining: 80.5ms\n",
      "891:\tlearn: 0.2639362\ttotal: 659ms\tremaining: 79.8ms\n",
      "892:\tlearn: 0.2638536\ttotal: 659ms\tremaining: 79ms\n",
      "893:\tlearn: 0.2637420\ttotal: 660ms\tremaining: 78.3ms\n",
      "894:\tlearn: 0.2636940\ttotal: 661ms\tremaining: 77.5ms\n",
      "895:\tlearn: 0.2636152\ttotal: 662ms\tremaining: 76.8ms\n",
      "896:\tlearn: 0.2635656\ttotal: 662ms\tremaining: 76ms\n",
      "897:\tlearn: 0.2635247\ttotal: 663ms\tremaining: 75.3ms\n",
      "898:\tlearn: 0.2634601\ttotal: 664ms\tremaining: 74.5ms\n",
      "899:\tlearn: 0.2633579\ttotal: 664ms\tremaining: 73.8ms\n",
      "900:\tlearn: 0.2632939\ttotal: 665ms\tremaining: 73.1ms\n",
      "901:\tlearn: 0.2632288\ttotal: 666ms\tremaining: 72.3ms\n",
      "902:\tlearn: 0.2631159\ttotal: 666ms\tremaining: 71.6ms\n",
      "903:\tlearn: 0.2630408\ttotal: 667ms\tremaining: 70.8ms\n",
      "904:\tlearn: 0.2629883\ttotal: 667ms\tremaining: 70.1ms\n",
      "905:\tlearn: 0.2628759\ttotal: 668ms\tremaining: 69.3ms\n",
      "906:\tlearn: 0.2627762\ttotal: 669ms\tremaining: 68.6ms\n",
      "907:\tlearn: 0.2627216\ttotal: 669ms\tremaining: 67.8ms\n",
      "908:\tlearn: 0.2626669\ttotal: 670ms\tremaining: 67.1ms\n",
      "909:\tlearn: 0.2625715\ttotal: 671ms\tremaining: 66.3ms\n",
      "910:\tlearn: 0.2625116\ttotal: 672ms\tremaining: 65.6ms\n",
      "911:\tlearn: 0.2624625\ttotal: 672ms\tremaining: 64.8ms\n",
      "912:\tlearn: 0.2624057\ttotal: 673ms\tremaining: 64.1ms\n",
      "913:\tlearn: 0.2623001\ttotal: 673ms\tremaining: 63.4ms\n",
      "914:\tlearn: 0.2622136\ttotal: 674ms\tremaining: 62.6ms\n",
      "915:\tlearn: 0.2621741\ttotal: 675ms\tremaining: 61.9ms\n",
      "916:\tlearn: 0.2621582\ttotal: 675ms\tremaining: 61.1ms\n",
      "917:\tlearn: 0.2621209\ttotal: 676ms\tremaining: 60.4ms\n",
      "918:\tlearn: 0.2620493\ttotal: 677ms\tremaining: 59.7ms\n",
      "919:\tlearn: 0.2619846\ttotal: 678ms\tremaining: 58.9ms\n",
      "920:\tlearn: 0.2619244\ttotal: 678ms\tremaining: 58.2ms\n",
      "921:\tlearn: 0.2618836\ttotal: 679ms\tremaining: 57.5ms\n",
      "922:\tlearn: 0.2618391\ttotal: 680ms\tremaining: 56.7ms\n",
      "923:\tlearn: 0.2617922\ttotal: 680ms\tremaining: 56ms\n",
      "924:\tlearn: 0.2616677\ttotal: 681ms\tremaining: 55.2ms\n",
      "925:\tlearn: 0.2615721\ttotal: 682ms\tremaining: 54.5ms\n",
      "926:\tlearn: 0.2613791\ttotal: 682ms\tremaining: 53.7ms\n",
      "927:\tlearn: 0.2613187\ttotal: 683ms\tremaining: 53ms\n",
      "928:\tlearn: 0.2612451\ttotal: 684ms\tremaining: 52.2ms\n",
      "929:\tlearn: 0.2611513\ttotal: 684ms\tremaining: 51.5ms\n",
      "930:\tlearn: 0.2611305\ttotal: 685ms\tremaining: 50.8ms\n",
      "931:\tlearn: 0.2611147\ttotal: 686ms\tremaining: 50ms\n",
      "932:\tlearn: 0.2610829\ttotal: 687ms\tremaining: 49.3ms\n",
      "933:\tlearn: 0.2610238\ttotal: 687ms\tremaining: 48.6ms\n",
      "934:\tlearn: 0.2609851\ttotal: 688ms\tremaining: 47.8ms\n",
      "935:\tlearn: 0.2609699\ttotal: 689ms\tremaining: 47.1ms\n",
      "936:\tlearn: 0.2609145\ttotal: 689ms\tremaining: 46.3ms\n",
      "937:\tlearn: 0.2608562\ttotal: 690ms\tremaining: 45.6ms\n",
      "938:\tlearn: 0.2606699\ttotal: 691ms\tremaining: 44.9ms\n",
      "939:\tlearn: 0.2605617\ttotal: 691ms\tremaining: 44.1ms\n",
      "940:\tlearn: 0.2604650\ttotal: 692ms\tremaining: 43.4ms\n",
      "941:\tlearn: 0.2604206\ttotal: 693ms\tremaining: 42.6ms\n",
      "942:\tlearn: 0.2602751\ttotal: 693ms\tremaining: 41.9ms\n",
      "943:\tlearn: 0.2601291\ttotal: 694ms\tremaining: 41.2ms\n",
      "944:\tlearn: 0.2600287\ttotal: 695ms\tremaining: 40.4ms\n",
      "945:\tlearn: 0.2599803\ttotal: 695ms\tremaining: 39.7ms\n",
      "946:\tlearn: 0.2599213\ttotal: 696ms\tremaining: 38.9ms\n",
      "947:\tlearn: 0.2598235\ttotal: 697ms\tremaining: 38.2ms\n",
      "948:\tlearn: 0.2597407\ttotal: 697ms\tremaining: 37.5ms\n",
      "949:\tlearn: 0.2596421\ttotal: 698ms\tremaining: 36.7ms\n",
      "950:\tlearn: 0.2595577\ttotal: 699ms\tremaining: 36ms\n",
      "951:\tlearn: 0.2595366\ttotal: 699ms\tremaining: 35.3ms\n",
      "952:\tlearn: 0.2594915\ttotal: 700ms\tremaining: 34.5ms\n",
      "953:\tlearn: 0.2593586\ttotal: 701ms\tremaining: 33.8ms\n",
      "954:\tlearn: 0.2593088\ttotal: 701ms\tremaining: 33ms\n",
      "955:\tlearn: 0.2592481\ttotal: 702ms\tremaining: 32.3ms\n",
      "956:\tlearn: 0.2591562\ttotal: 703ms\tremaining: 31.6ms\n",
      "957:\tlearn: 0.2591095\ttotal: 704ms\tremaining: 30.8ms\n",
      "958:\tlearn: 0.2590656\ttotal: 704ms\tremaining: 30.1ms\n",
      "959:\tlearn: 0.2589966\ttotal: 705ms\tremaining: 29.4ms\n",
      "960:\tlearn: 0.2589570\ttotal: 706ms\tremaining: 28.6ms\n",
      "961:\tlearn: 0.2587948\ttotal: 706ms\tremaining: 27.9ms\n",
      "962:\tlearn: 0.2587453\ttotal: 707ms\tremaining: 27.2ms\n",
      "963:\tlearn: 0.2587204\ttotal: 708ms\tremaining: 26.4ms\n",
      "964:\tlearn: 0.2585535\ttotal: 709ms\tremaining: 25.7ms\n",
      "965:\tlearn: 0.2585187\ttotal: 709ms\tremaining: 25ms\n",
      "966:\tlearn: 0.2584789\ttotal: 710ms\tremaining: 24.2ms\n",
      "967:\tlearn: 0.2583782\ttotal: 710ms\tremaining: 23.5ms\n",
      "968:\tlearn: 0.2583313\ttotal: 711ms\tremaining: 22.7ms\n",
      "969:\tlearn: 0.2582963\ttotal: 712ms\tremaining: 22ms\n",
      "970:\tlearn: 0.2582476\ttotal: 713ms\tremaining: 21.3ms\n",
      "971:\tlearn: 0.2581764\ttotal: 713ms\tremaining: 20.5ms\n",
      "972:\tlearn: 0.2580777\ttotal: 714ms\tremaining: 19.8ms\n",
      "973:\tlearn: 0.2580014\ttotal: 715ms\tremaining: 19.1ms\n",
      "974:\tlearn: 0.2578564\ttotal: 715ms\tremaining: 18.3ms\n",
      "975:\tlearn: 0.2577739\ttotal: 716ms\tremaining: 17.6ms\n",
      "976:\tlearn: 0.2577058\ttotal: 717ms\tremaining: 16.9ms\n",
      "977:\tlearn: 0.2576693\ttotal: 717ms\tremaining: 16.1ms\n",
      "978:\tlearn: 0.2576251\ttotal: 718ms\tremaining: 15.4ms\n",
      "979:\tlearn: 0.2575577\ttotal: 719ms\tremaining: 14.7ms\n",
      "980:\tlearn: 0.2574599\ttotal: 719ms\tremaining: 13.9ms\n",
      "981:\tlearn: 0.2574419\ttotal: 720ms\tremaining: 13.2ms\n",
      "982:\tlearn: 0.2572823\ttotal: 721ms\tremaining: 12.5ms\n",
      "983:\tlearn: 0.2571710\ttotal: 722ms\tremaining: 11.7ms\n",
      "984:\tlearn: 0.2571457\ttotal: 722ms\tremaining: 11ms\n",
      "985:\tlearn: 0.2570506\ttotal: 723ms\tremaining: 10.3ms\n",
      "986:\tlearn: 0.2569420\ttotal: 724ms\tremaining: 9.53ms\n",
      "987:\tlearn: 0.2568287\ttotal: 724ms\tremaining: 8.8ms\n",
      "988:\tlearn: 0.2567428\ttotal: 725ms\tremaining: 8.06ms\n",
      "989:\tlearn: 0.2566604\ttotal: 726ms\tremaining: 7.33ms\n",
      "990:\tlearn: 0.2565893\ttotal: 726ms\tremaining: 6.6ms\n",
      "991:\tlearn: 0.2565196\ttotal: 727ms\tremaining: 5.86ms\n",
      "992:\tlearn: 0.2564509\ttotal: 728ms\tremaining: 5.13ms\n",
      "993:\tlearn: 0.2564196\ttotal: 729ms\tremaining: 4.4ms\n",
      "994:\tlearn: 0.2564096\ttotal: 729ms\tremaining: 3.66ms\n",
      "995:\tlearn: 0.2563272\ttotal: 730ms\tremaining: 2.93ms\n",
      "996:\tlearn: 0.2562156\ttotal: 731ms\tremaining: 2.2ms\n",
      "997:\tlearn: 0.2560615\ttotal: 731ms\tremaining: 1.47ms\n",
      "998:\tlearn: 0.2559430\ttotal: 732ms\tremaining: 732us\n",
      "999:\tlearn: 0.2559182\ttotal: 733ms\tremaining: 0us\n"
     ]
    },
    {
     "data": {
      "text/plain": [
       "<catboost.core.CatBoostClassifier at 0x7f97ebd252b0>"
      ]
     },
     "execution_count": 108,
     "metadata": {},
     "output_type": "execute_result"
    }
   ],
   "source": [
    "from catboost import CatBoostClassifier\n",
    "CBC = CatBoostClassifier()\n",
    "CBC.fit(X_train,Y_train)"
   ]
  },
  {
   "cell_type": "code",
   "execution_count": 109,
   "id": "bf0bc406",
   "metadata": {},
   "outputs": [],
   "source": [
    "y_pred_train_CBC = CBC.predict(X_train)"
   ]
  },
  {
   "cell_type": "code",
   "execution_count": 110,
   "id": "75b63c07",
   "metadata": {},
   "outputs": [],
   "source": [
    "y_pred_test_CBC = CBC.predict(X_test)"
   ]
  },
  {
   "cell_type": "code",
   "execution_count": 111,
   "id": "17ecce5a",
   "metadata": {},
   "outputs": [],
   "source": [
    "CBC_train_accuarcy = accuracy_score(Y_train,y_pred_train_CBC)"
   ]
  },
  {
   "cell_type": "code",
   "execution_count": 112,
   "id": "c7bc17fe",
   "metadata": {},
   "outputs": [],
   "source": [
    "CBC_test_accuarcy = accuracy_score(Y_test,y_pred_test_CBC)"
   ]
  },
  {
   "cell_type": "code",
   "execution_count": 113,
   "id": "5e62b769",
   "metadata": {},
   "outputs": [],
   "source": [
    "cohen_kappa_score_CBC = cohen_kappa_score(Y_test,y_pred_test_CBC)"
   ]
  },
  {
   "cell_type": "code",
   "execution_count": 114,
   "id": "f7828650",
   "metadata": {
    "scrolled": false
   },
   "outputs": [
    {
     "data": {
      "text/html": [
       "<div>\n",
       "<style scoped>\n",
       "    .dataframe tbody tr th:only-of-type {\n",
       "        vertical-align: middle;\n",
       "    }\n",
       "\n",
       "    .dataframe tbody tr th {\n",
       "        vertical-align: top;\n",
       "    }\n",
       "\n",
       "    .dataframe thead th {\n",
       "        text-align: right;\n",
       "    }\n",
       "</style>\n",
       "<table border=\"1\" class=\"dataframe\">\n",
       "  <thead>\n",
       "    <tr style=\"text-align: right;\">\n",
       "      <th></th>\n",
       "      <th>Model</th>\n",
       "      <th>Train_Score</th>\n",
       "      <th>Test_Score</th>\n",
       "      <th>Cohen_kappa_score</th>\n",
       "    </tr>\n",
       "  </thead>\n",
       "  <tbody>\n",
       "    <tr>\n",
       "      <th>0</th>\n",
       "      <td>Logit_regression</td>\n",
       "      <td>0.84</td>\n",
       "      <td>0.89</td>\n",
       "      <td>0.75</td>\n",
       "    </tr>\n",
       "    <tr>\n",
       "      <th>1</th>\n",
       "      <td>KNN</td>\n",
       "      <td>0.81</td>\n",
       "      <td>0.70</td>\n",
       "      <td>0.34</td>\n",
       "    </tr>\n",
       "    <tr>\n",
       "      <th>2</th>\n",
       "      <td>Decision_tree</td>\n",
       "      <td>0.98</td>\n",
       "      <td>0.81</td>\n",
       "      <td>0.59</td>\n",
       "    </tr>\n",
       "    <tr>\n",
       "      <th>3</th>\n",
       "      <td>Random_Forest</td>\n",
       "      <td>0.98</td>\n",
       "      <td>0.83</td>\n",
       "      <td>0.64</td>\n",
       "    </tr>\n",
       "    <tr>\n",
       "      <th>4</th>\n",
       "      <td>AdaBoostClassifier</td>\n",
       "      <td>0.86</td>\n",
       "      <td>0.87</td>\n",
       "      <td>0.71</td>\n",
       "    </tr>\n",
       "    <tr>\n",
       "      <th>5</th>\n",
       "      <td>GradientBoostingClassifier</td>\n",
       "      <td>0.90</td>\n",
       "      <td>0.88</td>\n",
       "      <td>0.74</td>\n",
       "    </tr>\n",
       "    <tr>\n",
       "      <th>6</th>\n",
       "      <td>CatBoostClassifier</td>\n",
       "      <td>0.90</td>\n",
       "      <td>0.90</td>\n",
       "      <td>0.77</td>\n",
       "    </tr>\n",
       "  </tbody>\n",
       "</table>\n",
       "</div>"
      ],
      "text/plain": [
       "                        Model  Train_Score  Test_Score  Cohen_kappa_score\n",
       "0            Logit_regression         0.84        0.89               0.75\n",
       "1                         KNN         0.81        0.70               0.34\n",
       "2               Decision_tree         0.98        0.81               0.59\n",
       "3               Random_Forest         0.98        0.83               0.64\n",
       "4          AdaBoostClassifier         0.86        0.87               0.71\n",
       "5  GradientBoostingClassifier         0.90        0.88               0.74\n",
       "6          CatBoostClassifier         0.90        0.90               0.77"
      ]
     },
     "execution_count": 114,
     "metadata": {},
     "output_type": "execute_result"
    }
   ],
   "source": [
    "Report_Card = Report_Card.append({'Model' : 'CatBoostClassifier', \n",
    "                    'Train_Score' : round(CBC_train_accuarcy,2),\n",
    "                    'Test_Score': round(CBC_test_accuarcy,2),\n",
    "                    'Cohen_kappa_score' : round(cohen_kappa_score_CBC,2)\n",
    "                   }, ignore_index=True)\n",
    "Report_Card"
   ]
  },
  {
   "cell_type": "code",
   "execution_count": 115,
   "id": "eadc9d01",
   "metadata": {},
   "outputs": [],
   "source": [
    "# hypertuning"
   ]
  },
  {
   "cell_type": "code",
   "execution_count": 156,
   "id": "3aa07c99",
   "metadata": {},
   "outputs": [],
   "source": [
    "Report_Card2 = pd.DataFrame(columns= ['Model','Train_Score','Test_Score','Cohen_kappa_score'], index = None)"
   ]
  },
  {
   "cell_type": "code",
   "execution_count": 117,
   "id": "73a62c5e",
   "metadata": {},
   "outputs": [],
   "source": [
    "#AdaBoostClassifier"
   ]
  },
  {
   "cell_type": "markdown",
   "id": "18e3b6ae",
   "metadata": {},
   "source": [
    "from sklearn.model_selection import GridSearchCV </br>\n",
    "from sklearn.ensemble import AdaBoostClassifier </br>\n",
    "ABC = AdaBoostClassifier() </br>\n",
    "params = {'learning_rate' : [0.1,0.2,0.3,0.4,0.5,1,2,3,4,5,6,7], </br>\n",
    "          'n_estimators' : [100,200,300,400,500]} </br>\n",
    "ABC_CV = GridSearchCV(estimator=ABC, param_grid=params, scoring='f1', n_jobs=-1) </br>\n",
    "ABC_CV.fit(X_train,Y_train) </br>\n",
    "ABC_CV.best_params_ </br>"
   ]
  },
  {
   "cell_type": "code",
   "execution_count": 118,
   "id": "dc81cfa5",
   "metadata": {},
   "outputs": [],
   "source": [
    "ABC_200 = AdaBoostClassifier(learning_rate = 0.5, n_estimators = 200)"
   ]
  },
  {
   "cell_type": "code",
   "execution_count": 119,
   "id": "1d07e7d7",
   "metadata": {},
   "outputs": [
    {
     "data": {
      "text/plain": [
       "AdaBoostClassifier(learning_rate=0.5, n_estimators=200)"
      ]
     },
     "execution_count": 119,
     "metadata": {},
     "output_type": "execute_result"
    }
   ],
   "source": [
    "ABC_200.fit(X_train,Y_train)"
   ]
  },
  {
   "cell_type": "code",
   "execution_count": 120,
   "id": "f3ade26e",
   "metadata": {},
   "outputs": [],
   "source": [
    "accuracy_score_training_ABC_200 = accuracy_score(Y_train,ABC_200.predict(X_train))"
   ]
  },
  {
   "cell_type": "code",
   "execution_count": 121,
   "id": "84443572",
   "metadata": {},
   "outputs": [],
   "source": [
    "accuracy_score_testing_ABC_200 = accuracy_score(Y_test,ABC_200.predict(X_test))"
   ]
  },
  {
   "cell_type": "code",
   "execution_count": 122,
   "id": "aad2d197",
   "metadata": {},
   "outputs": [],
   "source": [
    "cohen_kappa_score_ABC_200 = cohen_kappa_score(Y_test,ABC_200.predict(X_test))"
   ]
  },
  {
   "cell_type": "code",
   "execution_count": 123,
   "id": "16c159ef",
   "metadata": {},
   "outputs": [
    {
     "data": {
      "text/plain": [
       "0.7018675530266754"
      ]
     },
     "execution_count": 123,
     "metadata": {},
     "output_type": "execute_result"
    }
   ],
   "source": [
    "cohen_kappa_score_ABC_200"
   ]
  },
  {
   "cell_type": "code",
   "execution_count": 157,
   "id": "3a2b790d",
   "metadata": {},
   "outputs": [
    {
     "data": {
      "text/html": [
       "<div>\n",
       "<style scoped>\n",
       "    .dataframe tbody tr th:only-of-type {\n",
       "        vertical-align: middle;\n",
       "    }\n",
       "\n",
       "    .dataframe tbody tr th {\n",
       "        vertical-align: top;\n",
       "    }\n",
       "\n",
       "    .dataframe thead th {\n",
       "        text-align: right;\n",
       "    }\n",
       "</style>\n",
       "<table border=\"1\" class=\"dataframe\">\n",
       "  <thead>\n",
       "    <tr style=\"text-align: right;\">\n",
       "      <th></th>\n",
       "      <th>Model</th>\n",
       "      <th>Train_Score</th>\n",
       "      <th>Test_Score</th>\n",
       "      <th>Cohen_kappa_score</th>\n",
       "    </tr>\n",
       "  </thead>\n",
       "  <tbody>\n",
       "    <tr>\n",
       "      <th>0</th>\n",
       "      <td>AdaBoost_hyper_tuned</td>\n",
       "      <td>0.87</td>\n",
       "      <td>0.86</td>\n",
       "      <td>0.7</td>\n",
       "    </tr>\n",
       "  </tbody>\n",
       "</table>\n",
       "</div>"
      ],
      "text/plain": [
       "                  Model  Train_Score  Test_Score  Cohen_kappa_score\n",
       "0  AdaBoost_hyper_tuned         0.87        0.86                0.7"
      ]
     },
     "execution_count": 157,
     "metadata": {},
     "output_type": "execute_result"
    }
   ],
   "source": [
    "Report_Card2 = Report_Card2.append({'Model' : 'AdaBoost_hyper_tuned', \n",
    "                    'Train_Score' : round(accuracy_score_training_ABC_200,2),\n",
    "                    'Test_Score': round(accuracy_score_testing_ABC_200,2),\n",
    "                    'Cohen_kappa_score' : round(cohen_kappa_score_ABC_200,2)\n",
    "                    }, ignore_index=True)\n",
    "Report_Card2"
   ]
  },
  {
   "cell_type": "code",
   "execution_count": 124,
   "id": "52378e80",
   "metadata": {},
   "outputs": [],
   "source": [
    "#Gradient_decent"
   ]
  },
  {
   "cell_type": "markdown",
   "id": "92235ef8",
   "metadata": {},
   "source": [
    "from sklearn.model_selection import GridSearchCV</br>\n",
    "from sklearn.ensemble import GradientBoostingClassifier</br>\n",
    "GBC = GradientBoostingClassifier()</br>\n",
    "params = {'learning_rate' : [0.1,0.2,0.3,0.4,0.5,1,2,3], </br>\n",
    "          'n_estimators' : [100,150,200,250,300,400,500], </br>\n",
    "          'min_samples_split' : [2,3,4,5,6,7,8,9,10],</br>\n",
    "          'max_depth' : [1,2,3,4,5,6,7,8,9,10],</br>\n",
    "         'min_samples_leaf' : [1,2,3,4,5,6,7,8,9,10]}</br>\n",
    "GBC_CV = GridSearchCV(estimator=GBC, param_grid=params, scoring='accuracy', n_jobs=-1)</br>\n",
    "GBC_CV.fit(X_train,Y_train)</br>"
   ]
  },
  {
   "cell_type": "markdown",
   "id": "7740337e",
   "metadata": {},
   "source": [
    "GBC_CV.best_params_"
   ]
  },
  {
   "cell_type": "code",
   "execution_count": 158,
   "id": "89cbd556",
   "metadata": {},
   "outputs": [
    {
     "data": {
      "text/plain": [
       "GradientBoostingClassifier(learning_rate=0.2, max_depth=2, min_samples_leaf=2,\n",
       "                           min_samples_split=5)"
      ]
     },
     "execution_count": 158,
     "metadata": {},
     "output_type": "execute_result"
    }
   ],
   "source": [
    "GBC_CV_hyper_tune = GradientBoostingClassifier(learning_rate = 0.2,\n",
    "                                               max_depth = 2,\n",
    "                                               min_samples_leaf = 2,\n",
    "                                               min_samples_split = 5,\n",
    "                                               n_estimators = 100)\n",
    "GBC_CV_hyper_tune.fit(X_train,Y_train)"
   ]
  },
  {
   "cell_type": "code",
   "execution_count": 143,
   "id": "09df2b86",
   "metadata": {},
   "outputs": [
    {
     "data": {
      "text/plain": [
       "0.8927789934354485"
      ]
     },
     "execution_count": 143,
     "metadata": {},
     "output_type": "execute_result"
    }
   ],
   "source": [
    "accuracy_score(Y_train,GBC_CV_hyper_tune.predict(X_train))"
   ]
  },
  {
   "cell_type": "code",
   "execution_count": 144,
   "id": "38c8d831",
   "metadata": {},
   "outputs": [
    {
     "data": {
      "text/plain": [
       "0.8801020408163265"
      ]
     },
     "execution_count": 144,
     "metadata": {},
     "output_type": "execute_result"
    }
   ],
   "source": [
    "accuracy_score(Y_test,GBC_CV_hyper_tune.predict(X_test))"
   ]
  },
  {
   "cell_type": "code",
   "execution_count": 147,
   "id": "2fc577e3",
   "metadata": {},
   "outputs": [
    {
     "data": {
      "text/plain": [
       "0.7377739823512668"
      ]
     },
     "execution_count": 147,
     "metadata": {},
     "output_type": "execute_result"
    }
   ],
   "source": [
    "cohen_kappa_score_GBC = cohen_kappa_score(Y_test,GBC_CV_hyper_tune.predict(X_test))\n",
    "cohen_kappa_score_GBC "
   ]
  },
  {
   "cell_type": "code",
   "execution_count": 159,
   "id": "28deee5b",
   "metadata": {},
   "outputs": [
    {
     "data": {
      "text/html": [
       "<div>\n",
       "<style scoped>\n",
       "    .dataframe tbody tr th:only-of-type {\n",
       "        vertical-align: middle;\n",
       "    }\n",
       "\n",
       "    .dataframe tbody tr th {\n",
       "        vertical-align: top;\n",
       "    }\n",
       "\n",
       "    .dataframe thead th {\n",
       "        text-align: right;\n",
       "    }\n",
       "</style>\n",
       "<table border=\"1\" class=\"dataframe\">\n",
       "  <thead>\n",
       "    <tr style=\"text-align: right;\">\n",
       "      <th></th>\n",
       "      <th>Model</th>\n",
       "      <th>Train_Score</th>\n",
       "      <th>Test_Score</th>\n",
       "      <th>Cohen_kappa_score</th>\n",
       "    </tr>\n",
       "  </thead>\n",
       "  <tbody>\n",
       "    <tr>\n",
       "      <th>0</th>\n",
       "      <td>AdaBoost_hyper_tuned</td>\n",
       "      <td>0.87</td>\n",
       "      <td>0.86</td>\n",
       "      <td>0.70</td>\n",
       "    </tr>\n",
       "    <tr>\n",
       "      <th>1</th>\n",
       "      <td>Graident_Boosting_hypertune</td>\n",
       "      <td>0.89</td>\n",
       "      <td>0.88</td>\n",
       "      <td>0.74</td>\n",
       "    </tr>\n",
       "  </tbody>\n",
       "</table>\n",
       "</div>"
      ],
      "text/plain": [
       "                         Model  Train_Score  Test_Score  Cohen_kappa_score\n",
       "0         AdaBoost_hyper_tuned         0.87        0.86               0.70\n",
       "1  Graident_Boosting_hypertune         0.89        0.88               0.74"
      ]
     },
     "execution_count": 159,
     "metadata": {},
     "output_type": "execute_result"
    }
   ],
   "source": [
    "Report_Card2 = Report_Card2.append({'Model' : 'Graident_Boosting_hypertune', \n",
    "                    'Train_Score' : round(accuracy_score(Y_train,GBC_CV_hyper_tune.predict(X_train)),2),\n",
    "                    'Test_Score': round(accuracy_score(Y_test,GBC_CV_hyper_tune.predict(X_test)),2),\n",
    "                    'Cohen_kappa_score' : round(cohen_kappa_score_GBC,2)\n",
    "                    }, ignore_index=True)\n",
    "Report_Card2"
   ]
  },
  {
   "cell_type": "code",
   "execution_count": 128,
   "id": "7c95d717",
   "metadata": {},
   "outputs": [],
   "source": [
    "# Catboost"
   ]
  },
  {
   "cell_type": "markdown",
   "id": "c527882e",
   "metadata": {},
   "source": [
    "from catboost import CatBoostClassifier </br>\n",
    "CBC = CatBoostClassifier() </br>\n",
    "params = {'iterations' :  [500,600,700], 'depth' : [6,7,8,9,10]} </br>\n",
    "CBC_CV = GridSearchCV(estimator = CBC, param_grid= params, scoring='accuracy', n_jobs=-1) </br>\n",
    "CBC_CV.fit(X_train,Y_train) </br>\n",
    "CBC_CV.best_params_ </br>"
   ]
  },
  {
   "cell_type": "code",
   "execution_count": 129,
   "id": "d29215ba",
   "metadata": {},
   "outputs": [],
   "source": [
    "CBC_500 = CatBoostClassifier(depth=6, iterations = 500, learning_rate = 0.02)"
   ]
  },
  {
   "cell_type": "code",
   "execution_count": 130,
   "id": "cf2f74ca",
   "metadata": {},
   "outputs": [
    {
     "name": "stdout",
     "output_type": "stream",
     "text": [
      "0:\tlearn: 0.6780217\ttotal: 704us\tremaining: 352ms\n",
      "1:\tlearn: 0.6626512\ttotal: 1.39ms\tremaining: 346ms\n",
      "2:\tlearn: 0.6486049\ttotal: 2.11ms\tremaining: 350ms\n",
      "3:\tlearn: 0.6348175\ttotal: 2.77ms\tremaining: 344ms\n",
      "4:\tlearn: 0.6218342\ttotal: 3.4ms\tremaining: 337ms\n",
      "5:\tlearn: 0.6130515\ttotal: 3.86ms\tremaining: 318ms\n",
      "6:\tlearn: 0.6021877\ttotal: 4.54ms\tremaining: 319ms\n",
      "7:\tlearn: 0.5906502\ttotal: 5.2ms\tremaining: 320ms\n",
      "8:\tlearn: 0.5806675\ttotal: 5.92ms\tremaining: 323ms\n",
      "9:\tlearn: 0.5708019\ttotal: 6.72ms\tremaining: 329ms\n",
      "10:\tlearn: 0.5595046\ttotal: 7.27ms\tremaining: 323ms\n",
      "11:\tlearn: 0.5494882\ttotal: 7.86ms\tremaining: 320ms\n",
      "12:\tlearn: 0.5406779\ttotal: 8.42ms\tremaining: 315ms\n",
      "13:\tlearn: 0.5302820\ttotal: 8.95ms\tremaining: 311ms\n",
      "14:\tlearn: 0.5221786\ttotal: 9.54ms\tremaining: 308ms\n",
      "15:\tlearn: 0.5149810\ttotal: 10.7ms\tremaining: 324ms\n",
      "16:\tlearn: 0.5070847\ttotal: 11.4ms\tremaining: 325ms\n",
      "17:\tlearn: 0.5024575\ttotal: 12ms\tremaining: 322ms\n",
      "18:\tlearn: 0.4952256\ttotal: 12.7ms\tremaining: 322ms\n",
      "19:\tlearn: 0.4885143\ttotal: 13.4ms\tremaining: 322ms\n",
      "20:\tlearn: 0.4823637\ttotal: 14ms\tremaining: 320ms\n",
      "21:\tlearn: 0.4764177\ttotal: 14.6ms\tremaining: 317ms\n",
      "22:\tlearn: 0.4716291\ttotal: 15.2ms\tremaining: 314ms\n",
      "23:\tlearn: 0.4662957\ttotal: 16ms\tremaining: 317ms\n",
      "24:\tlearn: 0.4617510\ttotal: 16.7ms\tremaining: 318ms\n",
      "25:\tlearn: 0.4575835\ttotal: 17.4ms\tremaining: 318ms\n",
      "26:\tlearn: 0.4521298\ttotal: 19ms\tremaining: 333ms\n",
      "27:\tlearn: 0.4493678\ttotal: 19.3ms\tremaining: 326ms\n",
      "28:\tlearn: 0.4446701\ttotal: 20.2ms\tremaining: 328ms\n",
      "29:\tlearn: 0.4418411\ttotal: 20.6ms\tremaining: 323ms\n",
      "30:\tlearn: 0.4382309\ttotal: 21.3ms\tremaining: 322ms\n",
      "31:\tlearn: 0.4336026\ttotal: 21.9ms\tremaining: 321ms\n",
      "32:\tlearn: 0.4298057\ttotal: 22.6ms\tremaining: 320ms\n",
      "33:\tlearn: 0.4269444\ttotal: 23ms\tremaining: 315ms\n",
      "34:\tlearn: 0.4236120\ttotal: 23.6ms\tremaining: 314ms\n",
      "35:\tlearn: 0.4206845\ttotal: 24.3ms\tremaining: 313ms\n",
      "36:\tlearn: 0.4176598\ttotal: 25ms\tremaining: 313ms\n",
      "37:\tlearn: 0.4140740\ttotal: 25.8ms\tremaining: 314ms\n",
      "38:\tlearn: 0.4113247\ttotal: 26.5ms\tremaining: 313ms\n",
      "39:\tlearn: 0.4086020\ttotal: 27.6ms\tremaining: 318ms\n",
      "40:\tlearn: 0.4060087\ttotal: 28.4ms\tremaining: 318ms\n",
      "41:\tlearn: 0.4038823\ttotal: 29.2ms\tremaining: 318ms\n",
      "42:\tlearn: 0.4025944\ttotal: 29.4ms\tremaining: 313ms\n",
      "43:\tlearn: 0.4000537\ttotal: 30.1ms\tremaining: 311ms\n",
      "44:\tlearn: 0.3975304\ttotal: 30.8ms\tremaining: 312ms\n",
      "45:\tlearn: 0.3953789\ttotal: 31.6ms\tremaining: 312ms\n",
      "46:\tlearn: 0.3930707\ttotal: 32.3ms\tremaining: 311ms\n",
      "47:\tlearn: 0.3905387\ttotal: 32.9ms\tremaining: 310ms\n",
      "48:\tlearn: 0.3886319\ttotal: 33.6ms\tremaining: 309ms\n",
      "49:\tlearn: 0.3866335\ttotal: 34.3ms\tremaining: 309ms\n",
      "50:\tlearn: 0.3851309\ttotal: 34.9ms\tremaining: 307ms\n",
      "51:\tlearn: 0.3829486\ttotal: 35.6ms\tremaining: 306ms\n",
      "52:\tlearn: 0.3808798\ttotal: 36.3ms\tremaining: 306ms\n",
      "53:\tlearn: 0.3794542\ttotal: 37ms\tremaining: 306ms\n",
      "54:\tlearn: 0.3777553\ttotal: 37.7ms\tremaining: 305ms\n",
      "55:\tlearn: 0.3762850\ttotal: 38.2ms\tremaining: 303ms\n",
      "56:\tlearn: 0.3752928\ttotal: 38.8ms\tremaining: 302ms\n",
      "57:\tlearn: 0.3738933\ttotal: 39.5ms\tremaining: 301ms\n",
      "58:\tlearn: 0.3726782\ttotal: 40.1ms\tremaining: 300ms\n",
      "59:\tlearn: 0.3710386\ttotal: 40.8ms\tremaining: 300ms\n",
      "60:\tlearn: 0.3692466\ttotal: 41.6ms\tremaining: 300ms\n",
      "61:\tlearn: 0.3671189\ttotal: 42.3ms\tremaining: 299ms\n",
      "62:\tlearn: 0.3663132\ttotal: 43.1ms\tremaining: 299ms\n",
      "63:\tlearn: 0.3651257\ttotal: 43.8ms\tremaining: 299ms\n",
      "64:\tlearn: 0.3638974\ttotal: 44.5ms\tremaining: 298ms\n",
      "65:\tlearn: 0.3628899\ttotal: 45.2ms\tremaining: 297ms\n",
      "66:\tlearn: 0.3621818\ttotal: 45.6ms\tremaining: 295ms\n",
      "67:\tlearn: 0.3607171\ttotal: 46.4ms\tremaining: 295ms\n",
      "68:\tlearn: 0.3596355\ttotal: 47ms\tremaining: 294ms\n",
      "69:\tlearn: 0.3582675\ttotal: 47.9ms\tremaining: 294ms\n",
      "70:\tlearn: 0.3571674\ttotal: 48.6ms\tremaining: 294ms\n",
      "71:\tlearn: 0.3558839\ttotal: 49.3ms\tremaining: 293ms\n",
      "72:\tlearn: 0.3544413\ttotal: 50.1ms\tremaining: 293ms\n",
      "73:\tlearn: 0.3535193\ttotal: 50.8ms\tremaining: 293ms\n",
      "74:\tlearn: 0.3525217\ttotal: 51.5ms\tremaining: 292ms\n",
      "75:\tlearn: 0.3514472\ttotal: 52ms\tremaining: 290ms\n",
      "76:\tlearn: 0.3507025\ttotal: 52.6ms\tremaining: 289ms\n",
      "77:\tlearn: 0.3503557\ttotal: 53.2ms\tremaining: 288ms\n",
      "78:\tlearn: 0.3497637\ttotal: 53.9ms\tremaining: 287ms\n",
      "79:\tlearn: 0.3490214\ttotal: 54.5ms\tremaining: 286ms\n",
      "80:\tlearn: 0.3482195\ttotal: 55.2ms\tremaining: 285ms\n",
      "81:\tlearn: 0.3474710\ttotal: 55.8ms\tremaining: 285ms\n",
      "82:\tlearn: 0.3469702\ttotal: 56.6ms\tremaining: 284ms\n",
      "83:\tlearn: 0.3466670\ttotal: 57ms\tremaining: 283ms\n",
      "84:\tlearn: 0.3457288\ttotal: 57.8ms\tremaining: 282ms\n",
      "85:\tlearn: 0.3451455\ttotal: 58.6ms\tremaining: 282ms\n",
      "86:\tlearn: 0.3441529\ttotal: 59.4ms\tremaining: 282ms\n",
      "87:\tlearn: 0.3437151\ttotal: 60.1ms\tremaining: 281ms\n",
      "88:\tlearn: 0.3426732\ttotal: 60.8ms\tremaining: 281ms\n",
      "89:\tlearn: 0.3419023\ttotal: 61.4ms\tremaining: 280ms\n",
      "90:\tlearn: 0.3410220\ttotal: 62.1ms\tremaining: 279ms\n",
      "91:\tlearn: 0.3407118\ttotal: 62.6ms\tremaining: 278ms\n",
      "92:\tlearn: 0.3406309\ttotal: 63.2ms\tremaining: 276ms\n",
      "93:\tlearn: 0.3401525\ttotal: 63.8ms\tremaining: 275ms\n",
      "94:\tlearn: 0.3397137\ttotal: 64.2ms\tremaining: 274ms\n",
      "95:\tlearn: 0.3392672\ttotal: 64.9ms\tremaining: 273ms\n",
      "96:\tlearn: 0.3387997\ttotal: 65.4ms\tremaining: 272ms\n",
      "97:\tlearn: 0.3384334\ttotal: 66.1ms\tremaining: 271ms\n",
      "98:\tlearn: 0.3378721\ttotal: 66.6ms\tremaining: 270ms\n",
      "99:\tlearn: 0.3375209\ttotal: 67.2ms\tremaining: 269ms\n",
      "100:\tlearn: 0.3370511\ttotal: 67.8ms\tremaining: 268ms\n",
      "101:\tlearn: 0.3367505\ttotal: 68.5ms\tremaining: 267ms\n",
      "102:\tlearn: 0.3361491\ttotal: 69.1ms\tremaining: 266ms\n",
      "103:\tlearn: 0.3356464\ttotal: 69.7ms\tremaining: 265ms\n",
      "104:\tlearn: 0.3355091\ttotal: 70.3ms\tremaining: 265ms\n",
      "105:\tlearn: 0.3352114\ttotal: 71.1ms\tremaining: 264ms\n",
      "106:\tlearn: 0.3349649\ttotal: 71.6ms\tremaining: 263ms\n",
      "107:\tlearn: 0.3344710\ttotal: 72.3ms\tremaining: 262ms\n",
      "108:\tlearn: 0.3341077\ttotal: 72.9ms\tremaining: 262ms\n",
      "109:\tlearn: 0.3337878\ttotal: 73.9ms\tremaining: 262ms\n",
      "110:\tlearn: 0.3335701\ttotal: 74.4ms\tremaining: 261ms\n",
      "111:\tlearn: 0.3327369\ttotal: 75.1ms\tremaining: 260ms\n",
      "112:\tlearn: 0.3322775\ttotal: 75.9ms\tremaining: 260ms\n",
      "113:\tlearn: 0.3321076\ttotal: 76.5ms\tremaining: 259ms\n",
      "114:\tlearn: 0.3320104\ttotal: 76.9ms\tremaining: 258ms\n",
      "115:\tlearn: 0.3314145\ttotal: 77.8ms\tremaining: 257ms\n",
      "116:\tlearn: 0.3308674\ttotal: 78.5ms\tremaining: 257ms\n",
      "117:\tlearn: 0.3302893\ttotal: 79.2ms\tremaining: 256ms\n",
      "118:\tlearn: 0.3300085\ttotal: 79.9ms\tremaining: 256ms\n",
      "119:\tlearn: 0.3293644\ttotal: 80.6ms\tremaining: 255ms\n",
      "120:\tlearn: 0.3289917\ttotal: 81.2ms\tremaining: 254ms\n",
      "121:\tlearn: 0.3285834\ttotal: 81.8ms\tremaining: 253ms\n",
      "122:\tlearn: 0.3281035\ttotal: 82.6ms\tremaining: 253ms\n",
      "123:\tlearn: 0.3277623\ttotal: 83.3ms\tremaining: 253ms\n",
      "124:\tlearn: 0.3269761\ttotal: 84ms\tremaining: 252ms\n",
      "125:\tlearn: 0.3266234\ttotal: 84.5ms\tremaining: 251ms\n",
      "126:\tlearn: 0.3263203\ttotal: 85ms\tremaining: 250ms\n",
      "127:\tlearn: 0.3260792\ttotal: 85.9ms\tremaining: 250ms\n",
      "128:\tlearn: 0.3255958\ttotal: 86.5ms\tremaining: 249ms\n",
      "129:\tlearn: 0.3252415\ttotal: 87.1ms\tremaining: 248ms\n",
      "130:\tlearn: 0.3249424\ttotal: 87.8ms\tremaining: 247ms\n",
      "131:\tlearn: 0.3243922\ttotal: 88.5ms\tremaining: 247ms\n",
      "132:\tlearn: 0.3240092\ttotal: 89.3ms\tremaining: 246ms\n",
      "133:\tlearn: 0.3235333\ttotal: 89.9ms\tremaining: 246ms\n",
      "134:\tlearn: 0.3231176\ttotal: 90.5ms\tremaining: 245ms\n",
      "135:\tlearn: 0.3230159\ttotal: 91.2ms\tremaining: 244ms\n",
      "136:\tlearn: 0.3226909\ttotal: 91.9ms\tremaining: 243ms\n",
      "137:\tlearn: 0.3223148\ttotal: 92.8ms\tremaining: 243ms\n",
      "138:\tlearn: 0.3218236\ttotal: 93.5ms\tremaining: 243ms\n",
      "139:\tlearn: 0.3214792\ttotal: 94.1ms\tremaining: 242ms\n",
      "140:\tlearn: 0.3212187\ttotal: 94.9ms\tremaining: 242ms\n",
      "141:\tlearn: 0.3208079\ttotal: 95.5ms\tremaining: 241ms\n",
      "142:\tlearn: 0.3206904\ttotal: 96.2ms\tremaining: 240ms\n",
      "143:\tlearn: 0.3206508\ttotal: 96.5ms\tremaining: 239ms\n",
      "144:\tlearn: 0.3204170\ttotal: 97.2ms\tremaining: 238ms\n",
      "145:\tlearn: 0.3201722\ttotal: 97.8ms\tremaining: 237ms\n",
      "146:\tlearn: 0.3197336\ttotal: 98.4ms\tremaining: 236ms\n",
      "147:\tlearn: 0.3194170\ttotal: 99ms\tremaining: 235ms\n",
      "148:\tlearn: 0.3191067\ttotal: 99.6ms\tremaining: 235ms\n",
      "149:\tlearn: 0.3186848\ttotal: 100ms\tremaining: 234ms\n",
      "150:\tlearn: 0.3185051\ttotal: 101ms\tremaining: 233ms\n",
      "151:\tlearn: 0.3182813\ttotal: 102ms\tremaining: 233ms\n",
      "152:\tlearn: 0.3182491\ttotal: 102ms\tremaining: 231ms\n",
      "153:\tlearn: 0.3180672\ttotal: 103ms\tremaining: 231ms\n",
      "154:\tlearn: 0.3180087\ttotal: 103ms\tremaining: 230ms\n",
      "155:\tlearn: 0.3177097\ttotal: 104ms\tremaining: 229ms\n",
      "156:\tlearn: 0.3176056\ttotal: 104ms\tremaining: 228ms\n",
      "157:\tlearn: 0.3173745\ttotal: 105ms\tremaining: 228ms\n",
      "158:\tlearn: 0.3169623\ttotal: 106ms\tremaining: 227ms\n",
      "159:\tlearn: 0.3163541\ttotal: 107ms\tremaining: 227ms\n",
      "160:\tlearn: 0.3159418\ttotal: 107ms\tremaining: 226ms\n",
      "161:\tlearn: 0.3156892\ttotal: 108ms\tremaining: 225ms\n",
      "162:\tlearn: 0.3153701\ttotal: 108ms\tremaining: 224ms\n",
      "163:\tlearn: 0.3149940\ttotal: 109ms\tremaining: 224ms\n",
      "164:\tlearn: 0.3148494\ttotal: 110ms\tremaining: 223ms\n",
      "165:\tlearn: 0.3146528\ttotal: 110ms\tremaining: 222ms\n",
      "166:\tlearn: 0.3143604\ttotal: 111ms\tremaining: 222ms\n",
      "167:\tlearn: 0.3140795\ttotal: 112ms\tremaining: 221ms\n",
      "168:\tlearn: 0.3139324\ttotal: 112ms\tremaining: 220ms\n",
      "169:\tlearn: 0.3135749\ttotal: 113ms\tremaining: 220ms\n",
      "170:\tlearn: 0.3133811\ttotal: 114ms\tremaining: 219ms\n",
      "171:\tlearn: 0.3133198\ttotal: 115ms\tremaining: 218ms\n",
      "172:\tlearn: 0.3129278\ttotal: 115ms\tremaining: 218ms\n",
      "173:\tlearn: 0.3128381\ttotal: 116ms\tremaining: 217ms\n",
      "174:\tlearn: 0.3126017\ttotal: 116ms\tremaining: 216ms\n",
      "175:\tlearn: 0.3123650\ttotal: 117ms\tremaining: 215ms\n",
      "176:\tlearn: 0.3120825\ttotal: 118ms\tremaining: 215ms\n",
      "177:\tlearn: 0.3116047\ttotal: 118ms\tremaining: 214ms\n",
      "178:\tlearn: 0.3113092\ttotal: 119ms\tremaining: 213ms\n",
      "179:\tlearn: 0.3111511\ttotal: 120ms\tremaining: 213ms\n",
      "180:\tlearn: 0.3106952\ttotal: 120ms\tremaining: 212ms\n",
      "181:\tlearn: 0.3104823\ttotal: 121ms\tremaining: 212ms\n",
      "182:\tlearn: 0.3101818\ttotal: 122ms\tremaining: 211ms\n",
      "183:\tlearn: 0.3099848\ttotal: 122ms\tremaining: 210ms\n",
      "184:\tlearn: 0.3096503\ttotal: 123ms\tremaining: 209ms\n",
      "185:\tlearn: 0.3095030\ttotal: 124ms\tremaining: 209ms\n",
      "186:\tlearn: 0.3093022\ttotal: 124ms\tremaining: 208ms\n",
      "187:\tlearn: 0.3090152\ttotal: 125ms\tremaining: 207ms\n",
      "188:\tlearn: 0.3088391\ttotal: 126ms\tremaining: 207ms\n",
      "189:\tlearn: 0.3087640\ttotal: 126ms\tremaining: 206ms\n",
      "190:\tlearn: 0.3084865\ttotal: 127ms\tremaining: 205ms\n",
      "191:\tlearn: 0.3081560\ttotal: 127ms\tremaining: 204ms\n",
      "192:\tlearn: 0.3078451\ttotal: 128ms\tremaining: 204ms\n",
      "193:\tlearn: 0.3074931\ttotal: 129ms\tremaining: 203ms\n",
      "194:\tlearn: 0.3068737\ttotal: 129ms\tremaining: 202ms\n",
      "195:\tlearn: 0.3066557\ttotal: 130ms\tremaining: 202ms\n",
      "196:\tlearn: 0.3066157\ttotal: 130ms\tremaining: 200ms\n",
      "197:\tlearn: 0.3064797\ttotal: 131ms\tremaining: 199ms\n",
      "198:\tlearn: 0.3062289\ttotal: 132ms\tremaining: 199ms\n",
      "199:\tlearn: 0.3060957\ttotal: 132ms\tremaining: 198ms\n",
      "200:\tlearn: 0.3057717\ttotal: 133ms\tremaining: 197ms\n",
      "201:\tlearn: 0.3056512\ttotal: 133ms\tremaining: 197ms\n",
      "202:\tlearn: 0.3055394\ttotal: 134ms\tremaining: 196ms\n",
      "203:\tlearn: 0.3053639\ttotal: 135ms\tremaining: 195ms\n",
      "204:\tlearn: 0.3051282\ttotal: 135ms\tremaining: 195ms\n",
      "205:\tlearn: 0.3046341\ttotal: 136ms\tremaining: 194ms\n",
      "206:\tlearn: 0.3044638\ttotal: 137ms\tremaining: 193ms\n",
      "207:\tlearn: 0.3043150\ttotal: 137ms\tremaining: 193ms\n",
      "208:\tlearn: 0.3041440\ttotal: 138ms\tremaining: 192ms\n",
      "209:\tlearn: 0.3039063\ttotal: 138ms\tremaining: 191ms\n",
      "210:\tlearn: 0.3036335\ttotal: 139ms\tremaining: 191ms\n",
      "211:\tlearn: 0.3035308\ttotal: 140ms\tremaining: 190ms\n",
      "212:\tlearn: 0.3033867\ttotal: 141ms\tremaining: 190ms\n",
      "213:\tlearn: 0.3030912\ttotal: 141ms\tremaining: 189ms\n",
      "214:\tlearn: 0.3026557\ttotal: 142ms\tremaining: 188ms\n",
      "215:\tlearn: 0.3023316\ttotal: 143ms\tremaining: 188ms\n",
      "216:\tlearn: 0.3019771\ttotal: 143ms\tremaining: 187ms\n",
      "217:\tlearn: 0.3015183\ttotal: 144ms\tremaining: 186ms\n",
      "218:\tlearn: 0.3012545\ttotal: 145ms\tremaining: 186ms\n",
      "219:\tlearn: 0.3009470\ttotal: 146ms\tremaining: 185ms\n",
      "220:\tlearn: 0.3005900\ttotal: 146ms\tremaining: 184ms\n",
      "221:\tlearn: 0.3005617\ttotal: 147ms\tremaining: 183ms\n",
      "222:\tlearn: 0.3004479\ttotal: 147ms\tremaining: 183ms\n",
      "223:\tlearn: 0.3003757\ttotal: 148ms\tremaining: 182ms\n",
      "224:\tlearn: 0.3000904\ttotal: 148ms\tremaining: 181ms\n",
      "225:\tlearn: 0.2999829\ttotal: 149ms\tremaining: 181ms\n",
      "226:\tlearn: 0.2998724\ttotal: 150ms\tremaining: 180ms\n",
      "227:\tlearn: 0.2997238\ttotal: 150ms\tremaining: 179ms\n",
      "228:\tlearn: 0.2995134\ttotal: 151ms\tremaining: 179ms\n",
      "229:\tlearn: 0.2993131\ttotal: 152ms\tremaining: 178ms\n",
      "230:\tlearn: 0.2990143\ttotal: 152ms\tremaining: 177ms\n",
      "231:\tlearn: 0.2988248\ttotal: 153ms\tremaining: 177ms\n",
      "232:\tlearn: 0.2987920\ttotal: 153ms\tremaining: 176ms\n",
      "233:\tlearn: 0.2984714\ttotal: 154ms\tremaining: 175ms\n",
      "234:\tlearn: 0.2981296\ttotal: 155ms\tremaining: 174ms\n",
      "235:\tlearn: 0.2979819\ttotal: 155ms\tremaining: 174ms\n",
      "236:\tlearn: 0.2979802\ttotal: 156ms\tremaining: 173ms\n",
      "237:\tlearn: 0.2977127\ttotal: 156ms\tremaining: 172ms\n",
      "238:\tlearn: 0.2976244\ttotal: 157ms\tremaining: 171ms\n",
      "239:\tlearn: 0.2974888\ttotal: 157ms\tremaining: 171ms\n",
      "240:\tlearn: 0.2972298\ttotal: 158ms\tremaining: 170ms\n",
      "241:\tlearn: 0.2969534\ttotal: 159ms\tremaining: 169ms\n",
      "242:\tlearn: 0.2969207\ttotal: 159ms\tremaining: 168ms\n",
      "243:\tlearn: 0.2968214\ttotal: 160ms\tremaining: 168ms\n",
      "244:\tlearn: 0.2966215\ttotal: 160ms\tremaining: 167ms\n",
      "245:\tlearn: 0.2964191\ttotal: 161ms\tremaining: 166ms\n",
      "246:\tlearn: 0.2963642\ttotal: 161ms\tremaining: 165ms\n",
      "247:\tlearn: 0.2962057\ttotal: 162ms\tremaining: 165ms\n",
      "248:\tlearn: 0.2960640\ttotal: 163ms\tremaining: 164ms\n",
      "249:\tlearn: 0.2959562\ttotal: 163ms\tremaining: 163ms\n",
      "250:\tlearn: 0.2957673\ttotal: 164ms\tremaining: 163ms\n",
      "251:\tlearn: 0.2956080\ttotal: 165ms\tremaining: 162ms\n",
      "252:\tlearn: 0.2954178\ttotal: 166ms\tremaining: 162ms\n",
      "253:\tlearn: 0.2950691\ttotal: 166ms\tremaining: 161ms\n",
      "254:\tlearn: 0.2949707\ttotal: 167ms\tremaining: 160ms\n",
      "255:\tlearn: 0.2947476\ttotal: 168ms\tremaining: 160ms\n",
      "256:\tlearn: 0.2945682\ttotal: 168ms\tremaining: 159ms\n",
      "257:\tlearn: 0.2944772\ttotal: 169ms\tremaining: 159ms\n",
      "258:\tlearn: 0.2941961\ttotal: 170ms\tremaining: 158ms\n",
      "259:\tlearn: 0.2939593\ttotal: 170ms\tremaining: 157ms\n",
      "260:\tlearn: 0.2938386\ttotal: 171ms\tremaining: 156ms\n",
      "261:\tlearn: 0.2937656\ttotal: 171ms\tremaining: 156ms\n",
      "262:\tlearn: 0.2937252\ttotal: 172ms\tremaining: 155ms\n",
      "263:\tlearn: 0.2936641\ttotal: 173ms\tremaining: 155ms\n",
      "264:\tlearn: 0.2934684\ttotal: 173ms\tremaining: 154ms\n",
      "265:\tlearn: 0.2933116\ttotal: 174ms\tremaining: 153ms\n",
      "266:\tlearn: 0.2930051\ttotal: 175ms\tremaining: 153ms\n",
      "267:\tlearn: 0.2928714\ttotal: 175ms\tremaining: 152ms\n",
      "268:\tlearn: 0.2925892\ttotal: 176ms\tremaining: 151ms\n",
      "269:\tlearn: 0.2925587\ttotal: 176ms\tremaining: 150ms\n",
      "270:\tlearn: 0.2923396\ttotal: 177ms\tremaining: 150ms\n",
      "271:\tlearn: 0.2921157\ttotal: 178ms\tremaining: 149ms\n",
      "272:\tlearn: 0.2917801\ttotal: 178ms\tremaining: 148ms\n",
      "273:\tlearn: 0.2916242\ttotal: 179ms\tremaining: 147ms\n",
      "274:\tlearn: 0.2915423\ttotal: 180ms\tremaining: 147ms\n",
      "275:\tlearn: 0.2914579\ttotal: 180ms\tremaining: 146ms\n",
      "276:\tlearn: 0.2913473\ttotal: 181ms\tremaining: 146ms\n",
      "277:\tlearn: 0.2912041\ttotal: 182ms\tremaining: 145ms\n",
      "278:\tlearn: 0.2910728\ttotal: 182ms\tremaining: 144ms\n",
      "279:\tlearn: 0.2908103\ttotal: 183ms\tremaining: 144ms\n",
      "280:\tlearn: 0.2907059\ttotal: 184ms\tremaining: 143ms\n",
      "281:\tlearn: 0.2906260\ttotal: 184ms\tremaining: 143ms\n",
      "282:\tlearn: 0.2904438\ttotal: 185ms\tremaining: 142ms\n",
      "283:\tlearn: 0.2901482\ttotal: 186ms\tremaining: 141ms\n",
      "284:\tlearn: 0.2900151\ttotal: 186ms\tremaining: 141ms\n",
      "285:\tlearn: 0.2898926\ttotal: 187ms\tremaining: 140ms\n",
      "286:\tlearn: 0.2898604\ttotal: 187ms\tremaining: 139ms\n"
     ]
    },
    {
     "name": "stdout",
     "output_type": "stream",
     "text": [
      "287:\tlearn: 0.2896901\ttotal: 188ms\tremaining: 139ms\n",
      "288:\tlearn: 0.2895967\ttotal: 189ms\tremaining: 138ms\n",
      "289:\tlearn: 0.2895286\ttotal: 190ms\tremaining: 137ms\n",
      "290:\tlearn: 0.2890514\ttotal: 190ms\tremaining: 137ms\n",
      "291:\tlearn: 0.2889790\ttotal: 191ms\tremaining: 136ms\n",
      "292:\tlearn: 0.2888725\ttotal: 192ms\tremaining: 135ms\n",
      "293:\tlearn: 0.2886043\ttotal: 192ms\tremaining: 135ms\n",
      "294:\tlearn: 0.2882934\ttotal: 193ms\tremaining: 134ms\n",
      "295:\tlearn: 0.2881435\ttotal: 193ms\tremaining: 133ms\n",
      "296:\tlearn: 0.2879678\ttotal: 194ms\tremaining: 133ms\n",
      "297:\tlearn: 0.2878881\ttotal: 195ms\tremaining: 132ms\n",
      "298:\tlearn: 0.2877009\ttotal: 195ms\tremaining: 131ms\n",
      "299:\tlearn: 0.2876895\ttotal: 196ms\tremaining: 130ms\n",
      "300:\tlearn: 0.2873960\ttotal: 196ms\tremaining: 130ms\n",
      "301:\tlearn: 0.2872253\ttotal: 197ms\tremaining: 129ms\n",
      "302:\tlearn: 0.2869601\ttotal: 198ms\tremaining: 129ms\n",
      "303:\tlearn: 0.2867638\ttotal: 199ms\tremaining: 128ms\n",
      "304:\tlearn: 0.2866266\ttotal: 199ms\tremaining: 127ms\n",
      "305:\tlearn: 0.2864389\ttotal: 200ms\tremaining: 127ms\n",
      "306:\tlearn: 0.2862793\ttotal: 201ms\tremaining: 126ms\n",
      "307:\tlearn: 0.2859026\ttotal: 201ms\tremaining: 126ms\n",
      "308:\tlearn: 0.2855366\ttotal: 202ms\tremaining: 125ms\n",
      "309:\tlearn: 0.2853026\ttotal: 203ms\tremaining: 124ms\n",
      "310:\tlearn: 0.2850987\ttotal: 204ms\tremaining: 124ms\n",
      "311:\tlearn: 0.2848136\ttotal: 204ms\tremaining: 123ms\n",
      "312:\tlearn: 0.2845751\ttotal: 205ms\tremaining: 122ms\n",
      "313:\tlearn: 0.2845173\ttotal: 206ms\tremaining: 122ms\n",
      "314:\tlearn: 0.2843984\ttotal: 206ms\tremaining: 121ms\n",
      "315:\tlearn: 0.2843622\ttotal: 207ms\tremaining: 121ms\n",
      "316:\tlearn: 0.2842249\ttotal: 208ms\tremaining: 120ms\n",
      "317:\tlearn: 0.2841515\ttotal: 209ms\tremaining: 119ms\n",
      "318:\tlearn: 0.2838266\ttotal: 209ms\tremaining: 119ms\n",
      "319:\tlearn: 0.2837659\ttotal: 210ms\tremaining: 118ms\n",
      "320:\tlearn: 0.2835485\ttotal: 211ms\tremaining: 117ms\n",
      "321:\tlearn: 0.2835231\ttotal: 211ms\tremaining: 117ms\n",
      "322:\tlearn: 0.2832955\ttotal: 212ms\tremaining: 116ms\n",
      "323:\tlearn: 0.2829555\ttotal: 213ms\tremaining: 116ms\n",
      "324:\tlearn: 0.2826467\ttotal: 213ms\tremaining: 115ms\n",
      "325:\tlearn: 0.2824853\ttotal: 214ms\tremaining: 114ms\n",
      "326:\tlearn: 0.2824439\ttotal: 215ms\tremaining: 114ms\n",
      "327:\tlearn: 0.2822381\ttotal: 215ms\tremaining: 113ms\n",
      "328:\tlearn: 0.2820211\ttotal: 216ms\tremaining: 112ms\n",
      "329:\tlearn: 0.2816249\ttotal: 217ms\tremaining: 112ms\n",
      "330:\tlearn: 0.2814703\ttotal: 218ms\tremaining: 111ms\n",
      "331:\tlearn: 0.2814498\ttotal: 218ms\tremaining: 110ms\n",
      "332:\tlearn: 0.2814121\ttotal: 219ms\tremaining: 110ms\n",
      "333:\tlearn: 0.2811507\ttotal: 219ms\tremaining: 109ms\n",
      "334:\tlearn: 0.2810744\ttotal: 220ms\tremaining: 108ms\n",
      "335:\tlearn: 0.2807456\ttotal: 221ms\tremaining: 108ms\n",
      "336:\tlearn: 0.2805499\ttotal: 221ms\tremaining: 107ms\n",
      "337:\tlearn: 0.2803793\ttotal: 222ms\tremaining: 106ms\n",
      "338:\tlearn: 0.2802364\ttotal: 223ms\tremaining: 106ms\n",
      "339:\tlearn: 0.2800871\ttotal: 224ms\tremaining: 105ms\n",
      "340:\tlearn: 0.2800668\ttotal: 224ms\tremaining: 105ms\n",
      "341:\tlearn: 0.2797370\ttotal: 225ms\tremaining: 104ms\n",
      "342:\tlearn: 0.2795218\ttotal: 225ms\tremaining: 103ms\n",
      "343:\tlearn: 0.2793370\ttotal: 226ms\tremaining: 103ms\n",
      "344:\tlearn: 0.2792685\ttotal: 227ms\tremaining: 102ms\n",
      "345:\tlearn: 0.2791769\ttotal: 228ms\tremaining: 101ms\n",
      "346:\tlearn: 0.2789486\ttotal: 228ms\tremaining: 101ms\n",
      "347:\tlearn: 0.2787908\ttotal: 229ms\tremaining: 100ms\n",
      "348:\tlearn: 0.2787111\ttotal: 230ms\tremaining: 99.4ms\n",
      "349:\tlearn: 0.2786064\ttotal: 231ms\tremaining: 98.8ms\n",
      "350:\tlearn: 0.2783995\ttotal: 231ms\tremaining: 98.1ms\n",
      "351:\tlearn: 0.2782961\ttotal: 232ms\tremaining: 97.5ms\n",
      "352:\tlearn: 0.2779172\ttotal: 233ms\tremaining: 96.8ms\n",
      "353:\tlearn: 0.2778510\ttotal: 233ms\tremaining: 96.2ms\n",
      "354:\tlearn: 0.2774378\ttotal: 234ms\tremaining: 95.5ms\n",
      "355:\tlearn: 0.2772798\ttotal: 235ms\tremaining: 94.9ms\n",
      "356:\tlearn: 0.2769573\ttotal: 235ms\tremaining: 94.2ms\n",
      "357:\tlearn: 0.2767985\ttotal: 236ms\tremaining: 93.6ms\n",
      "358:\tlearn: 0.2767358\ttotal: 237ms\tremaining: 93ms\n",
      "359:\tlearn: 0.2767180\ttotal: 237ms\tremaining: 92.2ms\n",
      "360:\tlearn: 0.2766371\ttotal: 238ms\tremaining: 91.5ms\n",
      "361:\tlearn: 0.2763343\ttotal: 238ms\tremaining: 90.8ms\n",
      "362:\tlearn: 0.2762215\ttotal: 239ms\tremaining: 90.2ms\n",
      "363:\tlearn: 0.2761174\ttotal: 240ms\tremaining: 89.6ms\n",
      "364:\tlearn: 0.2760435\ttotal: 240ms\tremaining: 88.9ms\n",
      "365:\tlearn: 0.2758539\ttotal: 241ms\tremaining: 88.3ms\n",
      "366:\tlearn: 0.2757661\ttotal: 242ms\tremaining: 87.6ms\n",
      "367:\tlearn: 0.2755547\ttotal: 243ms\tremaining: 87ms\n",
      "368:\tlearn: 0.2752305\ttotal: 243ms\tremaining: 86.3ms\n",
      "369:\tlearn: 0.2750523\ttotal: 244ms\tremaining: 85.6ms\n",
      "370:\tlearn: 0.2749120\ttotal: 244ms\tremaining: 84.9ms\n",
      "371:\tlearn: 0.2746812\ttotal: 246ms\tremaining: 84.5ms\n",
      "372:\tlearn: 0.2745199\ttotal: 246ms\tremaining: 83.8ms\n",
      "373:\tlearn: 0.2743848\ttotal: 247ms\tremaining: 83.2ms\n",
      "374:\tlearn: 0.2739751\ttotal: 248ms\tremaining: 82.6ms\n",
      "375:\tlearn: 0.2736813\ttotal: 248ms\tremaining: 81.9ms\n",
      "376:\tlearn: 0.2735909\ttotal: 249ms\tremaining: 81.2ms\n",
      "377:\tlearn: 0.2734079\ttotal: 250ms\tremaining: 80.6ms\n",
      "378:\tlearn: 0.2732785\ttotal: 250ms\tremaining: 79.9ms\n",
      "379:\tlearn: 0.2731625\ttotal: 251ms\tremaining: 79.2ms\n",
      "380:\tlearn: 0.2729586\ttotal: 251ms\tremaining: 78.5ms\n",
      "381:\tlearn: 0.2728858\ttotal: 252ms\tremaining: 77.9ms\n",
      "382:\tlearn: 0.2726898\ttotal: 253ms\tremaining: 77.2ms\n",
      "383:\tlearn: 0.2725564\ttotal: 253ms\tremaining: 76.5ms\n",
      "384:\tlearn: 0.2723761\ttotal: 254ms\tremaining: 75.9ms\n",
      "385:\tlearn: 0.2722521\ttotal: 255ms\tremaining: 75.3ms\n",
      "386:\tlearn: 0.2721664\ttotal: 256ms\tremaining: 74.6ms\n",
      "387:\tlearn: 0.2719699\ttotal: 256ms\tremaining: 74ms\n",
      "388:\tlearn: 0.2716972\ttotal: 257ms\tremaining: 73.3ms\n",
      "389:\tlearn: 0.2715577\ttotal: 258ms\tremaining: 72.7ms\n",
      "390:\tlearn: 0.2711651\ttotal: 258ms\tremaining: 72ms\n",
      "391:\tlearn: 0.2710642\ttotal: 259ms\tremaining: 71.4ms\n",
      "392:\tlearn: 0.2708973\ttotal: 260ms\tremaining: 70.7ms\n",
      "393:\tlearn: 0.2706381\ttotal: 260ms\tremaining: 70.1ms\n",
      "394:\tlearn: 0.2705597\ttotal: 261ms\tremaining: 69.4ms\n",
      "395:\tlearn: 0.2703559\ttotal: 262ms\tremaining: 68.7ms\n",
      "396:\tlearn: 0.2702133\ttotal: 262ms\tremaining: 68.1ms\n",
      "397:\tlearn: 0.2701020\ttotal: 263ms\tremaining: 67.4ms\n",
      "398:\tlearn: 0.2700648\ttotal: 264ms\tremaining: 66.8ms\n",
      "399:\tlearn: 0.2699635\ttotal: 264ms\tremaining: 66.1ms\n",
      "400:\tlearn: 0.2696352\ttotal: 265ms\tremaining: 65.4ms\n",
      "401:\tlearn: 0.2695423\ttotal: 266ms\tremaining: 64.8ms\n",
      "402:\tlearn: 0.2694365\ttotal: 266ms\tremaining: 64.1ms\n",
      "403:\tlearn: 0.2693132\ttotal: 267ms\tremaining: 63.5ms\n",
      "404:\tlearn: 0.2692017\ttotal: 268ms\tremaining: 62.8ms\n",
      "405:\tlearn: 0.2690144\ttotal: 268ms\tremaining: 62.1ms\n",
      "406:\tlearn: 0.2686358\ttotal: 269ms\tremaining: 61.5ms\n",
      "407:\tlearn: 0.2685617\ttotal: 270ms\tremaining: 60.8ms\n",
      "408:\tlearn: 0.2684243\ttotal: 270ms\tremaining: 60.2ms\n",
      "409:\tlearn: 0.2683893\ttotal: 271ms\tremaining: 59.5ms\n",
      "410:\tlearn: 0.2683277\ttotal: 272ms\tremaining: 58.8ms\n",
      "411:\tlearn: 0.2681435\ttotal: 272ms\tremaining: 58.2ms\n",
      "412:\tlearn: 0.2680211\ttotal: 273ms\tremaining: 57.5ms\n",
      "413:\tlearn: 0.2677987\ttotal: 274ms\tremaining: 56.8ms\n",
      "414:\tlearn: 0.2676963\ttotal: 274ms\tremaining: 56.2ms\n",
      "415:\tlearn: 0.2675537\ttotal: 275ms\tremaining: 55.6ms\n",
      "416:\tlearn: 0.2674742\ttotal: 276ms\tremaining: 54.9ms\n",
      "417:\tlearn: 0.2673786\ttotal: 276ms\tremaining: 54.2ms\n",
      "418:\tlearn: 0.2673000\ttotal: 277ms\tremaining: 53.6ms\n",
      "419:\tlearn: 0.2671896\ttotal: 278ms\tremaining: 52.9ms\n",
      "420:\tlearn: 0.2670208\ttotal: 278ms\tremaining: 52.3ms\n",
      "421:\tlearn: 0.2669462\ttotal: 279ms\tremaining: 51.6ms\n",
      "422:\tlearn: 0.2666903\ttotal: 280ms\tremaining: 50.9ms\n",
      "423:\tlearn: 0.2666733\ttotal: 281ms\tremaining: 50.3ms\n",
      "424:\tlearn: 0.2664480\ttotal: 281ms\tremaining: 49.6ms\n",
      "425:\tlearn: 0.2663699\ttotal: 282ms\tremaining: 49ms\n",
      "426:\tlearn: 0.2662465\ttotal: 283ms\tremaining: 48.3ms\n",
      "427:\tlearn: 0.2662190\ttotal: 283ms\tremaining: 47.6ms\n",
      "428:\tlearn: 0.2660766\ttotal: 284ms\tremaining: 47ms\n",
      "429:\tlearn: 0.2659788\ttotal: 284ms\tremaining: 46.3ms\n",
      "430:\tlearn: 0.2658204\ttotal: 285ms\tremaining: 45.7ms\n",
      "431:\tlearn: 0.2654723\ttotal: 286ms\tremaining: 45ms\n",
      "432:\tlearn: 0.2652415\ttotal: 286ms\tremaining: 44.3ms\n",
      "433:\tlearn: 0.2650050\ttotal: 287ms\tremaining: 43.6ms\n",
      "434:\tlearn: 0.2649339\ttotal: 288ms\tremaining: 43ms\n",
      "435:\tlearn: 0.2647333\ttotal: 288ms\tremaining: 42.3ms\n",
      "436:\tlearn: 0.2645435\ttotal: 289ms\tremaining: 41.7ms\n",
      "437:\tlearn: 0.2641839\ttotal: 290ms\tremaining: 41ms\n",
      "438:\tlearn: 0.2641040\ttotal: 290ms\tremaining: 40.3ms\n",
      "439:\tlearn: 0.2640396\ttotal: 291ms\tremaining: 39.7ms\n",
      "440:\tlearn: 0.2638183\ttotal: 292ms\tremaining: 39ms\n",
      "441:\tlearn: 0.2635876\ttotal: 292ms\tremaining: 38.4ms\n",
      "442:\tlearn: 0.2634898\ttotal: 293ms\tremaining: 37.8ms\n",
      "443:\tlearn: 0.2633742\ttotal: 294ms\tremaining: 37.1ms\n",
      "444:\tlearn: 0.2632768\ttotal: 295ms\tremaining: 36.4ms\n",
      "445:\tlearn: 0.2630285\ttotal: 295ms\tremaining: 35.7ms\n",
      "446:\tlearn: 0.2629419\ttotal: 296ms\tremaining: 35.1ms\n",
      "447:\tlearn: 0.2629139\ttotal: 296ms\tremaining: 34.4ms\n",
      "448:\tlearn: 0.2628464\ttotal: 297ms\tremaining: 33.7ms\n",
      "449:\tlearn: 0.2628117\ttotal: 298ms\tremaining: 33.1ms\n",
      "450:\tlearn: 0.2627877\ttotal: 298ms\tremaining: 32.4ms\n",
      "451:\tlearn: 0.2623903\ttotal: 299ms\tremaining: 31.7ms\n",
      "452:\tlearn: 0.2621604\ttotal: 299ms\tremaining: 31.1ms\n",
      "453:\tlearn: 0.2619655\ttotal: 300ms\tremaining: 30.4ms\n",
      "454:\tlearn: 0.2617162\ttotal: 301ms\tremaining: 29.7ms\n",
      "455:\tlearn: 0.2615928\ttotal: 301ms\tremaining: 29.1ms\n",
      "456:\tlearn: 0.2614487\ttotal: 302ms\tremaining: 28.4ms\n",
      "457:\tlearn: 0.2613730\ttotal: 302ms\tremaining: 27.7ms\n",
      "458:\tlearn: 0.2612938\ttotal: 303ms\tremaining: 27.1ms\n",
      "459:\tlearn: 0.2611167\ttotal: 304ms\tremaining: 26.4ms\n",
      "460:\tlearn: 0.2609989\ttotal: 304ms\tremaining: 25.8ms\n",
      "461:\tlearn: 0.2608613\ttotal: 305ms\tremaining: 25.1ms\n",
      "462:\tlearn: 0.2607640\ttotal: 306ms\tremaining: 24.4ms\n",
      "463:\tlearn: 0.2607372\ttotal: 306ms\tremaining: 23.8ms\n",
      "464:\tlearn: 0.2606182\ttotal: 307ms\tremaining: 23.1ms\n",
      "465:\tlearn: 0.2604102\ttotal: 307ms\tremaining: 22.4ms\n",
      "466:\tlearn: 0.2602902\ttotal: 308ms\tremaining: 21.8ms\n",
      "467:\tlearn: 0.2602580\ttotal: 309ms\tremaining: 21.1ms\n",
      "468:\tlearn: 0.2601854\ttotal: 310ms\tremaining: 20.5ms\n",
      "469:\tlearn: 0.2600898\ttotal: 310ms\tremaining: 19.8ms\n",
      "470:\tlearn: 0.2600454\ttotal: 311ms\tremaining: 19.1ms\n",
      "471:\tlearn: 0.2600309\ttotal: 311ms\tremaining: 18.5ms\n",
      "472:\tlearn: 0.2598827\ttotal: 312ms\tremaining: 17.8ms\n",
      "473:\tlearn: 0.2597131\ttotal: 313ms\tremaining: 17.2ms\n",
      "474:\tlearn: 0.2596493\ttotal: 314ms\tremaining: 16.5ms\n",
      "475:\tlearn: 0.2593524\ttotal: 314ms\tremaining: 15.8ms\n",
      "476:\tlearn: 0.2591360\ttotal: 315ms\tremaining: 15.2ms\n",
      "477:\tlearn: 0.2588903\ttotal: 316ms\tremaining: 14.5ms\n",
      "478:\tlearn: 0.2586963\ttotal: 316ms\tremaining: 13.9ms\n",
      "479:\tlearn: 0.2585929\ttotal: 317ms\tremaining: 13.2ms\n",
      "480:\tlearn: 0.2584573\ttotal: 318ms\tremaining: 12.5ms\n",
      "481:\tlearn: 0.2582543\ttotal: 318ms\tremaining: 11.9ms\n",
      "482:\tlearn: 0.2579687\ttotal: 319ms\tremaining: 11.2ms\n",
      "483:\tlearn: 0.2578254\ttotal: 319ms\tremaining: 10.6ms\n",
      "484:\tlearn: 0.2574777\ttotal: 320ms\tremaining: 9.9ms\n",
      "485:\tlearn: 0.2574504\ttotal: 321ms\tremaining: 9.24ms\n",
      "486:\tlearn: 0.2574067\ttotal: 321ms\tremaining: 8.58ms\n",
      "487:\tlearn: 0.2573131\ttotal: 322ms\tremaining: 7.92ms\n",
      "488:\tlearn: 0.2570615\ttotal: 323ms\tremaining: 7.26ms\n",
      "489:\tlearn: 0.2570337\ttotal: 323ms\tremaining: 6.6ms\n",
      "490:\tlearn: 0.2569267\ttotal: 324ms\tremaining: 5.94ms\n",
      "491:\tlearn: 0.2567245\ttotal: 325ms\tremaining: 5.28ms\n",
      "492:\tlearn: 0.2565968\ttotal: 325ms\tremaining: 4.62ms\n",
      "493:\tlearn: 0.2562541\ttotal: 326ms\tremaining: 3.96ms\n",
      "494:\tlearn: 0.2561525\ttotal: 327ms\tremaining: 3.3ms\n",
      "495:\tlearn: 0.2560640\ttotal: 327ms\tremaining: 2.64ms\n",
      "496:\tlearn: 0.2560054\ttotal: 328ms\tremaining: 1.98ms\n",
      "497:\tlearn: 0.2558971\ttotal: 329ms\tremaining: 1.32ms\n",
      "498:\tlearn: 0.2558274\ttotal: 329ms\tremaining: 660us\n",
      "499:\tlearn: 0.2556538\ttotal: 330ms\tremaining: 0us\n"
     ]
    },
    {
     "data": {
      "text/plain": [
       "<catboost.core.CatBoostClassifier at 0x7f97ebe278b0>"
      ]
     },
     "execution_count": 130,
     "metadata": {},
     "output_type": "execute_result"
    }
   ],
   "source": [
    "CBC_500.fit(X_train,Y_train)"
   ]
  },
  {
   "cell_type": "code",
   "execution_count": 131,
   "id": "aa14d140",
   "metadata": {},
   "outputs": [
    {
     "data": {
      "text/plain": [
       "0.9015317286652079"
      ]
     },
     "execution_count": 131,
     "metadata": {},
     "output_type": "execute_result"
    }
   ],
   "source": [
    "accuracy_score(Y_train, CBC_500.predict(X_train))"
   ]
  },
  {
   "cell_type": "code",
   "execution_count": 132,
   "id": "7f847f3d",
   "metadata": {},
   "outputs": [
    {
     "data": {
      "text/plain": [
       "0.8903061224489796"
      ]
     },
     "execution_count": 132,
     "metadata": {},
     "output_type": "execute_result"
    }
   ],
   "source": [
    "accuracy_score(Y_test, CBC_500.predict(X_test))"
   ]
  },
  {
   "cell_type": "code",
   "execution_count": 154,
   "id": "23be3acf",
   "metadata": {},
   "outputs": [],
   "source": [
    "cohen_kappa_score_CB =  cohen_kappa_score(Y_test,CBC_500.predict(X_test))"
   ]
  },
  {
   "cell_type": "code",
   "execution_count": 160,
   "id": "b17af8b2",
   "metadata": {},
   "outputs": [
    {
     "data": {
      "text/html": [
       "<div>\n",
       "<style scoped>\n",
       "    .dataframe tbody tr th:only-of-type {\n",
       "        vertical-align: middle;\n",
       "    }\n",
       "\n",
       "    .dataframe tbody tr th {\n",
       "        vertical-align: top;\n",
       "    }\n",
       "\n",
       "    .dataframe thead th {\n",
       "        text-align: right;\n",
       "    }\n",
       "</style>\n",
       "<table border=\"1\" class=\"dataframe\">\n",
       "  <thead>\n",
       "    <tr style=\"text-align: right;\">\n",
       "      <th></th>\n",
       "      <th>Model</th>\n",
       "      <th>Train_Score</th>\n",
       "      <th>Test_Score</th>\n",
       "      <th>Cohen_kappa_score</th>\n",
       "    </tr>\n",
       "  </thead>\n",
       "  <tbody>\n",
       "    <tr>\n",
       "      <th>0</th>\n",
       "      <td>AdaBoost_hyper_tuned</td>\n",
       "      <td>0.87</td>\n",
       "      <td>0.86</td>\n",
       "      <td>0.70</td>\n",
       "    </tr>\n",
       "    <tr>\n",
       "      <th>1</th>\n",
       "      <td>Graident_Boosting_hypertune</td>\n",
       "      <td>0.89</td>\n",
       "      <td>0.88</td>\n",
       "      <td>0.74</td>\n",
       "    </tr>\n",
       "    <tr>\n",
       "      <th>2</th>\n",
       "      <td>CatBoost_hypertuned</td>\n",
       "      <td>0.90</td>\n",
       "      <td>0.89</td>\n",
       "      <td>0.76</td>\n",
       "    </tr>\n",
       "  </tbody>\n",
       "</table>\n",
       "</div>"
      ],
      "text/plain": [
       "                         Model  Train_Score  Test_Score  Cohen_kappa_score\n",
       "0         AdaBoost_hyper_tuned         0.87        0.86               0.70\n",
       "1  Graident_Boosting_hypertune         0.89        0.88               0.74\n",
       "2          CatBoost_hypertuned         0.90        0.89               0.76"
      ]
     },
     "execution_count": 160,
     "metadata": {},
     "output_type": "execute_result"
    }
   ],
   "source": [
    "Report_Card2 = Report_Card2.append({'Model' : 'CatBoost_hypertuned', \n",
    "                    'Train_Score' : round(accuracy_score(Y_train, CBC_500.predict(X_train)),2),\n",
    "                    'Test_Score': round(accuracy_score(Y_test, CBC_500.predict(X_test)),2),\n",
    "                    'Cohen_kappa_score' : round(cohen_kappa_score_CB,2)\n",
    "                    }, ignore_index=True)\n",
    "Report_Card2"
   ]
  },
  {
   "cell_type": "code",
   "execution_count": 163,
   "id": "ba497d0e",
   "metadata": {
    "scrolled": true
   },
   "outputs": [
    {
     "name": "stdout",
     "output_type": "stream",
     "text": [
      "              precision    recall  f1-score   support\n",
      "\n",
      "           0       0.90      0.94      0.92       565\n",
      "           1       0.90      0.83      0.87       349\n",
      "\n",
      "    accuracy                           0.90       914\n",
      "   macro avg       0.90      0.89      0.89       914\n",
      "weighted avg       0.90      0.90      0.90       914\n",
      "\n"
     ]
    }
   ],
   "source": [
    "print(classification_report(Y_train, CBC_500.predict(X_train)))"
   ]
  },
  {
   "cell_type": "code",
   "execution_count": 165,
   "id": "db0f2b20",
   "metadata": {},
   "outputs": [
    {
     "name": "stdout",
     "output_type": "stream",
     "text": [
      "              precision    recall  f1-score   support\n",
      "\n",
      "           0       0.90      0.93      0.92       249\n",
      "           1       0.87      0.82      0.84       143\n",
      "\n",
      "    accuracy                           0.89       392\n",
      "   macro avg       0.89      0.87      0.88       392\n",
      "weighted avg       0.89      0.89      0.89       392\n",
      "\n"
     ]
    }
   ],
   "source": [
    "print(classification_report(Y_test, CBC_500.predict(X_test)))"
   ]
  }
 ],
 "metadata": {
  "kernelspec": {
   "display_name": "Python 3 (ipykernel)",
   "language": "python",
   "name": "python3"
  },
  "language_info": {
   "codemirror_mode": {
    "name": "ipython",
    "version": 3
   },
   "file_extension": ".py",
   "mimetype": "text/x-python",
   "name": "python",
   "nbconvert_exporter": "python",
   "pygments_lexer": "ipython3",
   "version": "3.9.7"
  }
 },
 "nbformat": 4,
 "nbformat_minor": 5
}
